{
  "nbformat": 4,
  "nbformat_minor": 0,
  "metadata": {
    "colab": {
      "name": "PSO.ipynb",
      "provenance": []
    },
    "kernelspec": {
      "display_name": "Python 3",
      "name": "python3"
    },
    "widgets": {
      "application/vnd.jupyter.widget-state+json": {
        "c535b60873bb49f6bc263183e784dc23": {
          "model_module": "@jupyter-widgets/controls",
          "model_name": "HBoxModel",
          "state": {
            "_dom_classes": [],
            "_model_module": "@jupyter-widgets/controls",
            "_model_module_version": "1.5.0",
            "_model_name": "HBoxModel",
            "_view_count": null,
            "_view_module": "@jupyter-widgets/controls",
            "_view_module_version": "1.5.0",
            "_view_name": "HBoxView",
            "box_style": "",
            "children": [
              "IPY_MODEL_615dd53b871244ceb0ec8147c74daa7c",
              "IPY_MODEL_dfb7c81db0f34fffaf6dc228399816b5"
            ],
            "layout": "IPY_MODEL_f9478b0adff0466789db8438579e12a1"
          }
        },
        "615dd53b871244ceb0ec8147c74daa7c": {
          "model_module": "@jupyter-widgets/controls",
          "model_name": "FloatProgressModel",
          "state": {
            "_dom_classes": [],
            "_model_module": "@jupyter-widgets/controls",
            "_model_module_version": "1.5.0",
            "_model_name": "FloatProgressModel",
            "_view_count": null,
            "_view_module": "@jupyter-widgets/controls",
            "_view_module_version": "1.5.0",
            "_view_name": "ProgressView",
            "bar_style": "success",
            "description": "100%",
            "description_tooltip": null,
            "layout": "IPY_MODEL_8410f2a46100408885f3a5b36ab60146",
            "max": 244418560,
            "min": 0,
            "orientation": "horizontal",
            "style": "IPY_MODEL_758c2f36204644aa873ebee889e9f96b",
            "value": 244418560
          }
        },
        "dfb7c81db0f34fffaf6dc228399816b5": {
          "model_module": "@jupyter-widgets/controls",
          "model_name": "HTMLModel",
          "state": {
            "_dom_classes": [],
            "_model_module": "@jupyter-widgets/controls",
            "_model_module_version": "1.5.0",
            "_model_name": "HTMLModel",
            "_view_count": null,
            "_view_module": "@jupyter-widgets/controls",
            "_view_module_version": "1.5.0",
            "_view_name": "HTMLView",
            "description": "",
            "description_tooltip": null,
            "layout": "IPY_MODEL_7089afe71c034e2e815c1813538ef220",
            "placeholder": "​",
            "style": "IPY_MODEL_32210713eda9480eab2b8b9b2d50a0d1",
            "value": " 233M/233M [00:04&lt;00:00, 53.0MB/s]"
          }
        },
        "f9478b0adff0466789db8438579e12a1": {
          "model_module": "@jupyter-widgets/base",
          "model_name": "LayoutModel",
          "state": {
            "_model_module": "@jupyter-widgets/base",
            "_model_module_version": "1.2.0",
            "_model_name": "LayoutModel",
            "_view_count": null,
            "_view_module": "@jupyter-widgets/base",
            "_view_module_version": "1.2.0",
            "_view_name": "LayoutView",
            "align_content": null,
            "align_items": null,
            "align_self": null,
            "border": null,
            "bottom": null,
            "display": null,
            "flex": null,
            "flex_flow": null,
            "grid_area": null,
            "grid_auto_columns": null,
            "grid_auto_flow": null,
            "grid_auto_rows": null,
            "grid_column": null,
            "grid_gap": null,
            "grid_row": null,
            "grid_template_areas": null,
            "grid_template_columns": null,
            "grid_template_rows": null,
            "height": null,
            "justify_content": null,
            "justify_items": null,
            "left": null,
            "margin": null,
            "max_height": null,
            "max_width": null,
            "min_height": null,
            "min_width": null,
            "object_fit": null,
            "object_position": null,
            "order": null,
            "overflow": null,
            "overflow_x": null,
            "overflow_y": null,
            "padding": null,
            "right": null,
            "top": null,
            "visibility": null,
            "width": null
          }
        },
        "8410f2a46100408885f3a5b36ab60146": {
          "model_module": "@jupyter-widgets/base",
          "model_name": "LayoutModel",
          "state": {
            "_model_module": "@jupyter-widgets/base",
            "_model_module_version": "1.2.0",
            "_model_name": "LayoutModel",
            "_view_count": null,
            "_view_module": "@jupyter-widgets/base",
            "_view_module_version": "1.2.0",
            "_view_name": "LayoutView",
            "align_content": null,
            "align_items": null,
            "align_self": null,
            "border": null,
            "bottom": null,
            "display": null,
            "flex": null,
            "flex_flow": null,
            "grid_area": null,
            "grid_auto_columns": null,
            "grid_auto_flow": null,
            "grid_auto_rows": null,
            "grid_column": null,
            "grid_gap": null,
            "grid_row": null,
            "grid_template_areas": null,
            "grid_template_columns": null,
            "grid_template_rows": null,
            "height": null,
            "justify_content": null,
            "justify_items": null,
            "left": null,
            "margin": null,
            "max_height": null,
            "max_width": null,
            "min_height": null,
            "min_width": null,
            "object_fit": null,
            "object_position": null,
            "order": null,
            "overflow": null,
            "overflow_x": null,
            "overflow_y": null,
            "padding": null,
            "right": null,
            "top": null,
            "visibility": null,
            "width": null
          }
        },
        "758c2f36204644aa873ebee889e9f96b": {
          "model_module": "@jupyter-widgets/controls",
          "model_name": "ProgressStyleModel",
          "state": {
            "_model_module": "@jupyter-widgets/controls",
            "_model_module_version": "1.5.0",
            "_model_name": "ProgressStyleModel",
            "_view_count": null,
            "_view_module": "@jupyter-widgets/base",
            "_view_module_version": "1.2.0",
            "_view_name": "StyleView",
            "bar_color": null,
            "description_width": "initial"
          }
        },
        "7089afe71c034e2e815c1813538ef220": {
          "model_module": "@jupyter-widgets/base",
          "model_name": "LayoutModel",
          "state": {
            "_model_module": "@jupyter-widgets/base",
            "_model_module_version": "1.2.0",
            "_model_name": "LayoutModel",
            "_view_count": null,
            "_view_module": "@jupyter-widgets/base",
            "_view_module_version": "1.2.0",
            "_view_name": "LayoutView",
            "align_content": null,
            "align_items": null,
            "align_self": null,
            "border": null,
            "bottom": null,
            "display": null,
            "flex": null,
            "flex_flow": null,
            "grid_area": null,
            "grid_auto_columns": null,
            "grid_auto_flow": null,
            "grid_auto_rows": null,
            "grid_column": null,
            "grid_gap": null,
            "grid_row": null,
            "grid_template_areas": null,
            "grid_template_columns": null,
            "grid_template_rows": null,
            "height": null,
            "justify_content": null,
            "justify_items": null,
            "left": null,
            "margin": null,
            "max_height": null,
            "max_width": null,
            "min_height": null,
            "min_width": null,
            "object_fit": null,
            "object_position": null,
            "order": null,
            "overflow": null,
            "overflow_x": null,
            "overflow_y": null,
            "padding": null,
            "right": null,
            "top": null,
            "visibility": null,
            "width": null
          }
        },
        "32210713eda9480eab2b8b9b2d50a0d1": {
          "model_module": "@jupyter-widgets/controls",
          "model_name": "DescriptionStyleModel",
          "state": {
            "_model_module": "@jupyter-widgets/controls",
            "_model_module_version": "1.5.0",
            "_model_name": "DescriptionStyleModel",
            "_view_count": null,
            "_view_module": "@jupyter-widgets/base",
            "_view_module_version": "1.2.0",
            "_view_name": "StyleView",
            "description_width": ""
          }
        },
        "836c79c200254f5dbf120cbdb003cb79": {
          "model_module": "@jupyter-widgets/controls",
          "model_name": "HBoxModel",
          "state": {
            "_dom_classes": [],
            "_model_module": "@jupyter-widgets/controls",
            "_model_module_version": "1.5.0",
            "_model_name": "HBoxModel",
            "_view_count": null,
            "_view_module": "@jupyter-widgets/controls",
            "_view_module_version": "1.5.0",
            "_view_name": "HBoxView",
            "box_style": "",
            "children": [
              "IPY_MODEL_c6306b286f4d4f6483e1b4567a9913b7",
              "IPY_MODEL_49ebbdd8977d464797c1a0b700a1e5a4"
            ],
            "layout": "IPY_MODEL_91d225c9fc784073b1cb6ec0d50c192d"
          }
        },
        "c6306b286f4d4f6483e1b4567a9913b7": {
          "model_module": "@jupyter-widgets/controls",
          "model_name": "FloatProgressModel",
          "state": {
            "_dom_classes": [],
            "_model_module": "@jupyter-widgets/controls",
            "_model_module_version": "1.5.0",
            "_model_name": "FloatProgressModel",
            "_view_count": null,
            "_view_module": "@jupyter-widgets/controls",
            "_view_module_version": "1.5.0",
            "_view_name": "ProgressView",
            "bar_style": "success",
            "description": "",
            "description_tooltip": null,
            "layout": "IPY_MODEL_1fbe8ca09f0a47b19debd1cb6d157d5d",
            "max": 1,
            "min": 0,
            "orientation": "horizontal",
            "style": "IPY_MODEL_4a019517ce87471282bbf69114fb28df",
            "value": 1
          }
        },
        "49ebbdd8977d464797c1a0b700a1e5a4": {
          "model_module": "@jupyter-widgets/controls",
          "model_name": "HTMLModel",
          "state": {
            "_dom_classes": [],
            "_model_module": "@jupyter-widgets/controls",
            "_model_module_version": "1.5.0",
            "_model_name": "HTMLModel",
            "_view_count": null,
            "_view_module": "@jupyter-widgets/controls",
            "_view_module_version": "1.5.0",
            "_view_name": "HTMLView",
            "description": "",
            "description_tooltip": null,
            "layout": "IPY_MODEL_da416d16ec984ce68e455810052af49c",
            "placeholder": "​",
            "style": "IPY_MODEL_f7860ca4baa0446d8ec549d13ab4e309",
            "value": " 9920512/? [00:01&lt;00:00, 6860259.74it/s]"
          }
        },
        "91d225c9fc784073b1cb6ec0d50c192d": {
          "model_module": "@jupyter-widgets/base",
          "model_name": "LayoutModel",
          "state": {
            "_model_module": "@jupyter-widgets/base",
            "_model_module_version": "1.2.0",
            "_model_name": "LayoutModel",
            "_view_count": null,
            "_view_module": "@jupyter-widgets/base",
            "_view_module_version": "1.2.0",
            "_view_name": "LayoutView",
            "align_content": null,
            "align_items": null,
            "align_self": null,
            "border": null,
            "bottom": null,
            "display": null,
            "flex": null,
            "flex_flow": null,
            "grid_area": null,
            "grid_auto_columns": null,
            "grid_auto_flow": null,
            "grid_auto_rows": null,
            "grid_column": null,
            "grid_gap": null,
            "grid_row": null,
            "grid_template_areas": null,
            "grid_template_columns": null,
            "grid_template_rows": null,
            "height": null,
            "justify_content": null,
            "justify_items": null,
            "left": null,
            "margin": null,
            "max_height": null,
            "max_width": null,
            "min_height": null,
            "min_width": null,
            "object_fit": null,
            "object_position": null,
            "order": null,
            "overflow": null,
            "overflow_x": null,
            "overflow_y": null,
            "padding": null,
            "right": null,
            "top": null,
            "visibility": null,
            "width": null
          }
        },
        "1fbe8ca09f0a47b19debd1cb6d157d5d": {
          "model_module": "@jupyter-widgets/base",
          "model_name": "LayoutModel",
          "state": {
            "_model_module": "@jupyter-widgets/base",
            "_model_module_version": "1.2.0",
            "_model_name": "LayoutModel",
            "_view_count": null,
            "_view_module": "@jupyter-widgets/base",
            "_view_module_version": "1.2.0",
            "_view_name": "LayoutView",
            "align_content": null,
            "align_items": null,
            "align_self": null,
            "border": null,
            "bottom": null,
            "display": null,
            "flex": null,
            "flex_flow": null,
            "grid_area": null,
            "grid_auto_columns": null,
            "grid_auto_flow": null,
            "grid_auto_rows": null,
            "grid_column": null,
            "grid_gap": null,
            "grid_row": null,
            "grid_template_areas": null,
            "grid_template_columns": null,
            "grid_template_rows": null,
            "height": null,
            "justify_content": null,
            "justify_items": null,
            "left": null,
            "margin": null,
            "max_height": null,
            "max_width": null,
            "min_height": null,
            "min_width": null,
            "object_fit": null,
            "object_position": null,
            "order": null,
            "overflow": null,
            "overflow_x": null,
            "overflow_y": null,
            "padding": null,
            "right": null,
            "top": null,
            "visibility": null,
            "width": null
          }
        },
        "4a019517ce87471282bbf69114fb28df": {
          "model_module": "@jupyter-widgets/controls",
          "model_name": "ProgressStyleModel",
          "state": {
            "_model_module": "@jupyter-widgets/controls",
            "_model_module_version": "1.5.0",
            "_model_name": "ProgressStyleModel",
            "_view_count": null,
            "_view_module": "@jupyter-widgets/base",
            "_view_module_version": "1.2.0",
            "_view_name": "StyleView",
            "bar_color": null,
            "description_width": "initial"
          }
        },
        "da416d16ec984ce68e455810052af49c": {
          "model_module": "@jupyter-widgets/base",
          "model_name": "LayoutModel",
          "state": {
            "_model_module": "@jupyter-widgets/base",
            "_model_module_version": "1.2.0",
            "_model_name": "LayoutModel",
            "_view_count": null,
            "_view_module": "@jupyter-widgets/base",
            "_view_module_version": "1.2.0",
            "_view_name": "LayoutView",
            "align_content": null,
            "align_items": null,
            "align_self": null,
            "border": null,
            "bottom": null,
            "display": null,
            "flex": null,
            "flex_flow": null,
            "grid_area": null,
            "grid_auto_columns": null,
            "grid_auto_flow": null,
            "grid_auto_rows": null,
            "grid_column": null,
            "grid_gap": null,
            "grid_row": null,
            "grid_template_areas": null,
            "grid_template_columns": null,
            "grid_template_rows": null,
            "height": null,
            "justify_content": null,
            "justify_items": null,
            "left": null,
            "margin": null,
            "max_height": null,
            "max_width": null,
            "min_height": null,
            "min_width": null,
            "object_fit": null,
            "object_position": null,
            "order": null,
            "overflow": null,
            "overflow_x": null,
            "overflow_y": null,
            "padding": null,
            "right": null,
            "top": null,
            "visibility": null,
            "width": null
          }
        },
        "f7860ca4baa0446d8ec549d13ab4e309": {
          "model_module": "@jupyter-widgets/controls",
          "model_name": "DescriptionStyleModel",
          "state": {
            "_model_module": "@jupyter-widgets/controls",
            "_model_module_version": "1.5.0",
            "_model_name": "DescriptionStyleModel",
            "_view_count": null,
            "_view_module": "@jupyter-widgets/base",
            "_view_module_version": "1.2.0",
            "_view_name": "StyleView",
            "description_width": ""
          }
        },
        "1c7c1aa925144051a3c4cd0326920f3f": {
          "model_module": "@jupyter-widgets/controls",
          "model_name": "HBoxModel",
          "state": {
            "_dom_classes": [],
            "_model_module": "@jupyter-widgets/controls",
            "_model_module_version": "1.5.0",
            "_model_name": "HBoxModel",
            "_view_count": null,
            "_view_module": "@jupyter-widgets/controls",
            "_view_module_version": "1.5.0",
            "_view_name": "HBoxView",
            "box_style": "",
            "children": [
              "IPY_MODEL_32a9ffa464094813b237ef3bfe78cd9a",
              "IPY_MODEL_d5527addae8e421ca62f908871840eaa"
            ],
            "layout": "IPY_MODEL_1585a405a5be4578ae2f7ebf87ba5196"
          }
        },
        "32a9ffa464094813b237ef3bfe78cd9a": {
          "model_module": "@jupyter-widgets/controls",
          "model_name": "FloatProgressModel",
          "state": {
            "_dom_classes": [],
            "_model_module": "@jupyter-widgets/controls",
            "_model_module_version": "1.5.0",
            "_model_name": "FloatProgressModel",
            "_view_count": null,
            "_view_module": "@jupyter-widgets/controls",
            "_view_module_version": "1.5.0",
            "_view_name": "ProgressView",
            "bar_style": "success",
            "description": "",
            "description_tooltip": null,
            "layout": "IPY_MODEL_805a79b9ffd243f6a9cf48ddc55dec21",
            "max": 1,
            "min": 0,
            "orientation": "horizontal",
            "style": "IPY_MODEL_3852b1ab27c54e9bae0bfa12c98bfc13",
            "value": 1
          }
        },
        "d5527addae8e421ca62f908871840eaa": {
          "model_module": "@jupyter-widgets/controls",
          "model_name": "HTMLModel",
          "state": {
            "_dom_classes": [],
            "_model_module": "@jupyter-widgets/controls",
            "_model_module_version": "1.5.0",
            "_model_name": "HTMLModel",
            "_view_count": null,
            "_view_module": "@jupyter-widgets/controls",
            "_view_module_version": "1.5.0",
            "_view_name": "HTMLView",
            "description": "",
            "description_tooltip": null,
            "layout": "IPY_MODEL_f0bc81f4a1ed4a56a06e9191055b7f39",
            "placeholder": "​",
            "style": "IPY_MODEL_05a087fde184427cb8b5e0d901936110",
            "value": " 32768/? [00:00&lt;00:00, 81817.62it/s]"
          }
        },
        "1585a405a5be4578ae2f7ebf87ba5196": {
          "model_module": "@jupyter-widgets/base",
          "model_name": "LayoutModel",
          "state": {
            "_model_module": "@jupyter-widgets/base",
            "_model_module_version": "1.2.0",
            "_model_name": "LayoutModel",
            "_view_count": null,
            "_view_module": "@jupyter-widgets/base",
            "_view_module_version": "1.2.0",
            "_view_name": "LayoutView",
            "align_content": null,
            "align_items": null,
            "align_self": null,
            "border": null,
            "bottom": null,
            "display": null,
            "flex": null,
            "flex_flow": null,
            "grid_area": null,
            "grid_auto_columns": null,
            "grid_auto_flow": null,
            "grid_auto_rows": null,
            "grid_column": null,
            "grid_gap": null,
            "grid_row": null,
            "grid_template_areas": null,
            "grid_template_columns": null,
            "grid_template_rows": null,
            "height": null,
            "justify_content": null,
            "justify_items": null,
            "left": null,
            "margin": null,
            "max_height": null,
            "max_width": null,
            "min_height": null,
            "min_width": null,
            "object_fit": null,
            "object_position": null,
            "order": null,
            "overflow": null,
            "overflow_x": null,
            "overflow_y": null,
            "padding": null,
            "right": null,
            "top": null,
            "visibility": null,
            "width": null
          }
        },
        "805a79b9ffd243f6a9cf48ddc55dec21": {
          "model_module": "@jupyter-widgets/base",
          "model_name": "LayoutModel",
          "state": {
            "_model_module": "@jupyter-widgets/base",
            "_model_module_version": "1.2.0",
            "_model_name": "LayoutModel",
            "_view_count": null,
            "_view_module": "@jupyter-widgets/base",
            "_view_module_version": "1.2.0",
            "_view_name": "LayoutView",
            "align_content": null,
            "align_items": null,
            "align_self": null,
            "border": null,
            "bottom": null,
            "display": null,
            "flex": null,
            "flex_flow": null,
            "grid_area": null,
            "grid_auto_columns": null,
            "grid_auto_flow": null,
            "grid_auto_rows": null,
            "grid_column": null,
            "grid_gap": null,
            "grid_row": null,
            "grid_template_areas": null,
            "grid_template_columns": null,
            "grid_template_rows": null,
            "height": null,
            "justify_content": null,
            "justify_items": null,
            "left": null,
            "margin": null,
            "max_height": null,
            "max_width": null,
            "min_height": null,
            "min_width": null,
            "object_fit": null,
            "object_position": null,
            "order": null,
            "overflow": null,
            "overflow_x": null,
            "overflow_y": null,
            "padding": null,
            "right": null,
            "top": null,
            "visibility": null,
            "width": null
          }
        },
        "3852b1ab27c54e9bae0bfa12c98bfc13": {
          "model_module": "@jupyter-widgets/controls",
          "model_name": "ProgressStyleModel",
          "state": {
            "_model_module": "@jupyter-widgets/controls",
            "_model_module_version": "1.5.0",
            "_model_name": "ProgressStyleModel",
            "_view_count": null,
            "_view_module": "@jupyter-widgets/base",
            "_view_module_version": "1.2.0",
            "_view_name": "StyleView",
            "bar_color": null,
            "description_width": "initial"
          }
        },
        "f0bc81f4a1ed4a56a06e9191055b7f39": {
          "model_module": "@jupyter-widgets/base",
          "model_name": "LayoutModel",
          "state": {
            "_model_module": "@jupyter-widgets/base",
            "_model_module_version": "1.2.0",
            "_model_name": "LayoutModel",
            "_view_count": null,
            "_view_module": "@jupyter-widgets/base",
            "_view_module_version": "1.2.0",
            "_view_name": "LayoutView",
            "align_content": null,
            "align_items": null,
            "align_self": null,
            "border": null,
            "bottom": null,
            "display": null,
            "flex": null,
            "flex_flow": null,
            "grid_area": null,
            "grid_auto_columns": null,
            "grid_auto_flow": null,
            "grid_auto_rows": null,
            "grid_column": null,
            "grid_gap": null,
            "grid_row": null,
            "grid_template_areas": null,
            "grid_template_columns": null,
            "grid_template_rows": null,
            "height": null,
            "justify_content": null,
            "justify_items": null,
            "left": null,
            "margin": null,
            "max_height": null,
            "max_width": null,
            "min_height": null,
            "min_width": null,
            "object_fit": null,
            "object_position": null,
            "order": null,
            "overflow": null,
            "overflow_x": null,
            "overflow_y": null,
            "padding": null,
            "right": null,
            "top": null,
            "visibility": null,
            "width": null
          }
        },
        "05a087fde184427cb8b5e0d901936110": {
          "model_module": "@jupyter-widgets/controls",
          "model_name": "DescriptionStyleModel",
          "state": {
            "_model_module": "@jupyter-widgets/controls",
            "_model_module_version": "1.5.0",
            "_model_name": "DescriptionStyleModel",
            "_view_count": null,
            "_view_module": "@jupyter-widgets/base",
            "_view_module_version": "1.2.0",
            "_view_name": "StyleView",
            "description_width": ""
          }
        },
        "05dc444b6e5142c1b75c37c29cc5b8ca": {
          "model_module": "@jupyter-widgets/controls",
          "model_name": "HBoxModel",
          "state": {
            "_dom_classes": [],
            "_model_module": "@jupyter-widgets/controls",
            "_model_module_version": "1.5.0",
            "_model_name": "HBoxModel",
            "_view_count": null,
            "_view_module": "@jupyter-widgets/controls",
            "_view_module_version": "1.5.0",
            "_view_name": "HBoxView",
            "box_style": "",
            "children": [
              "IPY_MODEL_f619151f48b149f78bc07737d5335e83",
              "IPY_MODEL_15feb8d021504eabaf3ed485ae07c390"
            ],
            "layout": "IPY_MODEL_d667797d7e994028acc7623684fafe26"
          }
        },
        "f619151f48b149f78bc07737d5335e83": {
          "model_module": "@jupyter-widgets/controls",
          "model_name": "FloatProgressModel",
          "state": {
            "_dom_classes": [],
            "_model_module": "@jupyter-widgets/controls",
            "_model_module_version": "1.5.0",
            "_model_name": "FloatProgressModel",
            "_view_count": null,
            "_view_module": "@jupyter-widgets/controls",
            "_view_module_version": "1.5.0",
            "_view_name": "ProgressView",
            "bar_style": "success",
            "description": "",
            "description_tooltip": null,
            "layout": "IPY_MODEL_b7d5754cc34f4ada99a66c8a99e8d67f",
            "max": 1,
            "min": 0,
            "orientation": "horizontal",
            "style": "IPY_MODEL_a64436bbeeda4d589756cde07d469507",
            "value": 1
          }
        },
        "15feb8d021504eabaf3ed485ae07c390": {
          "model_module": "@jupyter-widgets/controls",
          "model_name": "HTMLModel",
          "state": {
            "_dom_classes": [],
            "_model_module": "@jupyter-widgets/controls",
            "_model_module_version": "1.5.0",
            "_model_name": "HTMLModel",
            "_view_count": null,
            "_view_module": "@jupyter-widgets/controls",
            "_view_module_version": "1.5.0",
            "_view_name": "HTMLView",
            "description": "",
            "description_tooltip": null,
            "layout": "IPY_MODEL_56b4ca430a31410ebf98b83db0a624b8",
            "placeholder": "​",
            "style": "IPY_MODEL_5d634c33c0a84f89a1f5f2b882f9c6b7",
            "value": " 1654784/? [00:00&lt;00:00, 5677813.54it/s]"
          }
        },
        "d667797d7e994028acc7623684fafe26": {
          "model_module": "@jupyter-widgets/base",
          "model_name": "LayoutModel",
          "state": {
            "_model_module": "@jupyter-widgets/base",
            "_model_module_version": "1.2.0",
            "_model_name": "LayoutModel",
            "_view_count": null,
            "_view_module": "@jupyter-widgets/base",
            "_view_module_version": "1.2.0",
            "_view_name": "LayoutView",
            "align_content": null,
            "align_items": null,
            "align_self": null,
            "border": null,
            "bottom": null,
            "display": null,
            "flex": null,
            "flex_flow": null,
            "grid_area": null,
            "grid_auto_columns": null,
            "grid_auto_flow": null,
            "grid_auto_rows": null,
            "grid_column": null,
            "grid_gap": null,
            "grid_row": null,
            "grid_template_areas": null,
            "grid_template_columns": null,
            "grid_template_rows": null,
            "height": null,
            "justify_content": null,
            "justify_items": null,
            "left": null,
            "margin": null,
            "max_height": null,
            "max_width": null,
            "min_height": null,
            "min_width": null,
            "object_fit": null,
            "object_position": null,
            "order": null,
            "overflow": null,
            "overflow_x": null,
            "overflow_y": null,
            "padding": null,
            "right": null,
            "top": null,
            "visibility": null,
            "width": null
          }
        },
        "b7d5754cc34f4ada99a66c8a99e8d67f": {
          "model_module": "@jupyter-widgets/base",
          "model_name": "LayoutModel",
          "state": {
            "_model_module": "@jupyter-widgets/base",
            "_model_module_version": "1.2.0",
            "_model_name": "LayoutModel",
            "_view_count": null,
            "_view_module": "@jupyter-widgets/base",
            "_view_module_version": "1.2.0",
            "_view_name": "LayoutView",
            "align_content": null,
            "align_items": null,
            "align_self": null,
            "border": null,
            "bottom": null,
            "display": null,
            "flex": null,
            "flex_flow": null,
            "grid_area": null,
            "grid_auto_columns": null,
            "grid_auto_flow": null,
            "grid_auto_rows": null,
            "grid_column": null,
            "grid_gap": null,
            "grid_row": null,
            "grid_template_areas": null,
            "grid_template_columns": null,
            "grid_template_rows": null,
            "height": null,
            "justify_content": null,
            "justify_items": null,
            "left": null,
            "margin": null,
            "max_height": null,
            "max_width": null,
            "min_height": null,
            "min_width": null,
            "object_fit": null,
            "object_position": null,
            "order": null,
            "overflow": null,
            "overflow_x": null,
            "overflow_y": null,
            "padding": null,
            "right": null,
            "top": null,
            "visibility": null,
            "width": null
          }
        },
        "a64436bbeeda4d589756cde07d469507": {
          "model_module": "@jupyter-widgets/controls",
          "model_name": "ProgressStyleModel",
          "state": {
            "_model_module": "@jupyter-widgets/controls",
            "_model_module_version": "1.5.0",
            "_model_name": "ProgressStyleModel",
            "_view_count": null,
            "_view_module": "@jupyter-widgets/base",
            "_view_module_version": "1.2.0",
            "_view_name": "StyleView",
            "bar_color": null,
            "description_width": "initial"
          }
        },
        "56b4ca430a31410ebf98b83db0a624b8": {
          "model_module": "@jupyter-widgets/base",
          "model_name": "LayoutModel",
          "state": {
            "_model_module": "@jupyter-widgets/base",
            "_model_module_version": "1.2.0",
            "_model_name": "LayoutModel",
            "_view_count": null,
            "_view_module": "@jupyter-widgets/base",
            "_view_module_version": "1.2.0",
            "_view_name": "LayoutView",
            "align_content": null,
            "align_items": null,
            "align_self": null,
            "border": null,
            "bottom": null,
            "display": null,
            "flex": null,
            "flex_flow": null,
            "grid_area": null,
            "grid_auto_columns": null,
            "grid_auto_flow": null,
            "grid_auto_rows": null,
            "grid_column": null,
            "grid_gap": null,
            "grid_row": null,
            "grid_template_areas": null,
            "grid_template_columns": null,
            "grid_template_rows": null,
            "height": null,
            "justify_content": null,
            "justify_items": null,
            "left": null,
            "margin": null,
            "max_height": null,
            "max_width": null,
            "min_height": null,
            "min_width": null,
            "object_fit": null,
            "object_position": null,
            "order": null,
            "overflow": null,
            "overflow_x": null,
            "overflow_y": null,
            "padding": null,
            "right": null,
            "top": null,
            "visibility": null,
            "width": null
          }
        },
        "5d634c33c0a84f89a1f5f2b882f9c6b7": {
          "model_module": "@jupyter-widgets/controls",
          "model_name": "DescriptionStyleModel",
          "state": {
            "_model_module": "@jupyter-widgets/controls",
            "_model_module_version": "1.5.0",
            "_model_name": "DescriptionStyleModel",
            "_view_count": null,
            "_view_module": "@jupyter-widgets/base",
            "_view_module_version": "1.2.0",
            "_view_name": "StyleView",
            "description_width": ""
          }
        },
        "dc4eb46b2f384abab55a737516ce3ed7": {
          "model_module": "@jupyter-widgets/controls",
          "model_name": "HBoxModel",
          "state": {
            "_dom_classes": [],
            "_model_module": "@jupyter-widgets/controls",
            "_model_module_version": "1.5.0",
            "_model_name": "HBoxModel",
            "_view_count": null,
            "_view_module": "@jupyter-widgets/controls",
            "_view_module_version": "1.5.0",
            "_view_name": "HBoxView",
            "box_style": "",
            "children": [
              "IPY_MODEL_98d75029e7374446bbbd3cc6675ceed4",
              "IPY_MODEL_be88ee052d534c12a8d701c38fadeb5a"
            ],
            "layout": "IPY_MODEL_334ec57f47c747668d49e68cf42518dc"
          }
        },
        "98d75029e7374446bbbd3cc6675ceed4": {
          "model_module": "@jupyter-widgets/controls",
          "model_name": "FloatProgressModel",
          "state": {
            "_dom_classes": [],
            "_model_module": "@jupyter-widgets/controls",
            "_model_module_version": "1.5.0",
            "_model_name": "FloatProgressModel",
            "_view_count": null,
            "_view_module": "@jupyter-widgets/controls",
            "_view_module_version": "1.5.0",
            "_view_name": "ProgressView",
            "bar_style": "success",
            "description": "",
            "description_tooltip": null,
            "layout": "IPY_MODEL_99b1426f2993488c8e02ca93dd916492",
            "max": 1,
            "min": 0,
            "orientation": "horizontal",
            "style": "IPY_MODEL_fb6febb206414b62b946cd51b37fb3ae",
            "value": 1
          }
        },
        "be88ee052d534c12a8d701c38fadeb5a": {
          "model_module": "@jupyter-widgets/controls",
          "model_name": "HTMLModel",
          "state": {
            "_dom_classes": [],
            "_model_module": "@jupyter-widgets/controls",
            "_model_module_version": "1.5.0",
            "_model_name": "HTMLModel",
            "_view_count": null,
            "_view_module": "@jupyter-widgets/controls",
            "_view_module_version": "1.5.0",
            "_view_name": "HTMLView",
            "description": "",
            "description_tooltip": null,
            "layout": "IPY_MODEL_6cf402c21e8b4d8fa1b80df31ba4e3c6",
            "placeholder": "​",
            "style": "IPY_MODEL_d79afc656f444194b706f45e015b7969",
            "value": " 8192/? [00:00&lt;00:00, 19030.71it/s]"
          }
        },
        "334ec57f47c747668d49e68cf42518dc": {
          "model_module": "@jupyter-widgets/base",
          "model_name": "LayoutModel",
          "state": {
            "_model_module": "@jupyter-widgets/base",
            "_model_module_version": "1.2.0",
            "_model_name": "LayoutModel",
            "_view_count": null,
            "_view_module": "@jupyter-widgets/base",
            "_view_module_version": "1.2.0",
            "_view_name": "LayoutView",
            "align_content": null,
            "align_items": null,
            "align_self": null,
            "border": null,
            "bottom": null,
            "display": null,
            "flex": null,
            "flex_flow": null,
            "grid_area": null,
            "grid_auto_columns": null,
            "grid_auto_flow": null,
            "grid_auto_rows": null,
            "grid_column": null,
            "grid_gap": null,
            "grid_row": null,
            "grid_template_areas": null,
            "grid_template_columns": null,
            "grid_template_rows": null,
            "height": null,
            "justify_content": null,
            "justify_items": null,
            "left": null,
            "margin": null,
            "max_height": null,
            "max_width": null,
            "min_height": null,
            "min_width": null,
            "object_fit": null,
            "object_position": null,
            "order": null,
            "overflow": null,
            "overflow_x": null,
            "overflow_y": null,
            "padding": null,
            "right": null,
            "top": null,
            "visibility": null,
            "width": null
          }
        },
        "99b1426f2993488c8e02ca93dd916492": {
          "model_module": "@jupyter-widgets/base",
          "model_name": "LayoutModel",
          "state": {
            "_model_module": "@jupyter-widgets/base",
            "_model_module_version": "1.2.0",
            "_model_name": "LayoutModel",
            "_view_count": null,
            "_view_module": "@jupyter-widgets/base",
            "_view_module_version": "1.2.0",
            "_view_name": "LayoutView",
            "align_content": null,
            "align_items": null,
            "align_self": null,
            "border": null,
            "bottom": null,
            "display": null,
            "flex": null,
            "flex_flow": null,
            "grid_area": null,
            "grid_auto_columns": null,
            "grid_auto_flow": null,
            "grid_auto_rows": null,
            "grid_column": null,
            "grid_gap": null,
            "grid_row": null,
            "grid_template_areas": null,
            "grid_template_columns": null,
            "grid_template_rows": null,
            "height": null,
            "justify_content": null,
            "justify_items": null,
            "left": null,
            "margin": null,
            "max_height": null,
            "max_width": null,
            "min_height": null,
            "min_width": null,
            "object_fit": null,
            "object_position": null,
            "order": null,
            "overflow": null,
            "overflow_x": null,
            "overflow_y": null,
            "padding": null,
            "right": null,
            "top": null,
            "visibility": null,
            "width": null
          }
        },
        "fb6febb206414b62b946cd51b37fb3ae": {
          "model_module": "@jupyter-widgets/controls",
          "model_name": "ProgressStyleModel",
          "state": {
            "_model_module": "@jupyter-widgets/controls",
            "_model_module_version": "1.5.0",
            "_model_name": "ProgressStyleModel",
            "_view_count": null,
            "_view_module": "@jupyter-widgets/base",
            "_view_module_version": "1.2.0",
            "_view_name": "StyleView",
            "bar_color": null,
            "description_width": "initial"
          }
        },
        "6cf402c21e8b4d8fa1b80df31ba4e3c6": {
          "model_module": "@jupyter-widgets/base",
          "model_name": "LayoutModel",
          "state": {
            "_model_module": "@jupyter-widgets/base",
            "_model_module_version": "1.2.0",
            "_model_name": "LayoutModel",
            "_view_count": null,
            "_view_module": "@jupyter-widgets/base",
            "_view_module_version": "1.2.0",
            "_view_name": "LayoutView",
            "align_content": null,
            "align_items": null,
            "align_self": null,
            "border": null,
            "bottom": null,
            "display": null,
            "flex": null,
            "flex_flow": null,
            "grid_area": null,
            "grid_auto_columns": null,
            "grid_auto_flow": null,
            "grid_auto_rows": null,
            "grid_column": null,
            "grid_gap": null,
            "grid_row": null,
            "grid_template_areas": null,
            "grid_template_columns": null,
            "grid_template_rows": null,
            "height": null,
            "justify_content": null,
            "justify_items": null,
            "left": null,
            "margin": null,
            "max_height": null,
            "max_width": null,
            "min_height": null,
            "min_width": null,
            "object_fit": null,
            "object_position": null,
            "order": null,
            "overflow": null,
            "overflow_x": null,
            "overflow_y": null,
            "padding": null,
            "right": null,
            "top": null,
            "visibility": null,
            "width": null
          }
        },
        "d79afc656f444194b706f45e015b7969": {
          "model_module": "@jupyter-widgets/controls",
          "model_name": "DescriptionStyleModel",
          "state": {
            "_model_module": "@jupyter-widgets/controls",
            "_model_module_version": "1.5.0",
            "_model_name": "DescriptionStyleModel",
            "_view_count": null,
            "_view_module": "@jupyter-widgets/base",
            "_view_module_version": "1.2.0",
            "_view_name": "StyleView",
            "description_width": ""
          }
        }
      }
    }
  },
  "cells": [
    {
      "cell_type": "code",
      "metadata": {
        "colab": {
          "base_uri": "https://localhost:8080/"
        },
        "id": "_gDQMtk8CYI0",
        "outputId": "2548a08a-67ae-428b-9277-12d05fb797ab"
      },
      "source": [
        "# Mount drive\n",
        "import os\n",
        "from google.colab import drive\n",
        "drive.mount('/gdrive')\n",
        "\n",
        "root = '/gdrive/My Drive/KAIST/CS454 AI-Based SE/Code'\n"
      ],
      "execution_count": null,
      "outputs": [
        {
          "output_type": "stream",
          "text": [
            "Mounted at /gdrive\n"
          ],
          "name": "stdout"
        }
      ]
    },
    {
      "cell_type": "code",
      "metadata": {
        "colab": {
          "base_uri": "https://localhost:8080/",
          "height": 120,
          "referenced_widgets": [
            "c535b60873bb49f6bc263183e784dc23",
            "615dd53b871244ceb0ec8147c74daa7c",
            "dfb7c81db0f34fffaf6dc228399816b5",
            "f9478b0adff0466789db8438579e12a1",
            "8410f2a46100408885f3a5b36ab60146",
            "758c2f36204644aa873ebee889e9f96b",
            "7089afe71c034e2e815c1813538ef220",
            "32210713eda9480eab2b8b9b2d50a0d1"
          ]
        },
        "id": "uztVyEYrDnDD",
        "outputId": "79d70264-ae17-4865-bacf-e6147f3e7b8a"
      },
      "source": [
        "from PIL import Image\n",
        "from tqdm import tqdm\n",
        "from pathlib import Path\n",
        "import time\n",
        "import matplotlib.pyplot as plt\n",
        "\n",
        "import numpy as np\n",
        "import torch\n",
        "import torch.nn as nn\n",
        "import torch.nn.functional as F\n",
        "import torch.optim as optim\n",
        "from torchvision.datasets import MNIST, ImageFolder\n",
        "from torch.utils.data import Dataset, DataLoader\n",
        "from torchvision import transforms\n",
        "from google.colab.patches import cv2_imshow\n",
        "\n",
        "model = torch.hub.load('pytorch/vision:v0.6.0', 'alexnet', pretrained=True)"
      ],
      "execution_count": null,
      "outputs": [
        {
          "output_type": "stream",
          "text": [
            "Downloading: \"https://github.com/pytorch/vision/archive/v0.6.0.zip\" to /root/.cache/torch/hub/v0.6.0.zip\n",
            "Downloading: \"https://download.pytorch.org/models/alexnet-owt-4df8aa71.pth\" to /root/.cache/torch/hub/checkpoints/alexnet-owt-4df8aa71.pth\n"
          ],
          "name": "stderr"
        },
        {
          "output_type": "display_data",
          "data": {
            "application/vnd.jupyter.widget-view+json": {
              "model_id": "c535b60873bb49f6bc263183e784dc23",
              "version_major": 2,
              "version_minor": 0
            },
            "text/plain": [
              "HBox(children=(FloatProgress(value=0.0, max=244418560.0), HTML(value='')))"
            ]
          },
          "metadata": {
            "tags": []
          }
        },
        {
          "output_type": "stream",
          "text": [
            "\n"
          ],
          "name": "stdout"
        }
      ]
    },
    {
      "cell_type": "code",
      "metadata": {
        "id": "3_zFVlZTDpuP"
      },
      "source": [
        "# Set hyperparameters\n",
        "from easydict import EasyDict as edict\n",
        "\n",
        "torch.manual_seed(470)\n",
        "torch.cuda.manual_seed(470)\n",
        "\n",
        "args = edict()\n",
        "\n",
        "# basic options \n",
        "args.name = 'main'                   # experiment name.\n",
        "args.ckpt_dir = 'ckpts'              # checkpoint directory name.\n",
        "args.ckpt_iter = 10000               # how frequently checkpoints are saved.\n",
        "args.ckpt_reload = 'best'            # which checkpoint to re-load.\n",
        "args.gpu = True                      # whether or not to use gpu. \n",
        "\n",
        "# data options\n",
        "args.dataroot = 'dataset/mnist'    # where CIFAR10 images exist.\n",
        "args.batch_size = 128                # number of mini-batch size.\n",
        "\n",
        "# training options\n",
        "args.lr = 0.01                        # learning rate.\n",
        "args.epoch = 15                     # training epoch."
      ],
      "execution_count": null,
      "outputs": []
    },
    {
      "cell_type": "code",
      "metadata": {
        "id": "arY6bOoYsaoo"
      },
      "source": [
        "result_dir = Path(root) / 'results_mnist'\n",
        "result_dir.mkdir(parents=True, exist_ok=True)\n",
        "\n",
        "device = 'cuda' if torch.cuda.is_available() and args.gpu else 'cpu' # move the input and model to GPU for speed if available\n",
        "model = model.to(device)"
      ],
      "execution_count": null,
      "outputs": []
    },
    {
      "cell_type": "code",
      "metadata": {
        "colab": {
          "base_uri": "https://localhost:8080/",
          "height": 403,
          "referenced_widgets": [
            "836c79c200254f5dbf120cbdb003cb79",
            "c6306b286f4d4f6483e1b4567a9913b7",
            "49ebbdd8977d464797c1a0b700a1e5a4",
            "91d225c9fc784073b1cb6ec0d50c192d",
            "1fbe8ca09f0a47b19debd1cb6d157d5d",
            "4a019517ce87471282bbf69114fb28df",
            "da416d16ec984ce68e455810052af49c",
            "f7860ca4baa0446d8ec549d13ab4e309",
            "1c7c1aa925144051a3c4cd0326920f3f",
            "32a9ffa464094813b237ef3bfe78cd9a",
            "d5527addae8e421ca62f908871840eaa",
            "1585a405a5be4578ae2f7ebf87ba5196",
            "805a79b9ffd243f6a9cf48ddc55dec21",
            "3852b1ab27c54e9bae0bfa12c98bfc13",
            "f0bc81f4a1ed4a56a06e9191055b7f39",
            "05a087fde184427cb8b5e0d901936110",
            "05dc444b6e5142c1b75c37c29cc5b8ca",
            "f619151f48b149f78bc07737d5335e83",
            "15feb8d021504eabaf3ed485ae07c390",
            "d667797d7e994028acc7623684fafe26",
            "b7d5754cc34f4ada99a66c8a99e8d67f",
            "a64436bbeeda4d589756cde07d469507",
            "56b4ca430a31410ebf98b83db0a624b8",
            "5d634c33c0a84f89a1f5f2b882f9c6b7",
            "dc4eb46b2f384abab55a737516ce3ed7",
            "98d75029e7374446bbbd3cc6675ceed4",
            "be88ee052d534c12a8d701c38fadeb5a",
            "334ec57f47c747668d49e68cf42518dc",
            "99b1426f2993488c8e02ca93dd916492",
            "fb6febb206414b62b946cd51b37fb3ae",
            "6cf402c21e8b4d8fa1b80df31ba4e3c6",
            "d79afc656f444194b706f45e015b7969"
          ]
        },
        "id": "8SbbwODcsbB5",
        "outputId": "e8bbb9e9-ad23-4116-ab2f-40777d6da852"
      },
      "source": [
        "# sample execution (requires torchvision)\n",
        "import torchvision\n",
        "train_transform = transforms.Compose([\n",
        "      torchvision.transforms.ToTensor(),\n",
        "      torchvision.transforms.Normalize(\n",
        "        (0.1307,), (0.3081,))\n",
        "    ])\n",
        "\n",
        "test_transform = transforms.Compose([\n",
        "      torchvision.transforms.ToTensor(),\n",
        "      torchvision.transforms.Normalize(\n",
        "        (0.1307,), (0.3081,))\n",
        "    ])\n",
        "\n",
        "train_dataset = MNIST(args.dataroot, download=True, train=True, transform=train_transform)\n",
        "test_dataset = MNIST(args.dataroot, download=True, train=False, transform=test_transform)\n",
        "\n",
        "train_dataloader = DataLoader(train_dataset, batch_size=args.batch_size, shuffle=True, drop_last=True)\n",
        "test_dataloader = DataLoader(test_dataset, batch_size=args.batch_size, shuffle=False, drop_last=False)"
      ],
      "execution_count": null,
      "outputs": [
        {
          "output_type": "stream",
          "text": [
            "Downloading http://yann.lecun.com/exdb/mnist/train-images-idx3-ubyte.gz to dataset/mnist/MNIST/raw/train-images-idx3-ubyte.gz\n"
          ],
          "name": "stdout"
        },
        {
          "output_type": "display_data",
          "data": {
            "application/vnd.jupyter.widget-view+json": {
              "model_id": "836c79c200254f5dbf120cbdb003cb79",
              "version_major": 2,
              "version_minor": 0
            },
            "text/plain": [
              "HBox(children=(FloatProgress(value=1.0, bar_style='info', max=1.0), HTML(value='')))"
            ]
          },
          "metadata": {
            "tags": []
          }
        },
        {
          "output_type": "stream",
          "text": [
            "Extracting dataset/mnist/MNIST/raw/train-images-idx3-ubyte.gz to dataset/mnist/MNIST/raw\n",
            "Downloading http://yann.lecun.com/exdb/mnist/train-labels-idx1-ubyte.gz to dataset/mnist/MNIST/raw/train-labels-idx1-ubyte.gz\n"
          ],
          "name": "stdout"
        },
        {
          "output_type": "display_data",
          "data": {
            "application/vnd.jupyter.widget-view+json": {
              "model_id": "1c7c1aa925144051a3c4cd0326920f3f",
              "version_major": 2,
              "version_minor": 0
            },
            "text/plain": [
              "HBox(children=(FloatProgress(value=1.0, bar_style='info', max=1.0), HTML(value='')))"
            ]
          },
          "metadata": {
            "tags": []
          }
        },
        {
          "output_type": "stream",
          "text": [
            "Extracting dataset/mnist/MNIST/raw/train-labels-idx1-ubyte.gz to dataset/mnist/MNIST/raw\n",
            "Downloading http://yann.lecun.com/exdb/mnist/t10k-images-idx3-ubyte.gz to dataset/mnist/MNIST/raw/t10k-images-idx3-ubyte.gz\n"
          ],
          "name": "stdout"
        },
        {
          "output_type": "display_data",
          "data": {
            "application/vnd.jupyter.widget-view+json": {
              "model_id": "05dc444b6e5142c1b75c37c29cc5b8ca",
              "version_major": 2,
              "version_minor": 0
            },
            "text/plain": [
              "HBox(children=(FloatProgress(value=1.0, bar_style='info', max=1.0), HTML(value='')))"
            ]
          },
          "metadata": {
            "tags": []
          }
        },
        {
          "output_type": "stream",
          "text": [
            "Extracting dataset/mnist/MNIST/raw/t10k-images-idx3-ubyte.gz to dataset/mnist/MNIST/raw\n",
            "Downloading http://yann.lecun.com/exdb/mnist/t10k-labels-idx1-ubyte.gz to dataset/mnist/MNIST/raw/t10k-labels-idx1-ubyte.gz\n",
            "\n",
            "\n"
          ],
          "name": "stdout"
        },
        {
          "output_type": "display_data",
          "data": {
            "application/vnd.jupyter.widget-view+json": {
              "model_id": "dc4eb46b2f384abab55a737516ce3ed7",
              "version_major": 2,
              "version_minor": 0
            },
            "text/plain": [
              "HBox(children=(FloatProgress(value=1.0, bar_style='info', max=1.0), HTML(value='')))"
            ]
          },
          "metadata": {
            "tags": []
          }
        },
        {
          "output_type": "stream",
          "text": [
            "Extracting dataset/mnist/MNIST/raw/t10k-labels-idx1-ubyte.gz to dataset/mnist/MNIST/raw\n",
            "Processing...\n",
            "Done!\n"
          ],
          "name": "stdout"
        },
        {
          "output_type": "stream",
          "text": [
            "/usr/local/lib/python3.6/dist-packages/torchvision/datasets/mnist.py:480: UserWarning: The given NumPy array is not writeable, and PyTorch does not support non-writeable tensors. This means you can write to the underlying (supposedly non-writeable) NumPy array using the tensor. You may want to copy the array to protect its data or make it writeable before converting it to a tensor. This type of warning will be suppressed for the rest of this program. (Triggered internally at  /pytorch/torch/csrc/utils/tensor_numpy.cpp:141.)\n",
            "  return torch.from_numpy(parsed.astype(m[2], copy=False)).view(*s)\n"
          ],
          "name": "stderr"
        }
      ]
    },
    {
      "cell_type": "code",
      "metadata": {
        "colab": {
          "base_uri": "https://localhost:8080/"
        },
        "id": "eEHbZYU2sdlY",
        "outputId": "eb593da9-e86f-4f4f-f640-52e9dde9c8e8"
      },
      "source": [
        "!ls dataset/mnist/MNIST/raw"
      ],
      "execution_count": null,
      "outputs": [
        {
          "output_type": "stream",
          "text": [
            "t10k-images-idx3-ubyte\t   train-images-idx3-ubyte\n",
            "t10k-images-idx3-ubyte.gz  train-images-idx3-ubyte.gz\n",
            "t10k-labels-idx1-ubyte\t   train-labels-idx1-ubyte\n",
            "t10k-labels-idx1-ubyte.gz  train-labels-idx1-ubyte.gz\n"
          ],
          "name": "stdout"
        }
      ]
    },
    {
      "cell_type": "code",
      "metadata": {
        "id": "jS10C-cvt-4D"
      },
      "source": [
        "def test_model(model, optimizer):\n",
        "    global_step = 0\n",
        "    best_accuracy = 0.\n",
        "\n",
        "    for epoch in range(args.epoch):\n",
        "        # Here starts the train loop.\n",
        "        model.train()\n",
        "        for batch_idx, (x, y) in enumerate(train_dataloader):\n",
        "\n",
        "            global_step += 1\n",
        "\n",
        "            #  Send `x` and `y` to either cpu or gpu using `device` variable. \n",
        "            x = x.to(device)\n",
        "            y = y.to(device)\n",
        "            \n",
        "            # Feed `x` into the network, get an output, and keep it in a variable called `logit`. \n",
        "            logit = model(x)\n",
        "\n",
        "            # Compute accuracy of this batch using `logit`, and keep it in a variable called 'accuracy'.\n",
        "            accuracy = (logit.argmax(1) == y).float().mean()\n",
        "\n",
        "            # print(logit)\n",
        "            # print(y)\n",
        "            # Compute loss using `logit` and `y`, and keep it in a variable called `loss`.\n",
        "            loss = nn.CrossEntropyLoss()(logit, y)\n",
        "\n",
        "            # flush out the previously computed gradient.\n",
        "            optimizer.zero_grad()\n",
        "\n",
        "            # backward the computed loss. \n",
        "            loss.backward()\n",
        "\n",
        "            # update the network weights. \n",
        "            optimizer.step()\n",
        "\n",
        "            if global_step % args.ckpt_iter == 0: \n",
        "                # Save network weights in the directory specified by `ckpt_dir` directory. \n",
        "                torch.save(model.state_dict(), f'{result_dir}/{global_step}.pt')\n",
        "\n",
        "        # Here starts the test loop.\n",
        "        model.eval()\n",
        "        with torch.no_grad():\n",
        "            test_loss = 0.\n",
        "            test_accuracy = 0.\n",
        "            test_num_data = 0.\n",
        "            for batch_idx, (x, y) in enumerate(test_dataloader):\n",
        "                # Send `x` and `y` to either cpu or gpu using `device` variable..\n",
        "                x = x.to(device)\n",
        "                y = y.to(device)\n",
        "\n",
        "                # Feed `x` into the network, get an output, and keep it in a variable called `logit`.\n",
        "                logit = model(x)\n",
        "\n",
        "                # Compute loss using `logit` and `y`, and keep it in a variable called `loss`.\n",
        "                loss = nn.CrossEntropyLoss()(logit, y)\n",
        "\n",
        "                # Compute accuracy of this batch using `logit`, and keep it in a variable called 'accuracy'.\n",
        "                accuracy = (logit.argmax(dim=1) == y).float().mean()\n",
        "\n",
        "                test_loss += loss.item()*x.shape[0]\n",
        "                test_accuracy += accuracy.item()*x.shape[0]\n",
        "                test_num_data += x.shape[0]\n",
        "\n",
        "            test_loss /= test_num_data\n",
        "            test_accuracy /= test_num_data\n",
        "\n",
        "            # Just for checking progress\n",
        "            print(f'Test result of epoch {epoch}/{args.epoch} || loss : {test_loss:.3f} acc : {test_accuracy:.3f} ')\n",
        "\n",
        "            # Whenever `test_accuracy` is greater than `best_accuracy`, save network weights with the filename 'best.pt' in the directory specified by `ckpt_dir`.\n",
        "            if test_accuracy > best_accuracy:\n",
        "                best_accuracy = test_accuracy\n",
        "                torch.save(model.state_dict(), f'{result_dir}/best.pt')\n",
        "    \n",
        "        # scheduler.step()\n",
        "    return best_accuracy"
      ],
      "execution_count": null,
      "outputs": []
    },
    {
      "cell_type": "code",
      "metadata": {
        "colab": {
          "base_uri": "https://localhost:8080/"
        },
        "id": "zxjmwsmVM4nx",
        "outputId": "abc7cb30-aabc-4ea4-8cc4-480c8a61c6e5"
      },
      "source": [
        "#Updating the second classifier\n",
        "model.features[0] = nn.Conv2d(1, 64, (4, 4), stride=(2,2), padding=(2, 2))\n",
        "model.classifier[4] = nn.Linear(4096,1024)\n",
        "\n",
        "#Updating the third and the last classifier that is the output layer of the network. Make sure to have 10 output nodes if we are going to get 10 class labels through our model.\n",
        "model.classifier[6] = nn.Linear(1024,10)\n",
        "model.eval()"
      ],
      "execution_count": null,
      "outputs": [
        {
          "output_type": "execute_result",
          "data": {
            "text/plain": [
              "AlexNet(\n",
              "  (features): Sequential(\n",
              "    (0): Conv2d(1, 64, kernel_size=(4, 4), stride=(2, 2), padding=(2, 2))\n",
              "    (1): ReLU(inplace=True)\n",
              "    (2): MaxPool2d(kernel_size=3, stride=2, padding=0, dilation=1, ceil_mode=False)\n",
              "    (3): Conv2d(64, 192, kernel_size=(5, 5), stride=(1, 1), padding=(2, 2))\n",
              "    (4): ReLU(inplace=True)\n",
              "    (5): MaxPool2d(kernel_size=3, stride=2, padding=0, dilation=1, ceil_mode=False)\n",
              "    (6): Conv2d(192, 384, kernel_size=(3, 3), stride=(1, 1), padding=(1, 1))\n",
              "    (7): ReLU(inplace=True)\n",
              "    (8): Conv2d(384, 256, kernel_size=(3, 3), stride=(1, 1), padding=(1, 1))\n",
              "    (9): ReLU(inplace=True)\n",
              "    (10): Conv2d(256, 256, kernel_size=(3, 3), stride=(1, 1), padding=(1, 1))\n",
              "    (11): ReLU(inplace=True)\n",
              "    (12): MaxPool2d(kernel_size=3, stride=2, padding=0, dilation=1, ceil_mode=False)\n",
              "  )\n",
              "  (avgpool): AdaptiveAvgPool2d(output_size=(6, 6))\n",
              "  (classifier): Sequential(\n",
              "    (0): Dropout(p=0.5, inplace=False)\n",
              "    (1): Linear(in_features=9216, out_features=4096, bias=True)\n",
              "    (2): ReLU(inplace=True)\n",
              "    (3): Dropout(p=0.5, inplace=False)\n",
              "    (4): Linear(in_features=4096, out_features=1024, bias=True)\n",
              "    (5): ReLU(inplace=True)\n",
              "    (6): Linear(in_features=1024, out_features=10, bias=True)\n",
              "  )\n",
              ")"
            ]
          },
          "metadata": {
            "tags": []
          },
          "execution_count": 9
        }
      ]
    },
    {
      "cell_type": "code",
      "metadata": {
        "colab": {
          "base_uri": "https://localhost:8080/"
        },
        "id": "gU508IhaNKGb",
        "outputId": "3a905798-9de8-456a-e7ac-78816cb6d9de"
      },
      "source": [
        "# Load the trained model using CIFAR\n",
        "model = torch.hub.load('pytorch/vision:v0.6.0', 'alexnet')\n",
        "#Updating the second classifier\n",
        "model.features[0] = nn.Conv2d(1, 64, (4, 4), stride=(2,2), padding=(2, 2))\n",
        "model.classifier[4] = nn.Linear(4096,1024)\n",
        "\n",
        "#Updating the third and the last classifier that is the output layer of the network. Make sure to have 10 output nodes if we are going to get 10 class labels through our model.\n",
        "model.classifier[6] = nn.Linear(1024,10)\n",
        "model.load_state_dict(torch.load(\"../gdrive/MyDrive/CS454_AI-Based_SE/Code/results_mnist/best.pt\", torch.device('cpu') ))\n",
        "model.eval()"
      ],
      "execution_count": null,
      "outputs": [
        {
          "output_type": "stream",
          "text": [
            "Using cache found in /root/.cache/torch/hub/pytorch_vision_v0.6.0\n"
          ],
          "name": "stderr"
        },
        {
          "output_type": "execute_result",
          "data": {
            "text/plain": [
              "AlexNet(\n",
              "  (features): Sequential(\n",
              "    (0): Conv2d(1, 64, kernel_size=(4, 4), stride=(2, 2), padding=(2, 2))\n",
              "    (1): ReLU(inplace=True)\n",
              "    (2): MaxPool2d(kernel_size=3, stride=2, padding=0, dilation=1, ceil_mode=False)\n",
              "    (3): Conv2d(64, 192, kernel_size=(5, 5), stride=(1, 1), padding=(2, 2))\n",
              "    (4): ReLU(inplace=True)\n",
              "    (5): MaxPool2d(kernel_size=3, stride=2, padding=0, dilation=1, ceil_mode=False)\n",
              "    (6): Conv2d(192, 384, kernel_size=(3, 3), stride=(1, 1), padding=(1, 1))\n",
              "    (7): ReLU(inplace=True)\n",
              "    (8): Conv2d(384, 256, kernel_size=(3, 3), stride=(1, 1), padding=(1, 1))\n",
              "    (9): ReLU(inplace=True)\n",
              "    (10): Conv2d(256, 256, kernel_size=(3, 3), stride=(1, 1), padding=(1, 1))\n",
              "    (11): ReLU(inplace=True)\n",
              "    (12): MaxPool2d(kernel_size=3, stride=2, padding=0, dilation=1, ceil_mode=False)\n",
              "  )\n",
              "  (avgpool): AdaptiveAvgPool2d(output_size=(6, 6))\n",
              "  (classifier): Sequential(\n",
              "    (0): Dropout(p=0.5, inplace=False)\n",
              "    (1): Linear(in_features=9216, out_features=4096, bias=True)\n",
              "    (2): ReLU(inplace=True)\n",
              "    (3): Dropout(p=0.5, inplace=False)\n",
              "    (4): Linear(in_features=4096, out_features=1024, bias=True)\n",
              "    (5): ReLU(inplace=True)\n",
              "    (6): Linear(in_features=1024, out_features=10, bias=True)\n",
              "  )\n",
              ")"
            ]
          },
          "metadata": {
            "tags": []
          },
          "execution_count": 10
        }
      ]
    },
    {
      "cell_type": "code",
      "metadata": {
        "colab": {
          "base_uri": "https://localhost:8080/"
        },
        "id": "pB_BWk3OvoXX",
        "outputId": "dfbde734-c3c5-4536-dc3f-41941ad0dc55"
      },
      "source": [
        "!ls ../gdrive/MyDrive/CS454_AI-Based_SE/Code/results_mnist/best.pt"
      ],
      "execution_count": null,
      "outputs": [
        {
          "output_type": "stream",
          "text": [
            "../gdrive/MyDrive/CS454_AI-Based_SE/Code/results_mnist/best.pt\n"
          ],
          "name": "stdout"
        }
      ]
    },
    {
      "cell_type": "code",
      "metadata": {
        "id": "dewLjOyQNeBf"
      },
      "source": [
        "import pandas as pd\n",
        "final_test = pd.read_csv(\"../gdrive/MyDrive/CS454_AI-Based_SE/Code/sample_image/test.csv\", dtype=np.float32)\n",
        "final_test = final_test.values/255\n",
        "test_tn = torch.from_numpy(final_test)"
      ],
      "execution_count": null,
      "outputs": []
    },
    {
      "cell_type": "code",
      "metadata": {
        "colab": {
          "base_uri": "https://localhost:8080/",
          "height": 299
        },
        "id": "W5h9AVRt4XI3",
        "outputId": "87e78f44-44b0-46a9-95c1-f07c980a92ad"
      },
      "source": [
        "import random\n",
        "sample_test = test_tn[random.randint(0, len(test_tn))].view(28, 28)\n",
        "output = model(sample_test.unsqueeze(0).unsqueeze(1))\n",
        "true_class = output.argmax(1)\n",
        "print(true_class)\n",
        "plt.imshow(  sample_test  )"
      ],
      "execution_count": null,
      "outputs": [
        {
          "output_type": "stream",
          "text": [
            "tensor([5])\n"
          ],
          "name": "stdout"
        },
        {
          "output_type": "execute_result",
          "data": {
            "text/plain": [
              "<matplotlib.image.AxesImage at 0x7fc0b4fb15f8>"
            ]
          },
          "metadata": {
            "tags": []
          },
          "execution_count": 13
        },
        {
          "output_type": "display_data",
          "data": {
            "image/png": "[encoded data removed]",
            "text/plain": [
              "<Figure size 432x288 with 1 Axes>"
            ]
          },
          "metadata": {
            "tags": []
          }
        }
      ]
    },
    {
      "cell_type": "code",
      "metadata": {
        "colab": {
          "base_uri": "https://localhost:8080/"
        },
        "id": "xMk-oSMv4_PW",
        "outputId": "d32a76f8-0744-456a-d17c-ffbbaccb7df1"
      },
      "source": [
        "train_dataset"
      ],
      "execution_count": null,
      "outputs": [
        {
          "output_type": "execute_result",
          "data": {
            "text/plain": [
              "Dataset MNIST\n",
              "    Number of datapoints: 60000\n",
              "    Root location: dataset/mnist\n",
              "    Split: Train\n",
              "    StandardTransform\n",
              "Transform: Compose(\n",
              "               ToTensor()\n",
              "               Normalize(mean=(0.1307,), std=(0.3081,))\n",
              "           )"
            ]
          },
          "metadata": {
            "tags": []
          },
          "execution_count": 14
        }
      ]
    },
    {
      "cell_type": "code",
      "metadata": {
        "colab": {
          "base_uri": "https://localhost:8080/",
          "height": 180
        },
        "id": "Xcpnf3Eg4nfs",
        "outputId": "557e17f3-cb92-420a-be33-f6a13a864868"
      },
      "source": [
        "import matplotlib.pyplot as plt\n",
        "import numpy as np\n",
        "import torchvision\n",
        "\n",
        "\n",
        "# functions to show an image\n",
        "\n",
        "\n",
        "def imshow(img):\n",
        "    img = img / 2 + 0.5     # unnormalize\n",
        "    npimg = img.numpy()\n",
        "    plt.imshow(np.transpose(npimg, (1, 2, 0)))\n",
        "    plt.show()\n",
        "\n",
        "\n",
        "# get some random training images\n",
        "dataiter = iter(test_dataloader)\n",
        "images, labels = dataiter.next()\n",
        "\n",
        "print(len(images))\n",
        "print(labels[:8])\n",
        "\n",
        "# show images\n",
        "imshow(torchvision.utils.make_grid(images[:8]))\n",
        "# print labels\n",
        "\n",
        "\n",
        "logit = model(images)\n",
        "#print(logit)\n",
        "print()\n",
        "sol = torch.max(logit[:8] ,1).indices\n",
        "print(sol)\n"
      ],
      "execution_count": null,
      "outputs": [
        {
          "output_type": "stream",
          "text": [
            "Clipping input data to the valid range for imshow with RGB data ([0..1] for floats or [0..255] for integers).\n"
          ],
          "name": "stderr"
        },
        {
          "output_type": "stream",
          "text": [
            "128\n",
            "tensor([7, 2, 1, 0, 4, 1, 4, 9])\n"
          ],
          "name": "stdout"
        },
        {
          "output_type": "display_data",
          "data": {
            "image/png": "[encoded data removed]",
            "text/plain": [
              "<Figure size 432x288 with 1 Axes>"
            ]
          },
          "metadata": {
            "tags": []
          }
        },
        {
          "output_type": "stream",
          "text": [
            "\n",
            "tensor([7, 2, 1, 0, 4, 1, 4, 9])\n"
          ],
          "name": "stdout"
        }
      ]
    },
    {
      "cell_type": "code",
      "metadata": {
        "colab": {
          "base_uri": "https://localhost:8080/"
        },
        "id": "TxFQFVw44lLO",
        "outputId": "600fc929-76ec-4d73-f5b7-fe7e6125966f"
      },
      "source": [
        "images.shape"
      ],
      "execution_count": null,
      "outputs": [
        {
          "output_type": "execute_result",
          "data": {
            "text/plain": [
              "torch.Size([128, 1, 28, 28])"
            ]
          },
          "metadata": {
            "tags": []
          },
          "execution_count": 16
        }
      ]
    },
    {
      "cell_type": "code",
      "metadata": {
        "colab": {
          "base_uri": "https://localhost:8080/"
        },
        "id": "iKzh_tC3c4eH",
        "outputId": "aba7740c-d212-4efb-f230-cf153ab38305"
      },
      "source": [
        "model(images).shape"
      ],
      "execution_count": null,
      "outputs": [
        {
          "output_type": "execute_result",
          "data": {
            "text/plain": [
              "torch.Size([128, 10])"
            ]
          },
          "metadata": {
            "tags": []
          },
          "execution_count": 17
        }
      ]
    },
    {
      "cell_type": "code",
      "metadata": {
        "colab": {
          "base_uri": "https://localhost:8080/",
          "height": 299
        },
        "id": "EBNx6YcnkUf7",
        "outputId": "82127758-8060-4bea-aef3-6abad8f1b1ad"
      },
      "source": [
        "import random\n",
        "sample_test = images[12].view(28, 28)\n",
        "output = model(sample_test.unsqueeze(0).unsqueeze(1))\n",
        "true_class = output.argmax(1)\n",
        "print(true_class)\n",
        "plt.imshow(  sample_test  )"
      ],
      "execution_count": null,
      "outputs": [
        {
          "output_type": "stream",
          "text": [
            "tensor([9])\n"
          ],
          "name": "stdout"
        },
        {
          "output_type": "execute_result",
          "data": {
            "text/plain": [
              "<matplotlib.image.AxesImage at 0x7fc0b496ef28>"
            ]
          },
          "metadata": {
            "tags": []
          },
          "execution_count": 18
        },
        {
          "output_type": "display_data",
          "data": {
            "image/png": "[encoded data removed]",
            "text/plain": [
              "<Figure size 432x288 with 1 Axes>"
            ]
          },
          "metadata": {
            "tags": []
          }
        }
      ]
    },
    {
      "cell_type": "code",
      "metadata": {
        "colab": {
          "base_uri": "https://localhost:8080/"
        },
        "id": "oVIFhjO9ylFT",
        "outputId": "ee1de458-3baf-45b2-b31d-92031e03ffc1"
      },
      "source": [
        "(labels == 9).nonzero()"
      ],
      "execution_count": null,
      "outputs": [
        {
          "output_type": "stream",
          "text": [
            "/usr/local/lib/python3.6/dist-packages/ipykernel_launcher.py:1: UserWarning: This overload of nonzero is deprecated:\n",
            "\tnonzero()\n",
            "Consider using one of the following signatures instead:\n",
            "\tnonzero(*, bool as_tuple) (Triggered internally at  /pytorch/torch/csrc/utils/python_arg_parser.cpp:882.)\n",
            "  \"\"\"Entry point for launching an IPython kernel.\n"
          ],
          "name": "stderr"
        },
        {
          "output_type": "execute_result",
          "data": {
            "text/plain": [
              "tensor([[  7],\n",
              "        [  9],\n",
              "        [ 12],\n",
              "        [ 16],\n",
              "        [ 20],\n",
              "        [ 58],\n",
              "        [ 62],\n",
              "        [ 73],\n",
              "        [ 78],\n",
              "        [ 92],\n",
              "        [ 99],\n",
              "        [104],\n",
              "        [105],\n",
              "        [108],\n",
              "        [113],\n",
              "        [118],\n",
              "        [125]])"
            ]
          },
          "metadata": {
            "tags": []
          },
          "execution_count": 19
        }
      ]
    },
    {
      "cell_type": "code",
      "metadata": {
        "id": "ieqIZndSkCNM"
      },
      "source": [
        "# made the reference image\n",
        "ref_image = [images[10].view(28, 28),#0\n",
        "             images[2].view(28, 28), #1\n",
        "             images[1].view(28, 28), #2\n",
        "             images[30].view(28, 28), #3\n",
        "             images[19].view(28, 28), #4\n",
        "             images[23].view(28, 28), #5\n",
        "             images[21].view(28, 28), #6\n",
        "             images[0].view(28, 28),  #7\n",
        "             images[84].view(28, 28), #8\n",
        "             images[12].view(28, 28) #9\n",
        "             ]"
      ],
      "execution_count": null,
      "outputs": []
    },
    {
      "cell_type": "code",
      "metadata": {
        "colab": {
          "base_uri": "https://localhost:8080/",
          "height": 282
        },
        "id": "IfQNhBXdlRhc",
        "outputId": "7b33f262-b1ab-4cc1-f8d0-2218d6a18b0a"
      },
      "source": [
        "imshow(torchvision.utils.make_grid(ref_image[9]))\n"
      ],
      "execution_count": null,
      "outputs": [
        {
          "output_type": "stream",
          "text": [
            "Clipping input data to the valid range for imshow with RGB data ([0..1] for floats or [0..255] for integers).\n"
          ],
          "name": "stderr"
        },
        {
          "output_type": "display_data",
          "data": {
            "image/png": "[encoded data removed]",
            "text/plain": [
              "<Figure size 432x288 with 1 Axes>"
            ]
          },
          "metadata": {
            "tags": []
          }
        }
      ]
    },
    {
      "cell_type": "code",
      "metadata": {
        "colab": {
          "base_uri": "https://localhost:8080/"
        },
        "id": "qrEWWvQ2tnIZ",
        "outputId": "5dc26f93-8157-424a-b17f-a992205c6f68"
      },
      "source": [
        "ref_image[0]"
      ],
      "execution_count": null,
      "outputs": [
        {
          "output_type": "execute_result",
          "data": {
            "text/plain": [
              "tensor([[-0.4242, -0.4242, -0.4242, -0.4242, -0.4242, -0.4242, -0.4242, -0.4242,\n",
              "         -0.4242, -0.4242, -0.4242, -0.4242, -0.4242, -0.4242, -0.4242, -0.4242,\n",
              "         -0.4242, -0.4242, -0.4242, -0.4242, -0.4242, -0.4242, -0.4242, -0.4242,\n",
              "         -0.4242, -0.4242, -0.4242, -0.4242],\n",
              "        [-0.4242, -0.4242, -0.4242, -0.4242, -0.4242, -0.4242, -0.4242, -0.4242,\n",
              "         -0.4242, -0.4242, -0.4242, -0.4242, -0.4242, -0.4242, -0.4242, -0.4242,\n",
              "         -0.4242, -0.4242, -0.4242, -0.4242, -0.4242, -0.4242, -0.4242, -0.4242,\n",
              "         -0.4242, -0.4242, -0.4242, -0.4242],\n",
              "        [-0.4242, -0.4242, -0.4242, -0.4242, -0.4242, -0.4242, -0.4242, -0.4242,\n",
              "         -0.4242, -0.4242, -0.4242, -0.4242, -0.4242, -0.4242, -0.4242, -0.4242,\n",
              "         -0.4242, -0.4242, -0.4242, -0.4242, -0.4242, -0.4242, -0.4242, -0.4242,\n",
              "         -0.4242, -0.4242, -0.4242, -0.4242],\n",
              "        [-0.4242, -0.4242, -0.4242, -0.4242, -0.4242, -0.4242, -0.4242, -0.4242,\n",
              "         -0.4242, -0.4242, -0.4242, -0.4242, -0.4242, -0.4242, -0.4242, -0.4242,\n",
              "         -0.4242, -0.4242, -0.4242, -0.4242, -0.4242, -0.4242, -0.4242, -0.4242,\n",
              "         -0.4242, -0.4242, -0.4242, -0.4242],\n",
              "        [-0.4242, -0.4242, -0.4242, -0.4242, -0.4242, -0.4242, -0.4242, -0.4242,\n",
              "         -0.4242, -0.4242, -0.4242,  0.3522, -0.3860,  0.1104,  1.0777,  2.0323,\n",
              "          1.0777,  1.0777,  0.3522, -0.4242, -0.4242, -0.4242, -0.4242, -0.4242,\n",
              "         -0.4242, -0.4242, -0.4242, -0.4242],\n",
              "        [-0.4242, -0.4242, -0.4242, -0.4242, -0.4242, -0.4242, -0.4242, -0.4242,\n",
              "         -0.4242, -0.2460,  1.8541,  2.6942,  2.5797,  2.6560,  2.8088,  2.8088,\n",
              "          2.8088,  2.8088,  2.6942,  2.5669,  0.6450, -0.4242, -0.4242, -0.4242,\n",
              "         -0.4242, -0.4242, -0.4242, -0.4242],\n",
              "        [-0.4242, -0.4242, -0.4242, -0.4242, -0.4242, -0.4242, -0.4242, -0.4242,\n",
              "         -0.4242,  1.4978,  2.8088,  2.8088,  2.8088,  2.2869,  2.0196,  1.8414,\n",
              "          1.8414,  1.8669,  2.8088,  2.8088,  2.6433,  0.1613, -0.4242, -0.4242,\n",
              "         -0.4242, -0.4242, -0.4242, -0.4242],\n",
              "        [-0.4242, -0.4242, -0.4242, -0.4242, -0.4242, -0.4242, -0.4242, -0.4242,\n",
              "          0.1231,  2.5669,  2.8088,  2.4524,  0.3904, -0.0678, -0.2715, -0.4242,\n",
              "         -0.4242, -0.3988,  1.2050,  2.7833,  2.8215,  1.7778, -0.2078, -0.4242,\n",
              "         -0.4242, -0.4242, -0.4242, -0.4242],\n",
              "        [-0.4242, -0.4242, -0.4242, -0.4242, -0.4242, -0.4242, -0.4242, -0.4242,\n",
              "          0.2886,  2.8088,  2.7960,  0.9377, -0.4242, -0.4242, -0.4242, -0.4242,\n",
              "         -0.4242, -0.4242, -0.4242,  1.2814,  2.7578,  2.8088,  0.5304, -0.4242,\n",
              "         -0.4242, -0.4242, -0.4242, -0.4242],\n",
              "        [-0.4242, -0.4242, -0.4242, -0.4242, -0.4242, -0.4242, -0.4242, -0.4242,\n",
              "          0.3777,  2.8088,  1.5868, -0.4242, -0.4242, -0.4242, -0.4242, -0.4242,\n",
              "         -0.4242, -0.4242, -0.4242, -0.4242,  2.3887,  2.8088,  1.5741, -0.4242,\n",
              "         -0.4242, -0.4242, -0.4242, -0.4242],\n",
              "        [-0.4242, -0.4242, -0.4242, -0.4242, -0.4242, -0.4242, -0.4242, -0.4242,\n",
              "          2.0451,  2.8088,  0.8868, -0.4242, -0.4242, -0.4242, -0.4242, -0.4242,\n",
              "         -0.4242, -0.4242, -0.4242, -0.4242,  1.4850,  2.8088,  2.2869, -0.4242,\n",
              "         -0.4242, -0.4242, -0.4242, -0.4242],\n",
              "        [-0.4242, -0.4242, -0.4242, -0.4242, -0.4242, -0.4242, -0.4242,  0.0085,\n",
              "          2.3760,  2.6178,  0.3140, -0.4242, -0.4242, -0.4242, -0.4242, -0.4242,\n",
              "         -0.4242, -0.4242, -0.4242, -0.4242,  0.6450,  2.8088,  2.2869, -0.4242,\n",
              "         -0.4242, -0.4242, -0.4242, -0.4242],\n",
              "        [-0.4242, -0.4242, -0.4242, -0.4242, -0.4242, -0.4242, -0.4242,  1.1795,\n",
              "          2.8088,  1.7523, -0.4242, -0.4242, -0.4242, -0.4242, -0.4242, -0.4242,\n",
              "         -0.4242, -0.4242, -0.4242, -0.4242,  0.6450,  2.8088,  2.2869, -0.4242,\n",
              "         -0.4242, -0.4242, -0.4242, -0.4242],\n",
              "        [-0.4242, -0.4242, -0.4242, -0.4242, -0.4242, -0.4242, -0.4242,  2.2996,\n",
              "          2.6178,  0.3395, -0.4242, -0.4242, -0.4242, -0.4242, -0.4242, -0.4242,\n",
              "         -0.4242, -0.4242, -0.4242, -0.4242,  0.6450,  2.8088,  2.2869, -0.4242,\n",
              "         -0.4242, -0.4242, -0.4242, -0.4242],\n",
              "        [-0.4242, -0.4242, -0.4242, -0.4242, -0.4242, -0.4242, -0.4242,  2.2996,\n",
              "          2.1087, -0.4242, -0.4242, -0.4242, -0.4242, -0.4242, -0.4242, -0.4242,\n",
              "         -0.4242, -0.4242, -0.4242, -0.4242,  0.6450,  2.8088,  2.2869, -0.4242,\n",
              "         -0.4242, -0.4242, -0.4242, -0.4242],\n",
              "        [-0.4242, -0.4242, -0.4242, -0.4242, -0.4242, -0.4242, -0.2842,  2.3633,\n",
              "          2.1087, -0.4242, -0.4242, -0.4242, -0.4242, -0.4242, -0.4242, -0.4242,\n",
              "         -0.4242, -0.4242, -0.4242, -0.4242,  0.6450,  2.8088,  2.2869, -0.4242,\n",
              "         -0.4242, -0.4242, -0.4242, -0.4242],\n",
              "        [-0.4242, -0.4242, -0.4242, -0.4242, -0.4242, -0.4242,  0.8232,  2.8088,\n",
              "          2.1087, -0.4242, -0.4242, -0.4242, -0.4242, -0.4242, -0.4242, -0.4242,\n",
              "         -0.4242, -0.4242, -0.4242, -0.4242,  1.6378,  2.8088,  2.2360, -0.4242,\n",
              "         -0.4242, -0.4242, -0.4242, -0.4242],\n",
              "        [-0.4242, -0.4242, -0.4242, -0.4242, -0.4242, -0.4242,  0.8232,  2.8088,\n",
              "          2.1087, -0.4242, -0.4242, -0.4242, -0.4242, -0.4242, -0.4242, -0.4242,\n",
              "         -0.4242, -0.4242, -0.4242,  0.2249,  2.6051,  2.8088,  0.5304, -0.4242,\n",
              "         -0.4242, -0.4242, -0.4242, -0.4242],\n",
              "        [-0.4242, -0.4242, -0.4242, -0.4242, -0.4242, -0.4242,  0.8232,  2.8088,\n",
              "          2.1087, -0.4242, -0.4242, -0.4242, -0.4242, -0.4242, -0.4242, -0.4242,\n",
              "         -0.4242, -0.4242,  0.2249,  1.6759,  2.8088,  2.0578, -0.3733, -0.4242,\n",
              "         -0.4242, -0.4242, -0.4242, -0.4242],\n",
              "        [-0.4242, -0.4242, -0.4242, -0.4242, -0.4242, -0.4242,  0.4159,  2.6433,\n",
              "          2.1087, -0.4242, -0.4242, -0.4242, -0.4242, -0.4242, -0.4242, -0.4242,\n",
              "         -0.4242, -0.3860,  1.7014,  2.8088,  2.4651,  0.2758, -0.4242, -0.4242,\n",
              "         -0.4242, -0.4242, -0.4242, -0.4242],\n",
              "        [-0.4242, -0.4242, -0.4242, -0.4242, -0.4242, -0.4242, -0.4242,  2.2996,\n",
              "          2.2869, -0.1696, -0.4242, -0.4242, -0.4242, -0.4242, -0.4242,  0.1613,\n",
              "          1.5105,  2.1469,  2.8088,  2.8088,  0.3777, -0.4242, -0.4242, -0.4242,\n",
              "         -0.4242, -0.4242, -0.4242, -0.4242],\n",
              "        [-0.4242, -0.4242, -0.4242, -0.4242, -0.4242, -0.4242, -0.4242,  2.2996,\n",
              "          2.8088,  2.1723,  1.8669,  1.8669,  1.8669,  1.8669,  1.8669,  2.5669,\n",
              "          2.8088,  2.8088,  2.5542,  1.5614, -0.2969, -0.4242, -0.4242, -0.4242,\n",
              "         -0.4242, -0.4242, -0.4242, -0.4242],\n",
              "        [-0.4242, -0.4242, -0.4242, -0.4242, -0.4242, -0.4242, -0.4242,  0.6068,\n",
              "          2.1851,  2.8088,  2.8088,  2.8088,  2.8088,  2.8088,  2.8088,  2.8088,\n",
              "          2.7833,  2.5542,  1.1032, -0.4242, -0.4242, -0.4242, -0.4242, -0.4242,\n",
              "         -0.4242, -0.4242, -0.4242, -0.4242],\n",
              "        [-0.4242, -0.4242, -0.4242, -0.4242, -0.4242, -0.4242, -0.4242, -0.4242,\n",
              "         -0.0933,  2.2487,  2.8088,  2.8088,  2.8088,  2.8088,  2.8088,  1.5232,\n",
              "          0.8995, -0.4242, -0.4242, -0.4242, -0.4242, -0.4242, -0.4242, -0.4242,\n",
              "         -0.4242, -0.4242, -0.4242, -0.4242],\n",
              "        [-0.4242, -0.4242, -0.4242, -0.4242, -0.4242, -0.4242, -0.4242, -0.4242,\n",
              "         -0.4242, -0.4242, -0.4242, -0.4242, -0.4242, -0.4242, -0.4242, -0.4242,\n",
              "         -0.4242, -0.4242, -0.4242, -0.4242, -0.4242, -0.4242, -0.4242, -0.4242,\n",
              "         -0.4242, -0.4242, -0.4242, -0.4242],\n",
              "        [-0.4242, -0.4242, -0.4242, -0.4242, -0.4242, -0.4242, -0.4242, -0.4242,\n",
              "         -0.4242, -0.4242, -0.4242, -0.4242, -0.4242, -0.4242, -0.4242, -0.4242,\n",
              "         -0.4242, -0.4242, -0.4242, -0.4242, -0.4242, -0.4242, -0.4242, -0.4242,\n",
              "         -0.4242, -0.4242, -0.4242, -0.4242],\n",
              "        [-0.4242, -0.4242, -0.4242, -0.4242, -0.4242, -0.4242, -0.4242, -0.4242,\n",
              "         -0.4242, -0.4242, -0.4242, -0.4242, -0.4242, -0.4242, -0.4242, -0.4242,\n",
              "         -0.4242, -0.4242, -0.4242, -0.4242, -0.4242, -0.4242, -0.4242, -0.4242,\n",
              "         -0.4242, -0.4242, -0.4242, -0.4242],\n",
              "        [-0.4242, -0.4242, -0.4242, -0.4242, -0.4242, -0.4242, -0.4242, -0.4242,\n",
              "         -0.4242, -0.4242, -0.4242, -0.4242, -0.4242, -0.4242, -0.4242, -0.4242,\n",
              "         -0.4242, -0.4242, -0.4242, -0.4242, -0.4242, -0.4242, -0.4242, -0.4242,\n",
              "         -0.4242, -0.4242, -0.4242, -0.4242]])"
            ]
          },
          "metadata": {
            "tags": []
          },
          "execution_count": 22
        }
      ]
    },
    {
      "cell_type": "code",
      "metadata": {
        "colab": {
          "base_uri": "https://localhost:8080/"
        },
        "id": "tUoliyRwANDY",
        "outputId": "9c466ea3-79a0-4b27-8e00-1d6138f581f0"
      },
      "source": [
        "images.shape"
      ],
      "execution_count": null,
      "outputs": [
        {
          "output_type": "execute_result",
          "data": {
            "text/plain": [
              "torch.Size([128, 1, 28, 28])"
            ]
          },
          "metadata": {
            "tags": []
          },
          "execution_count": 23
        }
      ]
    },
    {
      "cell_type": "code",
      "metadata": {
        "colab": {
          "base_uri": "https://localhost:8080/"
        },
        "id": "ID-fX1UsBG4M",
        "outputId": "d9c7e842-1e9e-4bf9-f02e-0adac40847c7"
      },
      "source": [
        "images[0,:,:].shape"
      ],
      "execution_count": null,
      "outputs": [
        {
          "output_type": "execute_result",
          "data": {
            "text/plain": [
              "torch.Size([1, 28, 28])"
            ]
          },
          "metadata": {
            "tags": []
          },
          "execution_count": 24
        }
      ]
    },
    {
      "cell_type": "code",
      "metadata": {
        "colab": {
          "base_uri": "https://localhost:8080/"
        },
        "id": "MUG-crtL5Kii",
        "outputId": "987fec50-6d99-4952-873d-aea70863f82c"
      },
      "source": [
        "logit.shape"
      ],
      "execution_count": null,
      "outputs": [
        {
          "output_type": "execute_result",
          "data": {
            "text/plain": [
              "torch.Size([128, 10])"
            ]
          },
          "metadata": {
            "tags": []
          },
          "execution_count": 25
        }
      ]
    },
    {
      "cell_type": "code",
      "metadata": {
        "colab": {
          "base_uri": "https://localhost:8080/"
        },
        "id": "tsmOjEL6-XSj",
        "outputId": "453e81eb-9df1-4ba9-aa75-c8dee0fd9373"
      },
      "source": [
        "logit[:8]"
      ],
      "execution_count": null,
      "outputs": [
        {
          "output_type": "execute_result",
          "data": {
            "text/plain": [
              "tensor([[-2.9528, -0.5697,  0.2101,  0.9952, -1.7708, -2.8707, -6.1776, 14.1636,\n",
              "         -2.2665,  1.6344],\n",
              "        [-1.9909, -0.8380, 14.7656, -1.2869, -0.5951, -4.1845, -0.2987, -2.0652,\n",
              "         -1.2570, -4.9518],\n",
              "        [-2.6480, 13.3275, -2.4334, -4.2272, -1.9936, -2.7064, -2.1455,  2.1899,\n",
              "         -0.0313, -1.4974],\n",
              "        [11.8924, -3.2745, -2.2165, -3.3335, -2.7864, -0.9102,  1.6091, -2.3073,\n",
              "         -0.5503, -0.6999],\n",
              "        [-4.4874, -2.0676, -3.3821, -7.7852, 16.0683, -2.1576,  0.2212, -1.0209,\n",
              "         -0.6734,  3.4905],\n",
              "        [-2.8754, 14.4885, -2.8850, -4.5884, -1.9679, -2.8656, -2.4827,  2.0482,\n",
              "         -0.0799, -1.3385],\n",
              "        [-4.1344, -2.5256, -2.9367, -5.9214, 13.4922, -1.8114, -0.2187, -1.5272,\n",
              "          0.6264,  3.6247],\n",
              "        [-2.0302, -3.8040, -1.0236,  1.1557,  1.1335,  0.8364, -3.2060, -0.5924,\n",
              "          0.7834,  6.9800]], grad_fn=<SliceBackward>)"
            ]
          },
          "metadata": {
            "tags": []
          },
          "execution_count": 26
        }
      ]
    },
    {
      "cell_type": "code",
      "metadata": {
        "colab": {
          "base_uri": "https://localhost:8080/"
        },
        "id": "c-7qF9tK9p2E",
        "outputId": "f4e26332-b439-4fec-8e74-fb6b482d99b6"
      },
      "source": [
        " torch.max(logit[:8] ,1).indices"
      ],
      "execution_count": null,
      "outputs": [
        {
          "output_type": "execute_result",
          "data": {
            "text/plain": [
              "tensor([7, 2, 1, 0, 4, 1, 4, 9])"
            ]
          },
          "metadata": {
            "tags": []
          },
          "execution_count": 27
        }
      ]
    },
    {
      "cell_type": "code",
      "metadata": {
        "id": "0wWDXpiXZe3L"
      },
      "source": [
        "img_1 = images[0,:1,:2,:2]\n",
        "img_2 = images[1,:1,:2,:2]"
      ],
      "execution_count": null,
      "outputs": []
    },
    {
      "cell_type": "code",
      "metadata": {
        "colab": {
          "base_uri": "https://localhost:8080/"
        },
        "id": "nlC7myM6Z147",
        "outputId": "5a67ba63-f3ad-4638-dc6d-eb340d6f8c33"
      },
      "source": [
        "print(img_1)\n",
        "print(img_2)\n",
        "print(img_1 - img_2)"
      ],
      "execution_count": null,
      "outputs": [
        {
          "output_type": "stream",
          "text": [
            "tensor([[[-0.4242, -0.4242],\n",
            "         [-0.4242, -0.4242]]])\n",
            "tensor([[[-0.4242, -0.4242],\n",
            "         [-0.4242, -0.4242]]])\n",
            "tensor([[[0., 0.],\n",
            "         [0., 0.]]])\n"
          ],
          "name": "stdout"
        }
      ]
    },
    {
      "cell_type": "code",
      "metadata": {
        "colab": {
          "base_uri": "https://localhost:8080/"
        },
        "id": "Clu8Q6h-Zq2x",
        "outputId": "a6857d96-6e6b-4cda-9d55-a281cfb78916"
      },
      "source": [
        "torch.norm(img_1 - img_2, 2)"
      ],
      "execution_count": null,
      "outputs": [
        {
          "output_type": "execute_result",
          "data": {
            "text/plain": [
              "tensor(0.)"
            ]
          },
          "metadata": {
            "tags": []
          },
          "execution_count": 30
        }
      ]
    },
    {
      "cell_type": "code",
      "metadata": {
        "colab": {
          "base_uri": "https://localhost:8080/"
        },
        "id": "MTXeVvnFZHLp",
        "outputId": "5a0c6214-b594-4ef0-a599-0d2d9a5077ed"
      },
      "source": [
        "images.shape"
      ],
      "execution_count": null,
      "outputs": [
        {
          "output_type": "execute_result",
          "data": {
            "text/plain": [
              "torch.Size([128, 1, 28, 28])"
            ]
          },
          "metadata": {
            "tags": []
          },
          "execution_count": 31
        }
      ]
    },
    {
      "cell_type": "code",
      "metadata": {
        "id": "tbyHzlzdZG11"
      },
      "source": [
        ""
      ],
      "execution_count": null,
      "outputs": []
    },
    {
      "cell_type": "code",
      "metadata": {
        "id": "rixkVIXyib03"
      },
      "source": [
        "# base model \n"
      ],
      "execution_count": null,
      "outputs": []
    },
    {
      "cell_type": "code",
      "metadata": {
        "id": "r-sTaClS6cBg"
      },
      "source": [
        "import torch\n",
        "import random, copy\n",
        "\n",
        "\n",
        "def scoreCalculate(model,x, x_label):\n",
        "  ImX = x.unsqueeze(0)\n",
        "  result = torch.max(model(ImX),1)\n",
        "  confidence = result.values\n",
        "  index = result.indices\n",
        "  if index == x_label:\n",
        "    score = confidence\n",
        "  else:\n",
        "    score = 0\n",
        "  return score\n",
        "\n",
        "def ftnCalculate(model,x,y,y_label):\n",
        "  ImY = y.unsqueeze(0)\n",
        "  result = torch.max(model(ImY),1)\n",
        "  confidence = result.values\n",
        "  index = result.indices\n",
        "  if index == y_label:\n",
        "    score = confidence\n",
        "  else:\n",
        "    score = 0\n",
        "  L2 = torch.cdist(x, y, p=2)\n",
        "  return score - L2 \n",
        "\n",
        "def targetPSO(model,x,x_label, D, N, V, Beta, Epsilon, Zeta):\n",
        "  print('x', x.shape)\n",
        "  # initialize\n",
        "\n",
        "  pixelsX = (pixelsX-torch.min(pixelsX))/(torch.max(pixelsX)-torch.min(pixelsX))\n",
        "  pixelsY = (pixelsY-torch.min(pixelsY))/(torch.max(pixelsY)-torch.min(pixelsY))\n",
        "  S= torch.clip(torch.rand(N,3,h,w)+pixelsY,0.0,1.0)\n",
        "  ftn = torch.zeros(N, dtype=float)\n",
        "  for i in range(N):\n",
        "    ftn[i] = ftnCalculate(model,pixelsX,S[i],y_label)\n",
        "  Pbest = pixelsY.clone()\n",
        "  Pbestftn = ftn.clone()\n",
        "  Gbest = Pbest[0].clone()\n",
        "  Gbestftn = ftn[0]\n",
        "  pv = torch.zeros(N,3,h,w)\n",
        "  for p in range(V/N):\n",
        "    score_array = torch.zeros(N)\n",
        "    for i in range(N):\n",
        "      score_array[i] = scoreCalculate(model,pixelsY, y_label)\n",
        "    mean_score = torch.mean(score_array)\n",
        "    if mean_score < score_limit:\n",
        "      pv =pv + random.rand()*(Pbest-S) + random.rand()*(Gbest-S) + (pixelsX-S) + torch.rand(N,3,h,w)\n",
        "      #pv =c1*pv + c2*random.rand()*(Pbest-S) + c3*random.rand()*(Gbest-S) + c4*(pixelsX-S) + c5*torch.rand(N,3,h,w)\n",
        "    else:\n",
        "      pv = pv + random.rand()*(Gbest-S) + (pixelsX-S) + torch.rand(N,3,h,w)\n",
        "      #pv = c1* pv + c3*random.rand()*(Gbest-S) + c4*(pixelsX-S) + c5*torch.rand(N,3,h,w)\n",
        "    S = torch.clip(S+pv, 0.0, 1.0)\n",
        "    for i in range(N):\n",
        "      ftn[i] = ftnCalculate(model,pixelsX,S[i],y_label)\n",
        "    if ftn[i] > Pbest[i]:\n",
        "      Pbest[i] = copy.deepcopy(ftn[i])\n",
        "      Pbestftn[i] = ftn[i]\n",
        "      if Pbestftn[i] > Gbestftn:\n",
        "        Gbest = copy.deepcopy(Pbest[i])\n",
        "        Gbestftn = Pbestftn[i]\n",
        "  if torch.cdist(Gbest, pixelsX, p=2) <= upper_bound_distance and scoreCalculate(model,Gbest,y_label) >= lower_bound_score:\n",
        "    return Image.fromarray(Gbest)\n",
        "  else:\n",
        "    return Image.fromarray(Gbest), torch.cdist(Gbest, pixelsX, p=2), scoreCalculate(model,Gbest,y_label)"
      ],
      "execution_count": null,
      "outputs": []
    },
    {
      "cell_type": "code",
      "metadata": {
        "id": "HFsCTbRZwjRA"
      },
      "source": [
        "# PSO\n",
        "def similarity(img_1, img_2, p):\n",
        "  return torch.norm(img_1 - img_2, p)\n",
        "\n",
        "def check_top(out_s, label):\n",
        "  #print(label.item())\n",
        "  #print(torch.topk(out_s, 1))\n",
        "  top_index = torch.topk(out_s, 1).indices\n",
        "  if torch.sum(label.item() == top_index).item() == 1:\n",
        "    # contain in top 1\n",
        "    return 1\n",
        "  return 0\n",
        "\n",
        "def cal_score(out_s, label):\n",
        "  # out_s: (10)\n",
        "\n",
        "  if check_top(out_s, label):\n",
        "    # in top 1\n",
        "    return 0\n",
        "  else:\n",
        "    # they are not in top1\n",
        "    #print('value',out_s[label.item()].item())\n",
        "    #print('lable',label)\n",
        "    #print(out_s)\n",
        "    #print(torch.topk(out_s, 1))\n",
        "    score = out_s[torch.topk(out_s, 1).indices].item()\n",
        "    #print('score', score)\n",
        "    \n",
        "    return score\n",
        "\n",
        "def cal_ftn(model,input_s,org_img, label, sigma, Epsilon):\n",
        "  # get the classification from the model\n",
        "  # org_img: (1, 1, 28, 28)\n",
        "  # input_s: (N, 1, 28, 28)\n",
        "  global count_model\n",
        "  count_model += 1\n",
        "  output_s = model(input_s) # (N, 10)\n",
        "  N, num_c = output_s.shape\n",
        "  ftn_list = []\n",
        "  for i in range(N):\n",
        "\n",
        "    # calculate score\n",
        "    score = cal_score( output_s[i], label)\n",
        "    # calculate L_2\n",
        "    L_2 = similarity(org_img, input_s[i].view(1,1,28,28), 2)\n",
        "    #print(L_2)\n",
        "    if L_2 > Epsilon:\n",
        "      L_2 = 100\n",
        "\n",
        "    #print(\"Score\", score ,'L_2',L_2)\n",
        "    ftn = sigma * score - L_2\n",
        "    #print(\"ftn\", ftn)\n",
        "    #print()\n",
        "    ftn_list.append(ftn)\n",
        "  ftn_torch = torch.Tensor(ftn_list)\n",
        "  #print(\"ftn_torch\", ftn_torch)\n",
        "  #print()\n",
        "  return ftn_torch\n",
        "\n",
        "def get_global(p_best_ftn, S):\n",
        "  G_best_ftn, index = torch.topk(p_best_ftn,1)\n",
        "  #print(\"G_best_ftn\",G_best_ftn, index)\n",
        "  G_best =  S[index] # (1,1,28,28)\n",
        "  #print(G_best.shape)\n",
        "  return G_best, G_best_ftn\n",
        "\n",
        "\n",
        "def calculate_v(V, S, p_best, G_best, N):\n",
        "  w = 1\n",
        "  c1 = 1\n",
        "  c2 = 1\n",
        "  G_best_new = G_best.squeeze(0).repeat(N,1,1,1)\n",
        "  V_next = (w * V) + (c1 * torch.rand(N, 1, 28, 28)*(p_best - S)) + (c2 * torch.rand(N, 1, 28, 28)*(G_best_new - S) )\n",
        "  \n",
        "  return V_next\n",
        "\n",
        "def get_personal_best(S, S_score, p_best, p_best_ftn ):\n",
        "  # S: N, 1, 28, 28 (N =20)\n",
        "  # S_score: N\n",
        "  # p_best: N, 1, 28, 28\n",
        "  # p_best_ftn: N\n",
        "  \n",
        "  index = S_score > p_best_ftn\n",
        "\n",
        "  p_best_ftn[index] = S_score[index]\n",
        "  p_best[index] = S[index]\n",
        "\n",
        "  return p_best, p_best_ftn\n",
        "  \n",
        "\n",
        "def targetPSO(model,x,x_label, D, N, V, Beta, Epsilon, Zeta, sigma):\n",
        "  G_list = []\n",
        "  for i_x in range(len(x)):\n",
        "    cur_x = x[i_x].view(1,1,28,28)\n",
        "    cur_label = x_label[i_x]\n",
        "    # initialize V\n",
        "    V = torch.zeros(N,1,28,28)\n",
        "\n",
        "    #initialize the population of N particle\n",
        "    S = torch.clip(cur_x + torch.rand(N,1,28,28),-0.4242,2.8215) # (N,1,28,28)\n",
        "    \n",
        "    # calculate the score for each particles\n",
        "    S_score = cal_ftn(model,S ,cur_x, cur_label, sigma, Epsilon) # (N)\n",
        "    #print(\"S_score\",S_score)\n",
        "\n",
        "    p_best = S # keep the particle value that best (N,1,28,28)\n",
        "    p_best_ftn = S_score # keep the fitness function (N)\n",
        "    # get Global\n",
        "    G_best, G_best_ftn = get_global(p_best_ftn, S) #G_best (1,1,28,28), G_best_ftn (1)\n",
        "    \n",
        "    for i in range(1000):\n",
        "      V = calculate_v(V, S, p_best, G_best, N)\n",
        "      \n",
        "      # update S and S_score\n",
        "      S = torch.clip(S + V ,-0.4242,2.8215)#(N,1,28,28)\n",
        "      S_score = cal_ftn(model,S ,cur_x, cur_label, sigma, Epsilon)\n",
        "      \n",
        "      # get_personal best\n",
        "      p_best, p_best_ftn = get_personal_best(S, S_score, p_best, p_best_ftn)\n",
        "      G_best, G_best_ftn = get_global(p_best_ftn, S)\n",
        "      \n",
        "    G_list.append(G_best)\n",
        "    imshow(torchvision.utils.make_grid(G_best))\n",
        "    print(torch.topk(model(G_best),1))\n",
        "  result = torch.cat(G_list, dim=0)\n",
        "  return result\n"
      ],
      "execution_count": null,
      "outputs": []
    },
    {
      "cell_type": "code",
      "metadata": {
        "colab": {
          "background_save": true,
          "base_uri": "https://localhost:8080/",
          "height": 1000
        },
        "id": "U3Jq6r5rebXf",
        "outputId": "06ac7ff3-49dc-431b-e71d-04e510cd0a40"
      },
      "source": [
        "count_model = 0\n",
        "import time\n",
        "\n",
        "start = time.time()\n",
        "G_list = targetPSO(model, \n",
        "          images[:50], \n",
        "          labels, # y* target \n",
        "          D = 0,\n",
        "          N = 24, #N: swan size\n",
        "          V = 100, # V: number of query\n",
        "          Epsilon = 25, #epsilon (upper_bound_distance): \n",
        "          Zeta = 1, # zeta (score_limit)\n",
        "          Beta = 1, # beta : lower confidence limit against the adversarial example.\n",
        "          sigma = 1.9\n",
        ")\n",
        "end = time.time()\n"
      ],
      "execution_count": null,
      "outputs": [
        {
          "output_type": "stream",
          "text": [
            "Clipping input data to the valid range for imshow with RGB data ([0..1] for floats or [0..255] for integers).\n"
          ],
          "name": "stderr"
        },
        {
          "output_type": "display_data",
          "data": {
            "image/png": "[encoded data removed]",
            "text/plain": [
              "<Figure size 432x288 with 1 Axes>"
            ]
          },
          "metadata": {
            "tags": []
          }
        },
        {
          "output_type": "stream",
          "text": [
            "torch.return_types.topk(\n",
            "values=tensor([[14.5390]], grad_fn=<TopkBackward>),\n",
            "indices=tensor([[2]]))\n"
          ],
          "name": "stdout"
        },
        {
          "output_type": "stream",
          "text": [
            "Clipping input data to the valid range for imshow with RGB data ([0..1] for floats or [0..255] for integers).\n"
          ],
          "name": "stderr"
        },
        {
          "output_type": "display_data",
          "data": {
            "image/png": "[encoded data removed]",
            "text/plain": [
              "<Figure size 432x288 with 1 Axes>"
            ]
          },
          "metadata": {
            "tags": []
          }
        },
        {
          "output_type": "stream",
          "text": [
            "torch.return_types.topk(\n",
            "values=tensor([[13.4798]], grad_fn=<TopkBackward>),\n",
            "indices=tensor([[2]]))\n"
          ],
          "name": "stdout"
        },
        {
          "output_type": "stream",
          "text": [
            "Clipping input data to the valid range for imshow with RGB data ([0..1] for floats or [0..255] for integers).\n"
          ],
          "name": "stderr"
        },
        {
          "output_type": "display_data",
          "data": {
            "image/png": "[encoded data removed]",
            "text/plain": [
              "<Figure size 432x288 with 1 Axes>"
            ]
          },
          "metadata": {
            "tags": []
          }
        },
        {
          "output_type": "stream",
          "text": [
            "torch.return_types.topk(\n",
            "values=tensor([[21.0668]], grad_fn=<TopkBackward>),\n",
            "indices=tensor([[4]]))\n"
          ],
          "name": "stdout"
        },
        {
          "output_type": "stream",
          "text": [
            "Clipping input data to the valid range for imshow with RGB data ([0..1] for floats or [0..255] for integers).\n"
          ],
          "name": "stderr"
        },
        {
          "output_type": "display_data",
          "data": {
            "image/png": "[encoded data removed]",
            "text/plain": [
              "<Figure size 432x288 with 1 Axes>"
            ]
          },
          "metadata": {
            "tags": []
          }
        },
        {
          "output_type": "stream",
          "text": [
            "torch.return_types.topk(\n",
            "values=tensor([[13.2333]], grad_fn=<TopkBackward>),\n",
            "indices=tensor([[2]]))\n"
          ],
          "name": "stdout"
        },
        {
          "output_type": "stream",
          "text": [
            "Clipping input data to the valid range for imshow with RGB data ([0..1] for floats or [0..255] for integers).\n"
          ],
          "name": "stderr"
        },
        {
          "output_type": "display_data",
          "data": {
            "image/png": "[encoded data removed]",
            "text/plain": [
              "<Figure size 432x288 with 1 Axes>"
            ]
          },
          "metadata": {
            "tags": []
          }
        },
        {
          "output_type": "stream",
          "text": [
            "torch.return_types.topk(\n",
            "values=tensor([[13.0266]], grad_fn=<TopkBackward>),\n",
            "indices=tensor([[4]]))\n"
          ],
          "name": "stdout"
        },
        {
          "output_type": "stream",
          "text": [
            "Clipping input data to the valid range for imshow with RGB data ([0..1] for floats or [0..255] for integers).\n"
          ],
          "name": "stderr"
        },
        {
          "output_type": "display_data",
          "data": {
            "image/png": "[encoded data removed]",
            "text/plain": [
              "<Figure size 432x288 with 1 Axes>"
            ]
          },
          "metadata": {
            "tags": []
          }
        },
        {
          "output_type": "stream",
          "text": [
            "torch.return_types.topk(\n",
            "values=tensor([[17.3155]], grad_fn=<TopkBackward>),\n",
            "indices=tensor([[2]]))\n"
          ],
          "name": "stdout"
        },
        {
          "output_type": "stream",
          "text": [
            "Clipping input data to the valid range for imshow with RGB data ([0..1] for floats or [0..255] for integers).\n"
          ],
          "name": "stderr"
        },
        {
          "output_type": "display_data",
          "data": {
            "image/png": "[encoded data removed]",
            "text/plain": [
              "<Figure size 432x288 with 1 Axes>"
            ]
          },
          "metadata": {
            "tags": []
          }
        },
        {
          "output_type": "stream",
          "text": [
            "torch.return_types.topk(\n",
            "values=tensor([[10.8076]], grad_fn=<TopkBackward>),\n",
            "indices=tensor([[9]]))\n"
          ],
          "name": "stdout"
        },
        {
          "output_type": "stream",
          "text": [
            "Clipping input data to the valid range for imshow with RGB data ([0..1] for floats or [0..255] for integers).\n"
          ],
          "name": "stderr"
        },
        {
          "output_type": "display_data",
          "data": {
            "image/png": "[encoded data removed]",
            "text/plain": [
              "<Figure size 432x288 with 1 Axes>"
            ]
          },
          "metadata": {
            "tags": []
          }
        },
        {
          "output_type": "stream",
          "text": [
            "torch.return_types.topk(\n",
            "values=tensor([[15.5088]], grad_fn=<TopkBackward>),\n",
            "indices=tensor([[5]]))\n"
          ],
          "name": "stdout"
        },
        {
          "output_type": "stream",
          "text": [
            "Clipping input data to the valid range for imshow with RGB data ([0..1] for floats or [0..255] for integers).\n"
          ],
          "name": "stderr"
        },
        {
          "output_type": "display_data",
          "data": {
            "image/png": "[encoded data removed]",
            "text/plain": [
              "<Figure size 432x288 with 1 Axes>"
            ]
          },
          "metadata": {
            "tags": []
          }
        },
        {
          "output_type": "stream",
          "text": [
            "torch.return_types.topk(\n",
            "values=tensor([[3.7451]], grad_fn=<TopkBackward>),\n",
            "indices=tensor([[5]]))\n"
          ],
          "name": "stdout"
        },
        {
          "output_type": "stream",
          "text": [
            "Clipping input data to the valid range for imshow with RGB data ([0..1] for floats or [0..255] for integers).\n"
          ],
          "name": "stderr"
        },
        {
          "output_type": "display_data",
          "data": {
            "image/png": "[encoded data removed]",
            "text/plain": [
              "<Figure size 432x288 with 1 Axes>"
            ]
          },
          "metadata": {
            "tags": []
          }
        },
        {
          "output_type": "stream",
          "text": [
            "torch.return_types.topk(\n",
            "values=tensor([[17.0063]], grad_fn=<TopkBackward>),\n",
            "indices=tensor([[3]]))\n"
          ],
          "name": "stdout"
        },
        {
          "output_type": "stream",
          "text": [
            "Clipping input data to the valid range for imshow with RGB data ([0..1] for floats or [0..255] for integers).\n"
          ],
          "name": "stderr"
        },
        {
          "output_type": "display_data",
          "data": {
            "image/png": "[encoded data removed]",
            "text/plain": [
              "<Figure size 432x288 with 1 Axes>"
            ]
          },
          "metadata": {
            "tags": []
          }
        },
        {
          "output_type": "stream",
          "text": [
            "torch.return_types.topk(\n",
            "values=tensor([[16.1298]], grad_fn=<TopkBackward>),\n",
            "indices=tensor([[2]]))\n"
          ],
          "name": "stdout"
        },
        {
          "output_type": "stream",
          "text": [
            "Clipping input data to the valid range for imshow with RGB data ([0..1] for floats or [0..255] for integers).\n"
          ],
          "name": "stderr"
        },
        {
          "output_type": "display_data",
          "data": {
            "image/png": "[encoded data removed]",
            "text/plain": [
              "<Figure size 432x288 with 1 Axes>"
            ]
          },
          "metadata": {
            "tags": []
          }
        },
        {
          "output_type": "stream",
          "text": [
            "torch.return_types.topk(\n",
            "values=tensor([[12.9298]], grad_fn=<TopkBackward>),\n",
            "indices=tensor([[8]]))\n"
          ],
          "name": "stdout"
        },
        {
          "output_type": "stream",
          "text": [
            "Clipping input data to the valid range for imshow with RGB data ([0..1] for floats or [0..255] for integers).\n"
          ],
          "name": "stderr"
        },
        {
          "output_type": "display_data",
          "data": {
            "image/png": "[encoded data removed]",
            "text/plain": [
              "<Figure size 432x288 with 1 Axes>"
            ]
          },
          "metadata": {
            "tags": []
          }
        },
        {
          "output_type": "stream",
          "text": [
            "torch.return_types.topk(\n",
            "values=tensor([[19.8906]], grad_fn=<TopkBackward>),\n",
            "indices=tensor([[4]]))\n"
          ],
          "name": "stdout"
        },
        {
          "output_type": "stream",
          "text": [
            "Clipping input data to the valid range for imshow with RGB data ([0..1] for floats or [0..255] for integers).\n"
          ],
          "name": "stderr"
        },
        {
          "output_type": "display_data",
          "data": {
            "image/png": "[encoded data removed]",
            "text/plain": [
              "<Figure size 432x288 with 1 Axes>"
            ]
          },
          "metadata": {
            "tags": []
          }
        },
        {
          "output_type": "stream",
          "text": [
            "torch.return_types.topk(\n",
            "values=tensor([[14.1170]], grad_fn=<TopkBackward>),\n",
            "indices=tensor([[2]]))\n"
          ],
          "name": "stdout"
        },
        {
          "output_type": "stream",
          "text": [
            "Clipping input data to the valid range for imshow with RGB data ([0..1] for floats or [0..255] for integers).\n"
          ],
          "name": "stderr"
        },
        {
          "output_type": "display_data",
          "data": {
            "image/png": "[encoded data removed]",
            "text/plain": [
              "<Figure size 432x288 with 1 Axes>"
            ]
          },
          "metadata": {
            "tags": []
          }
        },
        {
          "output_type": "stream",
          "text": [
            "torch.return_types.topk(\n",
            "values=tensor([[17.0250]], grad_fn=<TopkBackward>),\n",
            "indices=tensor([[3]]))\n"
          ],
          "name": "stdout"
        },
        {
          "output_type": "stream",
          "text": [
            "Clipping input data to the valid range for imshow with RGB data ([0..1] for floats or [0..255] for integers).\n"
          ],
          "name": "stderr"
        },
        {
          "output_type": "display_data",
          "data": {
            "image/png": "[encoded data removed]",
            "text/plain": [
              "<Figure size 432x288 with 1 Axes>"
            ]
          },
          "metadata": {
            "tags": []
          }
        },
        {
          "output_type": "stream",
          "text": [
            "torch.return_types.topk(\n",
            "values=tensor([[17.0742]], grad_fn=<TopkBackward>),\n",
            "indices=tensor([[3]]))\n"
          ],
          "name": "stdout"
        },
        {
          "output_type": "stream",
          "text": [
            "Clipping input data to the valid range for imshow with RGB data ([0..1] for floats or [0..255] for integers).\n"
          ],
          "name": "stderr"
        },
        {
          "output_type": "display_data",
          "data": {
            "image/png": "[encoded data removed]",
            "text/plain": [
              "<Figure size 432x288 with 1 Axes>"
            ]
          },
          "metadata": {
            "tags": []
          }
        },
        {
          "output_type": "stream",
          "text": [
            "torch.return_types.topk(\n",
            "values=tensor([[11.2875]], grad_fn=<TopkBackward>),\n",
            "indices=tensor([[7]]))\n"
          ],
          "name": "stdout"
        },
        {
          "output_type": "stream",
          "text": [
            "Clipping input data to the valid range for imshow with RGB data ([0..1] for floats or [0..255] for integers).\n"
          ],
          "name": "stderr"
        },
        {
          "output_type": "display_data",
          "data": {
            "image/png": "[encoded data removed]",
            "text/plain": [
              "<Figure size 432x288 with 1 Axes>"
            ]
          },
          "metadata": {
            "tags": []
          }
        },
        {
          "output_type": "stream",
          "text": [
            "torch.return_types.topk(\n",
            "values=tensor([[17.9777]], grad_fn=<TopkBackward>),\n",
            "indices=tensor([[3]]))\n"
          ],
          "name": "stdout"
        },
        {
          "output_type": "stream",
          "text": [
            "Clipping input data to the valid range for imshow with RGB data ([0..1] for floats or [0..255] for integers).\n"
          ],
          "name": "stderr"
        },
        {
          "output_type": "display_data",
          "data": {
            "image/png": "[encoded data removed]",
            "text/plain": [
              "<Figure size 432x288 with 1 Axes>"
            ]
          },
          "metadata": {
            "tags": []
          }
        },
        {
          "output_type": "stream",
          "text": [
            "torch.return_types.topk(\n",
            "values=tensor([[6.0462]], grad_fn=<TopkBackward>),\n",
            "indices=tensor([[3]]))\n"
          ],
          "name": "stdout"
        },
        {
          "output_type": "stream",
          "text": [
            "Clipping input data to the valid range for imshow with RGB data ([0..1] for floats or [0..255] for integers).\n"
          ],
          "name": "stderr"
        },
        {
          "output_type": "display_data",
          "data": {
            "image/png": "[encoded data removed]",
            "text/plain": [
              "<Figure size 432x288 with 1 Axes>"
            ]
          },
          "metadata": {
            "tags": []
          }
        },
        {
          "output_type": "stream",
          "text": [
            "torch.return_types.topk(\n",
            "values=tensor([[15.0476]], grad_fn=<TopkBackward>),\n",
            "indices=tensor([[4]]))\n"
          ],
          "name": "stdout"
        },
        {
          "output_type": "stream",
          "text": [
            "Clipping input data to the valid range for imshow with RGB data ([0..1] for floats or [0..255] for integers).\n"
          ],
          "name": "stderr"
        },
        {
          "output_type": "display_data",
          "data": {
            "image/png": "[encoded data removed]",
            "text/plain": [
              "<Figure size 432x288 with 1 Axes>"
            ]
          },
          "metadata": {
            "tags": []
          }
        },
        {
          "output_type": "stream",
          "text": [
            "torch.return_types.topk(\n",
            "values=tensor([[18.5614]], grad_fn=<TopkBackward>),\n",
            "indices=tensor([[3]]))\n"
          ],
          "name": "stdout"
        },
        {
          "output_type": "stream",
          "text": [
            "Clipping input data to the valid range for imshow with RGB data ([0..1] for floats or [0..255] for integers).\n"
          ],
          "name": "stderr"
        },
        {
          "output_type": "display_data",
          "data": {
            "image/png": "[encoded data removed]",
            "text/plain": [
              "<Figure size 432x288 with 1 Axes>"
            ]
          },
          "metadata": {
            "tags": []
          }
        },
        {
          "output_type": "stream",
          "text": [
            "torch.return_types.topk(\n",
            "values=tensor([[16.2289]], grad_fn=<TopkBackward>),\n",
            "indices=tensor([[5]]))\n"
          ],
          "name": "stdout"
        },
        {
          "output_type": "stream",
          "text": [
            "Clipping input data to the valid range for imshow with RGB data ([0..1] for floats or [0..255] for integers).\n"
          ],
          "name": "stderr"
        },
        {
          "output_type": "display_data",
          "data": {
            "image/png": "[encoded data removed]",
            "text/plain": [
              "<Figure size 432x288 with 1 Axes>"
            ]
          },
          "metadata": {
            "tags": []
          }
        },
        {
          "output_type": "stream",
          "text": [
            "torch.return_types.topk(\n",
            "values=tensor([[10.3239]], grad_fn=<TopkBackward>),\n",
            "indices=tensor([[4]]))\n"
          ],
          "name": "stdout"
        },
        {
          "output_type": "stream",
          "text": [
            "Clipping input data to the valid range for imshow with RGB data ([0..1] for floats or [0..255] for integers).\n"
          ],
          "name": "stderr"
        },
        {
          "output_type": "display_data",
          "data": {
            "image/png": "[encoded data removed]",
            "text/plain": [
              "<Figure size 432x288 with 1 Axes>"
            ]
          },
          "metadata": {
            "tags": []
          }
        },
        {
          "output_type": "stream",
          "text": [
            "torch.return_types.topk(\n",
            "values=tensor([[17.7454]], grad_fn=<TopkBackward>),\n",
            "indices=tensor([[3]]))\n"
          ],
          "name": "stdout"
        },
        {
          "output_type": "stream",
          "text": [
            "Clipping input data to the valid range for imshow with RGB data ([0..1] for floats or [0..255] for integers).\n"
          ],
          "name": "stderr"
        },
        {
          "output_type": "display_data",
          "data": {
            "image/png": "[encoded data removed]",
            "text/plain": [
              "<Figure size 432x288 with 1 Axes>"
            ]
          },
          "metadata": {
            "tags": []
          }
        },
        {
          "output_type": "stream",
          "text": [
            "torch.return_types.topk(\n",
            "values=tensor([[14.3951]], grad_fn=<TopkBackward>),\n",
            "indices=tensor([[4]]))\n"
          ],
          "name": "stdout"
        },
        {
          "output_type": "stream",
          "text": [
            "Clipping input data to the valid range for imshow with RGB data ([0..1] for floats or [0..255] for integers).\n"
          ],
          "name": "stderr"
        },
        {
          "output_type": "display_data",
          "data": {
            "image/png": "[encoded data removed]",
            "text/plain": [
              "<Figure size 432x288 with 1 Axes>"
            ]
          },
          "metadata": {
            "tags": []
          }
        },
        {
          "output_type": "stream",
          "text": [
            "torch.return_types.topk(\n",
            "values=tensor([[11.3232]], grad_fn=<TopkBackward>),\n",
            "indices=tensor([[8]]))\n"
          ],
          "name": "stdout"
        },
        {
          "output_type": "stream",
          "text": [
            "Clipping input data to the valid range for imshow with RGB data ([0..1] for floats or [0..255] for integers).\n"
          ],
          "name": "stderr"
        },
        {
          "output_type": "display_data",
          "data": {
            "image/png": "[encoded data removed]",
            "text/plain": [
              "<Figure size 432x288 with 1 Axes>"
            ]
          },
          "metadata": {
            "tags": []
          }
        },
        {
          "output_type": "stream",
          "text": [
            "torch.return_types.topk(\n",
            "values=tensor([[16.8762]], grad_fn=<TopkBackward>),\n",
            "indices=tensor([[3]]))\n"
          ],
          "name": "stdout"
        },
        {
          "output_type": "stream",
          "text": [
            "Clipping input data to the valid range for imshow with RGB data ([0..1] for floats or [0..255] for integers).\n"
          ],
          "name": "stderr"
        },
        {
          "output_type": "display_data",
          "data": {
            "image/png": "[encoded data removed]",
            "text/plain": [
              "<Figure size 432x288 with 1 Axes>"
            ]
          },
          "metadata": {
            "tags": []
          }
        },
        {
          "output_type": "stream",
          "text": [
            "torch.return_types.topk(\n",
            "values=tensor([[14.8410]], grad_fn=<TopkBackward>),\n",
            "indices=tensor([[4]]))\n"
          ],
          "name": "stdout"
        },
        {
          "output_type": "stream",
          "text": [
            "Clipping input data to the valid range for imshow with RGB data ([0..1] for floats or [0..255] for integers).\n"
          ],
          "name": "stderr"
        },
        {
          "output_type": "display_data",
          "data": {
            "image/png": "[encoded data removed]",
            "text/plain": [
              "<Figure size 432x288 with 1 Axes>"
            ]
          },
          "metadata": {
            "tags": []
          }
        },
        {
          "output_type": "stream",
          "text": [
            "torch.return_types.topk(\n",
            "values=tensor([[15.4636]], grad_fn=<TopkBackward>),\n",
            "indices=tensor([[3]]))\n"
          ],
          "name": "stdout"
        },
        {
          "output_type": "stream",
          "text": [
            "Clipping input data to the valid range for imshow with RGB data ([0..1] for floats or [0..255] for integers).\n"
          ],
          "name": "stderr"
        },
        {
          "output_type": "display_data",
          "data": {
            "image/png": "[encoded data removed]",
            "text/plain": [
              "<Figure size 432x288 with 1 Axes>"
            ]
          },
          "metadata": {
            "tags": []
          }
        },
        {
          "output_type": "stream",
          "text": [
            "torch.return_types.topk(\n",
            "values=tensor([[14.8506]], grad_fn=<TopkBackward>),\n",
            "indices=tensor([[4]]))\n"
          ],
          "name": "stdout"
        },
        {
          "output_type": "stream",
          "text": [
            "Clipping input data to the valid range for imshow with RGB data ([0..1] for floats or [0..255] for integers).\n"
          ],
          "name": "stderr"
        },
        {
          "output_type": "display_data",
          "data": {
            "image/png": "[encoded data removed]",
            "text/plain": [
              "<Figure size 432x288 with 1 Axes>"
            ]
          },
          "metadata": {
            "tags": []
          }
        },
        {
          "output_type": "stream",
          "text": [
            "torch.return_types.topk(\n",
            "values=tensor([[13.9342]], grad_fn=<TopkBackward>),\n",
            "indices=tensor([[3]]))\n"
          ],
          "name": "stdout"
        },
        {
          "output_type": "stream",
          "text": [
            "Clipping input data to the valid range for imshow with RGB data ([0..1] for floats or [0..255] for integers).\n"
          ],
          "name": "stderr"
        },
        {
          "output_type": "display_data",
          "data": {
            "image/png": "[encoded data removed]",
            "text/plain": [
              "<Figure size 432x288 with 1 Axes>"
            ]
          },
          "metadata": {
            "tags": []
          }
        },
        {
          "output_type": "stream",
          "text": [
            "torch.return_types.topk(\n",
            "values=tensor([[16.2128]], grad_fn=<TopkBackward>),\n",
            "indices=tensor([[4]]))\n"
          ],
          "name": "stdout"
        },
        {
          "output_type": "stream",
          "text": [
            "Clipping input data to the valid range for imshow with RGB data ([0..1] for floats or [0..255] for integers).\n"
          ],
          "name": "stderr"
        },
        {
          "output_type": "display_data",
          "data": {
            "image/png": "[encoded data removed]",
            "text/plain": [
              "<Figure size 432x288 with 1 Axes>"
            ]
          },
          "metadata": {
            "tags": []
          }
        },
        {
          "output_type": "stream",
          "text": [
            "torch.return_types.topk(\n",
            "values=tensor([[13.8315]], grad_fn=<TopkBackward>),\n",
            "indices=tensor([[3]]))\n"
          ],
          "name": "stdout"
        },
        {
          "output_type": "stream",
          "text": [
            "Clipping input data to the valid range for imshow with RGB data ([0..1] for floats or [0..255] for integers).\n"
          ],
          "name": "stderr"
        },
        {
          "output_type": "display_data",
          "data": {
            "image/png": "[encoded data removed]",
            "text/plain": [
              "<Figure size 432x288 with 1 Axes>"
            ]
          },
          "metadata": {
            "tags": []
          }
        },
        {
          "output_type": "stream",
          "text": [
            "torch.return_types.topk(\n",
            "values=tensor([[13.9539]], grad_fn=<TopkBackward>),\n",
            "indices=tensor([[4]]))\n"
          ],
          "name": "stdout"
        },
        {
          "output_type": "stream",
          "text": [
            "Clipping input data to the valid range for imshow with RGB data ([0..1] for floats or [0..255] for integers).\n"
          ],
          "name": "stderr"
        },
        {
          "output_type": "display_data",
          "data": {
            "image/png": "[encoded data removed]",
            "text/plain": [
              "<Figure size 432x288 with 1 Axes>"
            ]
          },
          "metadata": {
            "tags": []
          }
        },
        {
          "output_type": "stream",
          "text": [
            "torch.return_types.topk(\n",
            "values=tensor([[6.7255]], grad_fn=<TopkBackward>),\n",
            "indices=tensor([[2]]))\n"
          ],
          "name": "stdout"
        },
        {
          "output_type": "stream",
          "text": [
            "Clipping input data to the valid range for imshow with RGB data ([0..1] for floats or [0..255] for integers).\n"
          ],
          "name": "stderr"
        },
        {
          "output_type": "display_data",
          "data": {
            "image/png": "[encoded data removed]",
            "text/plain": [
              "<Figure size 432x288 with 1 Axes>"
            ]
          },
          "metadata": {
            "tags": []
          }
        },
        {
          "output_type": "stream",
          "text": [
            "torch.return_types.topk(\n",
            "values=tensor([[15.4473]], grad_fn=<TopkBackward>),\n",
            "indices=tensor([[2]]))\n"
          ],
          "name": "stdout"
        },
        {
          "output_type": "stream",
          "text": [
            "Clipping input data to the valid range for imshow with RGB data ([0..1] for floats or [0..255] for integers).\n"
          ],
          "name": "stderr"
        },
        {
          "output_type": "display_data",
          "data": {
            "image/png": "[encoded data removed]",
            "text/plain": [
              "<Figure size 432x288 with 1 Axes>"
            ]
          },
          "metadata": {
            "tags": []
          }
        },
        {
          "output_type": "stream",
          "text": [
            "torch.return_types.topk(\n",
            "values=tensor([[12.3628]], grad_fn=<TopkBackward>),\n",
            "indices=tensor([[5]]))\n"
          ],
          "name": "stdout"
        },
        {
          "output_type": "stream",
          "text": [
            "Clipping input data to the valid range for imshow with RGB data ([0..1] for floats or [0..255] for integers).\n"
          ],
          "name": "stderr"
        },
        {
          "output_type": "display_data",
          "data": {
            "image/png": "[encoded data removed]",
            "text/plain": [
              "<Figure size 432x288 with 1 Axes>"
            ]
          },
          "metadata": {
            "tags": []
          }
        },
        {
          "output_type": "stream",
          "text": [
            "torch.return_types.topk(\n",
            "values=tensor([[19.0644]], grad_fn=<TopkBackward>),\n",
            "indices=tensor([[4]]))\n"
          ],
          "name": "stdout"
        },
        {
          "output_type": "stream",
          "text": [
            "Clipping input data to the valid range for imshow with RGB data ([0..1] for floats or [0..255] for integers).\n"
          ],
          "name": "stderr"
        },
        {
          "output_type": "display_data",
          "data": {
            "image/png": "[encoded data removed]",
            "text/plain": [
              "<Figure size 432x288 with 1 Axes>"
            ]
          },
          "metadata": {
            "tags": []
          }
        },
        {
          "output_type": "stream",
          "text": [
            "torch.return_types.topk(\n",
            "values=tensor([[18.6525]], grad_fn=<TopkBackward>),\n",
            "indices=tensor([[3]]))\n"
          ],
          "name": "stdout"
        },
        {
          "output_type": "stream",
          "text": [
            "Clipping input data to the valid range for imshow with RGB data ([0..1] for floats or [0..255] for integers).\n"
          ],
          "name": "stderr"
        },
        {
          "output_type": "display_data",
          "data": {
            "image/png": "[encoded data removed]",
            "text/plain": [
              "<Figure size 432x288 with 1 Axes>"
            ]
          },
          "metadata": {
            "tags": []
          }
        },
        {
          "output_type": "stream",
          "text": [
            "torch.return_types.topk(\n",
            "values=tensor([[17.6841]], grad_fn=<TopkBackward>),\n",
            "indices=tensor([[4]]))\n"
          ],
          "name": "stdout"
        },
        {
          "output_type": "stream",
          "text": [
            "Clipping input data to the valid range for imshow with RGB data ([0..1] for floats or [0..255] for integers).\n"
          ],
          "name": "stderr"
        },
        {
          "output_type": "display_data",
          "data": {
            "image/png": "[encoded data removed]",
            "text/plain": [
              "<Figure size 432x288 with 1 Axes>"
            ]
          },
          "metadata": {
            "tags": []
          }
        },
        {
          "output_type": "stream",
          "text": [
            "torch.return_types.topk(\n",
            "values=tensor([[18.7355]], grad_fn=<TopkBackward>),\n",
            "indices=tensor([[3]]))\n"
          ],
          "name": "stdout"
        },
        {
          "output_type": "stream",
          "text": [
            "Clipping input data to the valid range for imshow with RGB data ([0..1] for floats or [0..255] for integers).\n"
          ],
          "name": "stderr"
        },
        {
          "output_type": "display_data",
          "data": {
            "image/png": "[encoded data removed]",
            "text/plain": [
              "<Figure size 432x288 with 1 Axes>"
            ]
          },
          "metadata": {
            "tags": []
          }
        },
        {
          "output_type": "stream",
          "text": [
            "torch.return_types.topk(\n",
            "values=tensor([[19.5958]], grad_fn=<TopkBackward>),\n",
            "indices=tensor([[3]]))\n"
          ],
          "name": "stdout"
        },
        {
          "output_type": "stream",
          "text": [
            "Clipping input data to the valid range for imshow with RGB data ([0..1] for floats or [0..255] for integers).\n"
          ],
          "name": "stderr"
        },
        {
          "output_type": "display_data",
          "data": {
            "image/png": "[encoded data removed]",
            "text/plain": [
              "<Figure size 432x288 with 1 Axes>"
            ]
          },
          "metadata": {
            "tags": []
          }
        },
        {
          "output_type": "stream",
          "text": [
            "torch.return_types.topk(\n",
            "values=tensor([[12.5334]], grad_fn=<TopkBackward>),\n",
            "indices=tensor([[4]]))\n"
          ],
          "name": "stdout"
        },
        {
          "output_type": "stream",
          "text": [
            "Clipping input data to the valid range for imshow with RGB data ([0..1] for floats or [0..255] for integers).\n"
          ],
          "name": "stderr"
        },
        {
          "output_type": "display_data",
          "data": {
            "image/png": "[encoded data removed]",
            "text/plain": [
              "<Figure size 432x288 with 1 Axes>"
            ]
          },
          "metadata": {
            "tags": []
          }
        },
        {
          "output_type": "stream",
          "text": [
            "torch.return_types.topk(\n",
            "values=tensor([[19.6201]], grad_fn=<TopkBackward>),\n",
            "indices=tensor([[4]]))\n"
          ],
          "name": "stdout"
        },
        {
          "output_type": "stream",
          "text": [
            "Clipping input data to the valid range for imshow with RGB data ([0..1] for floats or [0..255] for integers).\n"
          ],
          "name": "stderr"
        },
        {
          "output_type": "display_data",
          "data": {
            "image/png": "[encoded data removed]",
            "text/plain": [
              "<Figure size 432x288 with 1 Axes>"
            ]
          },
          "metadata": {
            "tags": []
          }
        },
        {
          "output_type": "stream",
          "text": [
            "torch.return_types.topk(\n",
            "values=tensor([[15.5371]], grad_fn=<TopkBackward>),\n",
            "indices=tensor([[2]]))\n"
          ],
          "name": "stdout"
        },
        {
          "output_type": "stream",
          "text": [
            "Clipping input data to the valid range for imshow with RGB data ([0..1] for floats or [0..255] for integers).\n"
          ],
          "name": "stderr"
        },
        {
          "output_type": "display_data",
          "data": {
            "image/png": "[encoded data removed]",
            "text/plain": [
              "<Figure size 432x288 with 1 Axes>"
            ]
          },
          "metadata": {
            "tags": []
          }
        },
        {
          "output_type": "stream",
          "text": [
            "torch.return_types.topk(\n",
            "values=tensor([[13.9106]], grad_fn=<TopkBackward>),\n",
            "indices=tensor([[8]]))\n"
          ],
          "name": "stdout"
        },
        {
          "output_type": "stream",
          "text": [
            "Clipping input data to the valid range for imshow with RGB data ([0..1] for floats or [0..255] for integers).\n"
          ],
          "name": "stderr"
        },
        {
          "output_type": "display_data",
          "data": {
            "image/png": "[encoded data removed]",
            "text/plain": [
              "<Figure size 432x288 with 1 Axes>"
            ]
          },
          "metadata": {
            "tags": []
          }
        },
        {
          "output_type": "stream",
          "text": [
            "torch.return_types.topk(\n",
            "values=tensor([[16.3520]], grad_fn=<TopkBackward>),\n",
            "indices=tensor([[3]]))\n"
          ],
          "name": "stdout"
        },
        {
          "output_type": "stream",
          "text": [
            "Clipping input data to the valid range for imshow with RGB data ([0..1] for floats or [0..255] for integers).\n"
          ],
          "name": "stderr"
        },
        {
          "output_type": "display_data",
          "data": {
            "image/png": "[encoded data removed]",
            "text/plain": [
              "<Figure size 432x288 with 1 Axes>"
            ]
          },
          "metadata": {
            "tags": []
          }
        },
        {
          "output_type": "stream",
          "text": [
            "torch.return_types.topk(\n",
            "values=tensor([[14.0516]], grad_fn=<TopkBackward>),\n",
            "indices=tensor([[2]]))\n"
          ],
          "name": "stdout"
        },
        {
          "output_type": "stream",
          "text": [
            "Clipping input data to the valid range for imshow with RGB data ([0..1] for floats or [0..255] for integers).\n"
          ],
          "name": "stderr"
        },
        {
          "output_type": "display_data",
          "data": {
            "image/png": "[encoded data removed]",
            "text/plain": [
              "<Figure size 432x288 with 1 Axes>"
            ]
          },
          "metadata": {
            "tags": []
          }
        },
        {
          "output_type": "stream",
          "text": [
            "torch.return_types.topk(\n",
            "values=tensor([[8.8957]], grad_fn=<TopkBackward>),\n",
            "indices=tensor([[4]]))\n"
          ],
          "name": "stdout"
        },
        {
          "output_type": "stream",
          "text": [
            "Clipping input data to the valid range for imshow with RGB data ([0..1] for floats or [0..255] for integers).\n"
          ],
          "name": "stderr"
        },
        {
          "output_type": "display_data",
          "data": {
            "image/png": "[encoded data removed]",
            "text/plain": [
              "<Figure size 432x288 with 1 Axes>"
            ]
          },
          "metadata": {
            "tags": []
          }
        },
        {
          "output_type": "stream",
          "text": [
            "torch.return_types.topk(\n",
            "values=tensor([[11.6178]], grad_fn=<TopkBackward>),\n",
            "indices=tensor([[4]]))\n"
          ],
          "name": "stdout"
        }
      ]
    },
    {
      "cell_type": "code",
      "metadata": {
        "colab": {
          "base_uri": "https://localhost:8080/"
        },
        "id": "Z3rJo0jtAN3e",
        "outputId": "023f1ff4-766a-43fd-e56b-12b422c59313"
      },
      "source": [
        "print((end - start)/50)"
      ],
      "execution_count": null,
      "outputs": [
        {
          "output_type": "stream",
          "text": [
            "100.39175817012787\n"
          ],
          "name": "stdout"
        }
      ]
    },
    {
      "cell_type": "code",
      "metadata": {
        "colab": {
          "base_uri": "https://localhost:8080/"
        },
        "id": "cM0VYY_DZVRc",
        "outputId": "04389945-7482-468f-f474-10408e984c2a"
      },
      "source": [
        "count_model/ 50"
      ],
      "execution_count": null,
      "outputs": [
        {
          "output_type": "execute_result",
          "data": {
            "text/plain": [
              "1001.0"
            ]
          },
          "metadata": {
            "tags": []
          },
          "execution_count": 71
        }
      ]
    },
    {
      "cell_type": "code",
      "metadata": {
        "colab": {
          "base_uri": "https://localhost:8080/"
        },
        "id": "eeEwfS5vWLh4",
        "outputId": "48f8cc2f-773a-40f8-b723-c76e0f34c1ab"
      },
      "source": [
        "G_list.shape"
      ],
      "execution_count": null,
      "outputs": [
        {
          "output_type": "execute_result",
          "data": {
            "text/plain": [
              "torch.Size([50, 1, 28, 28])"
            ]
          },
          "metadata": {
            "tags": []
          },
          "execution_count": 48
        }
      ]
    },
    {
      "cell_type": "code",
      "metadata": {
        "id": "_B1Sxa3EElkN"
      },
      "source": [
        "torch.save(G_list, '../gdrive/MyDrive/CS454_AI-Based_SE/Code/pso_result.pt')"
      ],
      "execution_count": null,
      "outputs": []
    },
    {
      "cell_type": "code",
      "metadata": {
        "id": "aTXS1GoF-_9F"
      },
      "source": [
        "G_list = torch.load('../gdrive/MyDrive/CS454_AI-Based_SE/Code/pso_result.pt')"
      ],
      "execution_count": null,
      "outputs": []
    },
    {
      "cell_type": "code",
      "metadata": {
        "colab": {
          "base_uri": "https://localhost:8080/"
        },
        "id": "FnM0ful0Xc6g",
        "outputId": "d501cfd7-6498-4e58-8eec-9f07a896298c"
      },
      "source": [
        "G_list[0]"
      ],
      "execution_count": null,
      "outputs": [
        {
          "output_type": "execute_result",
          "data": {
            "text/plain": [
              "torch.Size([1, 28, 28])"
            ]
          },
          "metadata": {
            "tags": []
          },
          "execution_count": 54
        }
      ]
    },
    {
      "cell_type": "code",
      "metadata": {
        "colab": {
          "base_uri": "https://localhost:8080/"
        },
        "id": "-S554Ps2XV73",
        "outputId": "fffe4af6-54c2-4a16-ebad-28a722e1c112"
      },
      "source": [
        "count = 0\n",
        "for i in range(50):\n",
        "  \n",
        "  result = torch.topk(model(G_list[i].view(1,1,28,28)),1).indices.item()\n",
        "  #print(result)\n",
        "  if result != labels[i]:\n",
        "    count += 1\n",
        "print(count)"
      ],
      "execution_count": null,
      "outputs": [
        {
          "output_type": "stream",
          "text": [
            "35\n"
          ],
          "name": "stdout"
        }
      ]
    },
    {
      "cell_type": "code",
      "metadata": {
        "colab": {
          "base_uri": "https://localhost:8080/"
        },
        "id": "rq_mCA41XpK2",
        "outputId": "83380fe2-3fe6-4747-9282-636d3680ed2f"
      },
      "source": [
        "labels[0]"
      ],
      "execution_count": null,
      "outputs": [
        {
          "output_type": "execute_result",
          "data": {
            "text/plain": [
              "tensor(7)"
            ]
          },
          "metadata": {
            "tags": []
          },
          "execution_count": 57
        }
      ]
    },
    {
      "cell_type": "code",
      "metadata": {
        "colab": {
          "base_uri": "https://localhost:8080/"
        },
        "id": "pIIxaYUk_Oyl",
        "outputId": "8db5cb34-ae0a-4934-a927-f72c6ce2d19f"
      },
      "source": [
        "G_list.shape"
      ],
      "execution_count": null,
      "outputs": [
        {
          "output_type": "execute_result",
          "data": {
            "text/plain": [
              "torch.Size([5, 1, 28, 28])"
            ]
          },
          "metadata": {
            "tags": []
          },
          "execution_count": 37
        }
      ]
    },
    {
      "cell_type": "code",
      "metadata": {
        "id": "vYHAu7K3XJiZ"
      },
      "source": [
        "G_value = []"
      ],
      "execution_count": null,
      "outputs": []
    },
    {
      "cell_type": "code",
      "metadata": {
        "colab": {
          "base_uri": "https://localhost:8080/"
        },
        "id": "O0u9k0M4Csbq",
        "outputId": "0f7a945c-6936-4bcd-fa2f-9276b3de4c07"
      },
      "source": [
        "!ls ../gdrive/MyDrive/CS454_AI-Based_SE/Code/"
      ],
      "execution_count": null,
      "outputs": [
        {
          "output_type": "stream",
          "text": [
            " alexnet_pytorch_vision.ipynb\t       results\n",
            " Chi_test.ipynb\t\t\t       results2\n",
            "'Copy of DeepSearchTestEdited.ipynb'   results3\n",
            "'Copy of Genetic Test.ipynb'\t       results_mnist\n",
            " DeepSearchTestEdited.ipynb\t       sample_image\n",
            "'Genetic Test.ipynb'\t\t       Untitled0.ipynb\n",
            " PSO_unfinished.ipynb\t\t      '(version2) alexnet_pytorch_vision.ipynb'\n"
          ],
          "name": "stdout"
        }
      ]
    },
    {
      "cell_type": "code",
      "metadata": {
        "colab": {
          "base_uri": "https://localhost:8080/"
        },
        "id": "jTLJntnICbs5",
        "outputId": "7c9d780b-64e9-466c-9dfe-4b485dc7211b"
      },
      "source": [
        "print(G_best.shape)"
      ],
      "execution_count": null,
      "outputs": [
        {
          "output_type": "stream",
          "text": [
            "torch.Size([1, 1, 28, 28])\n"
          ],
          "name": "stdout"
        }
      ]
    },
    {
      "cell_type": "code",
      "metadata": {
        "colab": {
          "base_uri": "https://localhost:8080/",
          "height": 282
        },
        "id": "kG6sz2roz2LG",
        "outputId": "f59443b8-1bb7-4236-c17c-5e0bf4c6d629"
      },
      "source": [
        "imshow(torchvision.utils.make_grid(G_best))\n"
      ],
      "execution_count": null,
      "outputs": [
        {
          "output_type": "stream",
          "text": [
            "Clipping input data to the valid range for imshow with RGB data ([0..1] for floats or [0..255] for integers).\n"
          ],
          "name": "stderr"
        },
        {
          "output_type": "display_data",
          "data": {
            "image/png": "[encoded data removed]",
            "text/plain": [
              "<Figure size 432x288 with 1 Axes>"
            ]
          },
          "metadata": {
            "tags": []
          }
        }
      ]
    },
    {
      "cell_type": "code",
      "metadata": {
        "colab": {
          "base_uri": "https://localhost:8080/"
        },
        "id": "xDOQgdW-7fL_",
        "outputId": "86ba8f4b-f8dd-4f34-8360-57ccb98ed7ca"
      },
      "source": [
        "torch.topk(model(images[4].view(1,1,28,28)),1)"
      ],
      "execution_count": null,
      "outputs": [
        {
          "output_type": "execute_result",
          "data": {
            "text/plain": [
              "torch.return_types.topk(values=tensor([[16.0683]], grad_fn=<TopkBackward>), indices=tensor([[4]]))"
            ]
          },
          "metadata": {
            "tags": []
          },
          "execution_count": 77
        }
      ]
    },
    {
      "cell_type": "code",
      "metadata": {
        "colab": {
          "base_uri": "https://localhost:8080/",
          "height": 282
        },
        "id": "z5P9BeSL0QEK",
        "outputId": "a3604311-ed71-4ca8-8bf6-1102936d908f"
      },
      "source": [
        "imshow(torchvision.utils.make_grid(images[4]))"
      ],
      "execution_count": null,
      "outputs": [
        {
          "output_type": "stream",
          "text": [
            "Clipping input data to the valid range for imshow with RGB data ([0..1] for floats or [0..255] for integers).\n"
          ],
          "name": "stderr"
        },
        {
          "output_type": "display_data",
          "data": {
            "image/png": "[encoded data removed]",
            "text/plain": [
              "<Figure size 432x288 with 1 Axes>"
            ]
          },
          "metadata": {
            "tags": [],
            "needs_background": "light"
          }
        }
      ]
    },
    {
      "cell_type": "code",
      "metadata": {
        "colab": {
          "base_uri": "https://localhost:8080/"
        },
        "id": "-Qphhx_jF0j3",
        "outputId": "98d6c499-86d8-414f-8f14-8f4443b8ae3b"
      },
      "source": [
        "print(images[:20].shape)\n",
        "print(labels.shape)"
      ],
      "execution_count": null,
      "outputs": [
        {
          "output_type": "stream",
          "text": [
            "torch.Size([20, 1, 28, 28])\n",
            "torch.Size([128])\n"
          ],
          "name": "stdout"
        }
      ]
    },
    {
      "cell_type": "code",
      "metadata": {
        "colab": {
          "base_uri": "https://localhost:8080/"
        },
        "id": "A4ZLRs9nG54V",
        "outputId": "66234b2f-1194-4289-8578-5d1c952679f2"
      },
      "source": [
        "labels"
      ],
      "execution_count": null,
      "outputs": [
        {
          "output_type": "execute_result",
          "data": {
            "text/plain": [
              "tensor([3, 8, 8, 0, 6, 6, 1, 6, 3, 1, 0, 9, 5, 7, 9, 8, 5, 7, 8, 6, 7, 0, 4, 9,\n",
              "        5, 2, 4, 0, 9, 6, 6, 5, 4, 5, 9, 2, 4, 1, 9, 5, 4, 6, 5, 6, 0, 9, 3, 9,\n",
              "        7, 6, 9, 8, 0, 3, 8, 8, 7, 7, 4, 6, 7, 3, 6, 3, 6, 2, 1, 2, 3, 7, 2, 6,\n",
              "        8, 8, 0, 2, 9, 3, 3, 8, 8, 1, 1, 7, 2, 5, 2, 7, 8, 9, 0, 3, 8, 6, 4, 6,\n",
              "        6, 0, 0, 7, 4, 5, 6, 3, 1, 1, 3, 6, 8, 7, 4, 0, 6, 2, 1, 3, 0, 4, 2, 7,\n",
              "        8, 3, 1, 2, 8, 0, 8, 3])"
            ]
          },
          "metadata": {
            "tags": []
          },
          "execution_count": 41
        }
      ]
    },
    {
      "cell_type": "code",
      "metadata": {
        "colab": {
          "base_uri": "https://localhost:8080/"
        },
        "id": "m1PpTpk-X4Z6",
        "outputId": "5d272ebb-fb8b-4b5a-85d3-c842a84133d6"
      },
      "source": [
        "images[0]"
      ],
      "execution_count": null,
      "outputs": [
        {
          "output_type": "execute_result",
          "data": {
            "text/plain": [
              "tensor([[[-0.4242, -0.4242, -0.4242, -0.4242, -0.4242, -0.4242, -0.4242,\n",
              "          -0.4242, -0.4242, -0.4242, -0.4242, -0.4242, -0.4242, -0.4242,\n",
              "          -0.4242, -0.4242, -0.4242, -0.4242, -0.4242, -0.4242, -0.4242,\n",
              "          -0.4242, -0.4242, -0.4242, -0.4242, -0.4242, -0.4242, -0.4242],\n",
              "         [-0.4242, -0.4242, -0.4242, -0.4242, -0.4242, -0.4242, -0.4242,\n",
              "          -0.4242, -0.4242, -0.4242, -0.4242, -0.4242, -0.4242, -0.4242,\n",
              "          -0.4242, -0.4242, -0.4242, -0.4242, -0.4242, -0.4242, -0.4242,\n",
              "          -0.4242, -0.4242, -0.4242, -0.4242, -0.4242, -0.4242, -0.4242],\n",
              "         [-0.4242, -0.4242, -0.4242, -0.4242, -0.4242, -0.4242, -0.4242,\n",
              "          -0.4242, -0.4242, -0.4242, -0.4242, -0.4242, -0.4242, -0.4242,\n",
              "          -0.4242, -0.4242, -0.4242, -0.4242, -0.4242, -0.4242, -0.4242,\n",
              "          -0.4242, -0.4242, -0.4242, -0.4242, -0.4242, -0.4242, -0.4242],\n",
              "         [-0.4242, -0.4242, -0.4242, -0.4242, -0.4242, -0.4242, -0.4242,\n",
              "          -0.4242, -0.4242, -0.4242, -0.4242, -0.4242, -0.4242, -0.4242,\n",
              "          -0.4242, -0.4242, -0.4242, -0.4242, -0.4242, -0.4242, -0.4242,\n",
              "          -0.4242, -0.4242, -0.4242, -0.4242, -0.4242, -0.4242, -0.4242],\n",
              "         [-0.4242, -0.4242, -0.4242, -0.4242, -0.4242, -0.4242, -0.4242,\n",
              "          -0.4242, -0.4242, -0.4242, -0.4242, -0.4242, -0.4242, -0.4242,\n",
              "          -0.4242, -0.4242, -0.4242, -0.4242, -0.4242, -0.4242, -0.4242,\n",
              "          -0.4242, -0.4242, -0.4242, -0.4242, -0.4242, -0.4242, -0.4242],\n",
              "         [-0.4242, -0.4242, -0.4242, -0.4242, -0.4242, -0.4242, -0.4242,\n",
              "          -0.4242, -0.4242, -0.4242, -0.4242, -0.4242, -0.4242, -0.4242,\n",
              "          -0.4242, -0.4242, -0.4242, -0.4242, -0.4242, -0.4242, -0.4242,\n",
              "          -0.4242, -0.4242, -0.4242, -0.4242, -0.4242, -0.4242, -0.4242],\n",
              "         [-0.4242, -0.4242, -0.4242, -0.4242, -0.4242, -0.4242, -0.4242,\n",
              "          -0.4242, -0.4242, -0.4242, -0.4242, -0.4242, -0.4242, -0.4242,\n",
              "          -0.4242, -0.4242, -0.4242, -0.4242, -0.4242, -0.4242, -0.4242,\n",
              "          -0.4242, -0.4242, -0.4242, -0.4242, -0.4242, -0.4242, -0.4242],\n",
              "         [-0.4242, -0.4242, -0.4242, -0.4242, -0.4242, -0.4242,  0.6450,\n",
              "           1.9305,  1.5996,  1.4978,  0.3395,  0.0340, -0.4242, -0.4242,\n",
              "          -0.4242, -0.4242, -0.4242, -0.4242, -0.4242, -0.4242, -0.4242,\n",
              "          -0.4242, -0.4242, -0.4242, -0.4242, -0.4242, -0.4242, -0.4242],\n",
              "         [-0.4242, -0.4242, -0.4242, -0.4242, -0.4242, -0.4242,  2.4015,\n",
              "           2.8088,  2.8088,  2.8088,  2.8088,  2.6433,  2.0960,  2.0960,\n",
              "           2.0960,  2.0960,  2.0960,  2.0960,  2.0960,  2.0960,  1.7396,\n",
              "           0.2377, -0.4242, -0.4242, -0.4242, -0.4242, -0.4242, -0.4242],\n",
              "         [-0.4242, -0.4242, -0.4242, -0.4242, -0.4242, -0.4242,  0.4286,\n",
              "           1.0268,  0.4922,  1.0268,  1.6505,  2.4651,  2.8088,  2.4396,\n",
              "           2.8088,  2.8088,  2.8088,  2.7578,  2.4906,  2.8088,  2.8088,\n",
              "           1.3577, -0.4242, -0.4242, -0.4242, -0.4242, -0.4242, -0.4242],\n",
              "         [-0.4242, -0.4242, -0.4242, -0.4242, -0.4242, -0.4242, -0.4242,\n",
              "          -0.4242, -0.4242, -0.4242, -0.4242, -0.2078,  0.4159, -0.2460,\n",
              "           0.4286,  0.4286,  0.4286,  0.3268, -0.1569,  2.5797,  2.8088,\n",
              "           0.9250, -0.4242, -0.4242, -0.4242, -0.4242, -0.4242, -0.4242],\n",
              "         [-0.4242, -0.4242, -0.4242, -0.4242, -0.4242, -0.4242, -0.4242,\n",
              "          -0.4242, -0.4242, -0.4242, -0.4242, -0.4242, -0.4242, -0.4242,\n",
              "          -0.4242, -0.4242, -0.4242, -0.4242,  0.6322,  2.7960,  2.2360,\n",
              "          -0.1951, -0.4242, -0.4242, -0.4242, -0.4242, -0.4242, -0.4242],\n",
              "         [-0.4242, -0.4242, -0.4242, -0.4242, -0.4242, -0.4242, -0.4242,\n",
              "          -0.4242, -0.4242, -0.4242, -0.4242, -0.4242, -0.4242, -0.4242,\n",
              "          -0.4242, -0.4242, -0.4242, -0.1442,  2.5415,  2.8215,  0.6322,\n",
              "          -0.4242, -0.4242, -0.4242, -0.4242, -0.4242, -0.4242, -0.4242],\n",
              "         [-0.4242, -0.4242, -0.4242, -0.4242, -0.4242, -0.4242, -0.4242,\n",
              "          -0.4242, -0.4242, -0.4242, -0.4242, -0.4242, -0.4242, -0.4242,\n",
              "          -0.4242, -0.4242, -0.4242,  1.2177,  2.8088,  2.6051,  0.1358,\n",
              "          -0.4242, -0.4242, -0.4242, -0.4242, -0.4242, -0.4242, -0.4242],\n",
              "         [-0.4242, -0.4242, -0.4242, -0.4242, -0.4242, -0.4242, -0.4242,\n",
              "          -0.4242, -0.4242, -0.4242, -0.4242, -0.4242, -0.4242, -0.4242,\n",
              "          -0.4242, -0.4242,  0.3268,  2.7451,  2.8088,  0.3649, -0.4242,\n",
              "          -0.4242, -0.4242, -0.4242, -0.4242, -0.4242, -0.4242, -0.4242],\n",
              "         [-0.4242, -0.4242, -0.4242, -0.4242, -0.4242, -0.4242, -0.4242,\n",
              "          -0.4242, -0.4242, -0.4242, -0.4242, -0.4242, -0.4242, -0.4242,\n",
              "          -0.4242, -0.4242,  1.2686,  2.8088,  1.9560, -0.3606, -0.4242,\n",
              "          -0.4242, -0.4242, -0.4242, -0.4242, -0.4242, -0.4242, -0.4242],\n",
              "         [-0.4242, -0.4242, -0.4242, -0.4242, -0.4242, -0.4242, -0.4242,\n",
              "          -0.4242, -0.4242, -0.4242, -0.4242, -0.4242, -0.4242, -0.4242,\n",
              "          -0.4242, -0.3097,  2.1851,  2.7324,  0.3140, -0.4242, -0.4242,\n",
              "          -0.4242, -0.4242, -0.4242, -0.4242, -0.4242, -0.4242, -0.4242],\n",
              "         [-0.4242, -0.4242, -0.4242, -0.4242, -0.4242, -0.4242, -0.4242,\n",
              "          -0.4242, -0.4242, -0.4242, -0.4242, -0.4242, -0.4242, -0.4242,\n",
              "          -0.4242,  1.1795,  2.8088,  1.8923, -0.4242, -0.4242, -0.4242,\n",
              "          -0.4242, -0.4242, -0.4242, -0.4242, -0.4242, -0.4242, -0.4242],\n",
              "         [-0.4242, -0.4242, -0.4242, -0.4242, -0.4242, -0.4242, -0.4242,\n",
              "          -0.4242, -0.4242, -0.4242, -0.4242, -0.4242, -0.4242, -0.4242,\n",
              "           0.5304,  2.7706,  2.6306,  0.3013, -0.4242, -0.4242, -0.4242,\n",
              "          -0.4242, -0.4242, -0.4242, -0.4242, -0.4242, -0.4242, -0.4242],\n",
              "         [-0.4242, -0.4242, -0.4242, -0.4242, -0.4242, -0.4242, -0.4242,\n",
              "          -0.4242, -0.4242, -0.4242, -0.4242, -0.4242, -0.4242, -0.1824,\n",
              "           2.3887,  2.8088,  1.6887, -0.4242, -0.4242, -0.4242, -0.4242,\n",
              "          -0.4242, -0.4242, -0.4242, -0.4242, -0.4242, -0.4242, -0.4242],\n",
              "         [-0.4242, -0.4242, -0.4242, -0.4242, -0.4242, -0.4242, -0.4242,\n",
              "          -0.4242, -0.4242, -0.4242, -0.4242, -0.4242, -0.3860,  2.1596,\n",
              "           2.8088,  2.3633,  0.0213, -0.4242, -0.4242, -0.4242, -0.4242,\n",
              "          -0.4242, -0.4242, -0.4242, -0.4242, -0.4242, -0.4242, -0.4242],\n",
              "         [-0.4242, -0.4242, -0.4242, -0.4242, -0.4242, -0.4242, -0.4242,\n",
              "          -0.4242, -0.4242, -0.4242, -0.4242, -0.4242,  0.0595,  2.8088,\n",
              "           2.8088,  0.5559, -0.4242, -0.4242, -0.4242, -0.4242, -0.4242,\n",
              "          -0.4242, -0.4242, -0.4242, -0.4242, -0.4242, -0.4242, -0.4242],\n",
              "         [-0.4242, -0.4242, -0.4242, -0.4242, -0.4242, -0.4242, -0.4242,\n",
              "          -0.4242, -0.4242, -0.4242, -0.4242, -0.0296,  2.4269,  2.8088,\n",
              "           1.0395, -0.4115, -0.4242, -0.4242, -0.4242, -0.4242, -0.4242,\n",
              "          -0.4242, -0.4242, -0.4242, -0.4242, -0.4242, -0.4242, -0.4242],\n",
              "         [-0.4242, -0.4242, -0.4242, -0.4242, -0.4242, -0.4242, -0.4242,\n",
              "          -0.4242, -0.4242, -0.4242, -0.4242,  1.2686,  2.8088,  2.8088,\n",
              "           0.2377, -0.4242, -0.4242, -0.4242, -0.4242, -0.4242, -0.4242,\n",
              "          -0.4242, -0.4242, -0.4242, -0.4242, -0.4242, -0.4242, -0.4242],\n",
              "         [-0.4242, -0.4242, -0.4242, -0.4242, -0.4242, -0.4242, -0.4242,\n",
              "          -0.4242, -0.4242, -0.4242,  0.3522,  2.6560,  2.8088,  2.8088,\n",
              "           0.2377, -0.4242, -0.4242, -0.4242, -0.4242, -0.4242, -0.4242,\n",
              "          -0.4242, -0.4242, -0.4242, -0.4242, -0.4242, -0.4242, -0.4242],\n",
              "         [-0.4242, -0.4242, -0.4242, -0.4242, -0.4242, -0.4242, -0.4242,\n",
              "          -0.4242, -0.4242, -0.4242,  1.1159,  2.8088,  2.8088,  2.3633,\n",
              "           0.0849, -0.4242, -0.4242, -0.4242, -0.4242, -0.4242, -0.4242,\n",
              "          -0.4242, -0.4242, -0.4242, -0.4242, -0.4242, -0.4242, -0.4242],\n",
              "         [-0.4242, -0.4242, -0.4242, -0.4242, -0.4242, -0.4242, -0.4242,\n",
              "          -0.4242, -0.4242, -0.4242,  1.1159,  2.8088,  2.2105, -0.1951,\n",
              "          -0.4242, -0.4242, -0.4242, -0.4242, -0.4242, -0.4242, -0.4242,\n",
              "          -0.4242, -0.4242, -0.4242, -0.4242, -0.4242, -0.4242, -0.4242],\n",
              "         [-0.4242, -0.4242, -0.4242, -0.4242, -0.4242, -0.4242, -0.4242,\n",
              "          -0.4242, -0.4242, -0.4242, -0.4242, -0.4242, -0.4242, -0.4242,\n",
              "          -0.4242, -0.4242, -0.4242, -0.4242, -0.4242, -0.4242, -0.4242,\n",
              "          -0.4242, -0.4242, -0.4242, -0.4242, -0.4242, -0.4242, -0.4242]]])"
            ]
          },
          "metadata": {
            "tags": []
          },
          "execution_count": 78
        }
      ]
    },
    {
      "cell_type": "code",
      "metadata": {
        "colab": {
          "base_uri": "https://localhost:8080/"
        },
        "id": "vXpJg5aTHCzP",
        "outputId": "1c020306-834b-45d8-fbf8-b48098f1d206"
      },
      "source": [
        "torch.rand(4) "
      ],
      "execution_count": null,
      "outputs": [
        {
          "output_type": "execute_result",
          "data": {
            "text/plain": [
              "tensor([0.7345, 1.3944, 0.8477, 1.1810])"
            ]
          },
          "metadata": {
            "tags": []
          },
          "execution_count": 74
        }
      ]
    },
    {
      "cell_type": "code",
      "metadata": {
        "id": "vFc4QnnoEFLS"
      },
      "source": [
        ""
      ],
      "execution_count": null,
      "outputs": []
    }
  ]
}