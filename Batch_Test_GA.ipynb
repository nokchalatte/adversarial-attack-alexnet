{
  "nbformat": 4,
  "nbformat_minor": 0,
  "metadata": {
    "colab": {
      "name": "Batch Test GA.ipynb",
      "provenance": [],
      "collapsed_sections": [
        "eN3WT4acsChM",
        "EIyte2XSODv2"
      ]
    },
    "kernelspec": {
      "name": "python3",
      "display_name": "Python 3"
    },
    "accelerator": "GPU",
    "widgets": {
      "application/vnd.jupyter.widget-state+json": {
        "89b5e95473c14abe86d57eecd3d58f70": {
          "model_module": "@jupyter-widgets/controls",
          "model_name": "HBoxModel",
          "state": {
            "_view_name": "HBoxView",
            "_dom_classes": [],
            "_model_name": "HBoxModel",
            "_view_module": "@jupyter-widgets/controls",
            "_model_module_version": "1.5.0",
            "_view_count": null,
            "_view_module_version": "1.5.0",
            "box_style": "",
            "layout": "IPY_MODEL_c9008cd65fc64d2797662d1b685988ff",
            "_model_module": "@jupyter-widgets/controls",
            "children": [
              "IPY_MODEL_2ba03996e5344cf183f7e9736573037d",
              "IPY_MODEL_32fc824867e34f5286321ae0e6f63353"
            ]
          }
        },
        "c9008cd65fc64d2797662d1b685988ff": {
          "model_module": "@jupyter-widgets/base",
          "model_name": "LayoutModel",
          "state": {
            "_view_name": "LayoutView",
            "grid_template_rows": null,
            "right": null,
            "justify_content": null,
            "_view_module": "@jupyter-widgets/base",
            "overflow": null,
            "_model_module_version": "1.2.0",
            "_view_count": null,
            "flex_flow": null,
            "width": null,
            "min_width": null,
            "border": null,
            "align_items": null,
            "bottom": null,
            "_model_module": "@jupyter-widgets/base",
            "top": null,
            "grid_column": null,
            "overflow_y": null,
            "overflow_x": null,
            "grid_auto_flow": null,
            "grid_area": null,
            "grid_template_columns": null,
            "flex": null,
            "_model_name": "LayoutModel",
            "justify_items": null,
            "grid_row": null,
            "max_height": null,
            "align_content": null,
            "visibility": null,
            "align_self": null,
            "height": null,
            "min_height": null,
            "padding": null,
            "grid_auto_rows": null,
            "grid_gap": null,
            "max_width": null,
            "order": null,
            "_view_module_version": "1.2.0",
            "grid_template_areas": null,
            "object_position": null,
            "object_fit": null,
            "grid_auto_columns": null,
            "margin": null,
            "display": null,
            "left": null
          }
        },
        "2ba03996e5344cf183f7e9736573037d": {
          "model_module": "@jupyter-widgets/controls",
          "model_name": "FloatProgressModel",
          "state": {
            "_view_name": "ProgressView",
            "style": "IPY_MODEL_cc7032216430497aac6a9d87142f9ad0",
            "_dom_classes": [],
            "description": "",
            "_model_name": "FloatProgressModel",
            "bar_style": "success",
            "max": 1,
            "_view_module": "@jupyter-widgets/controls",
            "_model_module_version": "1.5.0",
            "value": 1,
            "_view_count": null,
            "_view_module_version": "1.5.0",
            "orientation": "horizontal",
            "min": 0,
            "description_tooltip": null,
            "_model_module": "@jupyter-widgets/controls",
            "layout": "IPY_MODEL_5fffbe115bc24995a64f2e6eb4e939ba"
          }
        },
        "32fc824867e34f5286321ae0e6f63353": {
          "model_module": "@jupyter-widgets/controls",
          "model_name": "HTMLModel",
          "state": {
            "_view_name": "HTMLView",
            "style": "IPY_MODEL_a27c14a0e1d54c4aa349010e0b6750d6",
            "_dom_classes": [],
            "description": "",
            "_model_name": "HTMLModel",
            "placeholder": "​",
            "_view_module": "@jupyter-widgets/controls",
            "_model_module_version": "1.5.0",
            "value": " 9920512/? [00:01&lt;00:00, 7190946.62it/s]",
            "_view_count": null,
            "_view_module_version": "1.5.0",
            "description_tooltip": null,
            "_model_module": "@jupyter-widgets/controls",
            "layout": "IPY_MODEL_16f0fe323eeb4945913c62efdfc78b37"
          }
        },
        "cc7032216430497aac6a9d87142f9ad0": {
          "model_module": "@jupyter-widgets/controls",
          "model_name": "ProgressStyleModel",
          "state": {
            "_view_name": "StyleView",
            "_model_name": "ProgressStyleModel",
            "description_width": "initial",
            "_view_module": "@jupyter-widgets/base",
            "_model_module_version": "1.5.0",
            "_view_count": null,
            "_view_module_version": "1.2.0",
            "bar_color": null,
            "_model_module": "@jupyter-widgets/controls"
          }
        },
        "5fffbe115bc24995a64f2e6eb4e939ba": {
          "model_module": "@jupyter-widgets/base",
          "model_name": "LayoutModel",
          "state": {
            "_view_name": "LayoutView",
            "grid_template_rows": null,
            "right": null,
            "justify_content": null,
            "_view_module": "@jupyter-widgets/base",
            "overflow": null,
            "_model_module_version": "1.2.0",
            "_view_count": null,
            "flex_flow": null,
            "width": null,
            "min_width": null,
            "border": null,
            "align_items": null,
            "bottom": null,
            "_model_module": "@jupyter-widgets/base",
            "top": null,
            "grid_column": null,
            "overflow_y": null,
            "overflow_x": null,
            "grid_auto_flow": null,
            "grid_area": null,
            "grid_template_columns": null,
            "flex": null,
            "_model_name": "LayoutModel",
            "justify_items": null,
            "grid_row": null,
            "max_height": null,
            "align_content": null,
            "visibility": null,
            "align_self": null,
            "height": null,
            "min_height": null,
            "padding": null,
            "grid_auto_rows": null,
            "grid_gap": null,
            "max_width": null,
            "order": null,
            "_view_module_version": "1.2.0",
            "grid_template_areas": null,
            "object_position": null,
            "object_fit": null,
            "grid_auto_columns": null,
            "margin": null,
            "display": null,
            "left": null
          }
        },
        "a27c14a0e1d54c4aa349010e0b6750d6": {
          "model_module": "@jupyter-widgets/controls",
          "model_name": "DescriptionStyleModel",
          "state": {
            "_view_name": "StyleView",
            "_model_name": "DescriptionStyleModel",
            "description_width": "",
            "_view_module": "@jupyter-widgets/base",
            "_model_module_version": "1.5.0",
            "_view_count": null,
            "_view_module_version": "1.2.0",
            "_model_module": "@jupyter-widgets/controls"
          }
        },
        "16f0fe323eeb4945913c62efdfc78b37": {
          "model_module": "@jupyter-widgets/base",
          "model_name": "LayoutModel",
          "state": {
            "_view_name": "LayoutView",
            "grid_template_rows": null,
            "right": null,
            "justify_content": null,
            "_view_module": "@jupyter-widgets/base",
            "overflow": null,
            "_model_module_version": "1.2.0",
            "_view_count": null,
            "flex_flow": null,
            "width": null,
            "min_width": null,
            "border": null,
            "align_items": null,
            "bottom": null,
            "_model_module": "@jupyter-widgets/base",
            "top": null,
            "grid_column": null,
            "overflow_y": null,
            "overflow_x": null,
            "grid_auto_flow": null,
            "grid_area": null,
            "grid_template_columns": null,
            "flex": null,
            "_model_name": "LayoutModel",
            "justify_items": null,
            "grid_row": null,
            "max_height": null,
            "align_content": null,
            "visibility": null,
            "align_self": null,
            "height": null,
            "min_height": null,
            "padding": null,
            "grid_auto_rows": null,
            "grid_gap": null,
            "max_width": null,
            "order": null,
            "_view_module_version": "1.2.0",
            "grid_template_areas": null,
            "object_position": null,
            "object_fit": null,
            "grid_auto_columns": null,
            "margin": null,
            "display": null,
            "left": null
          }
        },
        "4a9fa96afac447b4b2615acf523c0ccd": {
          "model_module": "@jupyter-widgets/controls",
          "model_name": "HBoxModel",
          "state": {
            "_view_name": "HBoxView",
            "_dom_classes": [],
            "_model_name": "HBoxModel",
            "_view_module": "@jupyter-widgets/controls",
            "_model_module_version": "1.5.0",
            "_view_count": null,
            "_view_module_version": "1.5.0",
            "box_style": "",
            "layout": "IPY_MODEL_b88b73528e8743b383adcbfbf356d0c2",
            "_model_module": "@jupyter-widgets/controls",
            "children": [
              "IPY_MODEL_ab4a131a55554d4c83e80a010c96b528",
              "IPY_MODEL_dd44fc98a1fb49f19489960400186dec"
            ]
          }
        },
        "b88b73528e8743b383adcbfbf356d0c2": {
          "model_module": "@jupyter-widgets/base",
          "model_name": "LayoutModel",
          "state": {
            "_view_name": "LayoutView",
            "grid_template_rows": null,
            "right": null,
            "justify_content": null,
            "_view_module": "@jupyter-widgets/base",
            "overflow": null,
            "_model_module_version": "1.2.0",
            "_view_count": null,
            "flex_flow": null,
            "width": null,
            "min_width": null,
            "border": null,
            "align_items": null,
            "bottom": null,
            "_model_module": "@jupyter-widgets/base",
            "top": null,
            "grid_column": null,
            "overflow_y": null,
            "overflow_x": null,
            "grid_auto_flow": null,
            "grid_area": null,
            "grid_template_columns": null,
            "flex": null,
            "_model_name": "LayoutModel",
            "justify_items": null,
            "grid_row": null,
            "max_height": null,
            "align_content": null,
            "visibility": null,
            "align_self": null,
            "height": null,
            "min_height": null,
            "padding": null,
            "grid_auto_rows": null,
            "grid_gap": null,
            "max_width": null,
            "order": null,
            "_view_module_version": "1.2.0",
            "grid_template_areas": null,
            "object_position": null,
            "object_fit": null,
            "grid_auto_columns": null,
            "margin": null,
            "display": null,
            "left": null
          }
        },
        "ab4a131a55554d4c83e80a010c96b528": {
          "model_module": "@jupyter-widgets/controls",
          "model_name": "FloatProgressModel",
          "state": {
            "_view_name": "ProgressView",
            "style": "IPY_MODEL_67db52e08f994ed4829612c16d4fac49",
            "_dom_classes": [],
            "description": "  0%",
            "_model_name": "FloatProgressModel",
            "bar_style": "info",
            "max": 1,
            "_view_module": "@jupyter-widgets/controls",
            "_model_module_version": "1.5.0",
            "value": 0,
            "_view_count": null,
            "_view_module_version": "1.5.0",
            "orientation": "horizontal",
            "min": 0,
            "description_tooltip": null,
            "_model_module": "@jupyter-widgets/controls",
            "layout": "IPY_MODEL_510d06c288c94248940c216a228b7c85"
          }
        },
        "dd44fc98a1fb49f19489960400186dec": {
          "model_module": "@jupyter-widgets/controls",
          "model_name": "HTMLModel",
          "state": {
            "_view_name": "HTMLView",
            "style": "IPY_MODEL_3b63d15e80284733b3d6a75eaef793af",
            "_dom_classes": [],
            "description": "",
            "_model_name": "HTMLModel",
            "placeholder": "​",
            "_view_module": "@jupyter-widgets/controls",
            "_model_module_version": "1.5.0",
            "value": " 0/28881 [00:00&lt;?, ?it/s]",
            "_view_count": null,
            "_view_module_version": "1.5.0",
            "description_tooltip": null,
            "_model_module": "@jupyter-widgets/controls",
            "layout": "IPY_MODEL_3f59c32a344d4f398d287cdab1c3eb1a"
          }
        },
        "67db52e08f994ed4829612c16d4fac49": {
          "model_module": "@jupyter-widgets/controls",
          "model_name": "ProgressStyleModel",
          "state": {
            "_view_name": "StyleView",
            "_model_name": "ProgressStyleModel",
            "description_width": "initial",
            "_view_module": "@jupyter-widgets/base",
            "_model_module_version": "1.5.0",
            "_view_count": null,
            "_view_module_version": "1.2.0",
            "bar_color": null,
            "_model_module": "@jupyter-widgets/controls"
          }
        },
        "510d06c288c94248940c216a228b7c85": {
          "model_module": "@jupyter-widgets/base",
          "model_name": "LayoutModel",
          "state": {
            "_view_name": "LayoutView",
            "grid_template_rows": null,
            "right": null,
            "justify_content": null,
            "_view_module": "@jupyter-widgets/base",
            "overflow": null,
            "_model_module_version": "1.2.0",
            "_view_count": null,
            "flex_flow": null,
            "width": null,
            "min_width": null,
            "border": null,
            "align_items": null,
            "bottom": null,
            "_model_module": "@jupyter-widgets/base",
            "top": null,
            "grid_column": null,
            "overflow_y": null,
            "overflow_x": null,
            "grid_auto_flow": null,
            "grid_area": null,
            "grid_template_columns": null,
            "flex": null,
            "_model_name": "LayoutModel",
            "justify_items": null,
            "grid_row": null,
            "max_height": null,
            "align_content": null,
            "visibility": null,
            "align_self": null,
            "height": null,
            "min_height": null,
            "padding": null,
            "grid_auto_rows": null,
            "grid_gap": null,
            "max_width": null,
            "order": null,
            "_view_module_version": "1.2.0",
            "grid_template_areas": null,
            "object_position": null,
            "object_fit": null,
            "grid_auto_columns": null,
            "margin": null,
            "display": null,
            "left": null
          }
        },
        "3b63d15e80284733b3d6a75eaef793af": {
          "model_module": "@jupyter-widgets/controls",
          "model_name": "DescriptionStyleModel",
          "state": {
            "_view_name": "StyleView",
            "_model_name": "DescriptionStyleModel",
            "description_width": "",
            "_view_module": "@jupyter-widgets/base",
            "_model_module_version": "1.5.0",
            "_view_count": null,
            "_view_module_version": "1.2.0",
            "_model_module": "@jupyter-widgets/controls"
          }
        },
        "3f59c32a344d4f398d287cdab1c3eb1a": {
          "model_module": "@jupyter-widgets/base",
          "model_name": "LayoutModel",
          "state": {
            "_view_name": "LayoutView",
            "grid_template_rows": null,
            "right": null,
            "justify_content": null,
            "_view_module": "@jupyter-widgets/base",
            "overflow": null,
            "_model_module_version": "1.2.0",
            "_view_count": null,
            "flex_flow": null,
            "width": null,
            "min_width": null,
            "border": null,
            "align_items": null,
            "bottom": null,
            "_model_module": "@jupyter-widgets/base",
            "top": null,
            "grid_column": null,
            "overflow_y": null,
            "overflow_x": null,
            "grid_auto_flow": null,
            "grid_area": null,
            "grid_template_columns": null,
            "flex": null,
            "_model_name": "LayoutModel",
            "justify_items": null,
            "grid_row": null,
            "max_height": null,
            "align_content": null,
            "visibility": null,
            "align_self": null,
            "height": null,
            "min_height": null,
            "padding": null,
            "grid_auto_rows": null,
            "grid_gap": null,
            "max_width": null,
            "order": null,
            "_view_module_version": "1.2.0",
            "grid_template_areas": null,
            "object_position": null,
            "object_fit": null,
            "grid_auto_columns": null,
            "margin": null,
            "display": null,
            "left": null
          }
        },
        "ff9ab6cff0df43daa81fc4fd51919bd8": {
          "model_module": "@jupyter-widgets/controls",
          "model_name": "HBoxModel",
          "state": {
            "_view_name": "HBoxView",
            "_dom_classes": [],
            "_model_name": "HBoxModel",
            "_view_module": "@jupyter-widgets/controls",
            "_model_module_version": "1.5.0",
            "_view_count": null,
            "_view_module_version": "1.5.0",
            "box_style": "",
            "layout": "IPY_MODEL_613d5e844f2a4cf1911384295b950287",
            "_model_module": "@jupyter-widgets/controls",
            "children": [
              "IPY_MODEL_a5e36c441aaa494a830740175c742ae2",
              "IPY_MODEL_3f3068b3312440aab4bae9a3cd24c3cb"
            ]
          }
        },
        "613d5e844f2a4cf1911384295b950287": {
          "model_module": "@jupyter-widgets/base",
          "model_name": "LayoutModel",
          "state": {
            "_view_name": "LayoutView",
            "grid_template_rows": null,
            "right": null,
            "justify_content": null,
            "_view_module": "@jupyter-widgets/base",
            "overflow": null,
            "_model_module_version": "1.2.0",
            "_view_count": null,
            "flex_flow": null,
            "width": null,
            "min_width": null,
            "border": null,
            "align_items": null,
            "bottom": null,
            "_model_module": "@jupyter-widgets/base",
            "top": null,
            "grid_column": null,
            "overflow_y": null,
            "overflow_x": null,
            "grid_auto_flow": null,
            "grid_area": null,
            "grid_template_columns": null,
            "flex": null,
            "_model_name": "LayoutModel",
            "justify_items": null,
            "grid_row": null,
            "max_height": null,
            "align_content": null,
            "visibility": null,
            "align_self": null,
            "height": null,
            "min_height": null,
            "padding": null,
            "grid_auto_rows": null,
            "grid_gap": null,
            "max_width": null,
            "order": null,
            "_view_module_version": "1.2.0",
            "grid_template_areas": null,
            "object_position": null,
            "object_fit": null,
            "grid_auto_columns": null,
            "margin": null,
            "display": null,
            "left": null
          }
        },
        "a5e36c441aaa494a830740175c742ae2": {
          "model_module": "@jupyter-widgets/controls",
          "model_name": "FloatProgressModel",
          "state": {
            "_view_name": "ProgressView",
            "style": "IPY_MODEL_bde64d4e793643b1a748da7a29694b32",
            "_dom_classes": [],
            "description": "",
            "_model_name": "FloatProgressModel",
            "bar_style": "info",
            "max": 1,
            "_view_module": "@jupyter-widgets/controls",
            "_model_module_version": "1.5.0",
            "value": 1,
            "_view_count": null,
            "_view_module_version": "1.5.0",
            "orientation": "horizontal",
            "min": 0,
            "description_tooltip": null,
            "_model_module": "@jupyter-widgets/controls",
            "layout": "IPY_MODEL_bf3625d1d871464daf206da3b1fe44b0"
          }
        },
        "3f3068b3312440aab4bae9a3cd24c3cb": {
          "model_module": "@jupyter-widgets/controls",
          "model_name": "HTMLModel",
          "state": {
            "_view_name": "HTMLView",
            "style": "IPY_MODEL_4c1c068308b748ecb69ad7e40a9596c9",
            "_dom_classes": [],
            "description": "",
            "_model_name": "HTMLModel",
            "placeholder": "​",
            "_view_module": "@jupyter-widgets/controls",
            "_model_module_version": "1.5.0",
            "value": " 1654784/? [00:10&lt;00:00, 539486.68it/s]",
            "_view_count": null,
            "_view_module_version": "1.5.0",
            "description_tooltip": null,
            "_model_module": "@jupyter-widgets/controls",
            "layout": "IPY_MODEL_60301d7526774039a95f6a46ce2606d7"
          }
        },
        "bde64d4e793643b1a748da7a29694b32": {
          "model_module": "@jupyter-widgets/controls",
          "model_name": "ProgressStyleModel",
          "state": {
            "_view_name": "StyleView",
            "_model_name": "ProgressStyleModel",
            "description_width": "initial",
            "_view_module": "@jupyter-widgets/base",
            "_model_module_version": "1.5.0",
            "_view_count": null,
            "_view_module_version": "1.2.0",
            "bar_color": null,
            "_model_module": "@jupyter-widgets/controls"
          }
        },
        "bf3625d1d871464daf206da3b1fe44b0": {
          "model_module": "@jupyter-widgets/base",
          "model_name": "LayoutModel",
          "state": {
            "_view_name": "LayoutView",
            "grid_template_rows": null,
            "right": null,
            "justify_content": null,
            "_view_module": "@jupyter-widgets/base",
            "overflow": null,
            "_model_module_version": "1.2.0",
            "_view_count": null,
            "flex_flow": null,
            "width": null,
            "min_width": null,
            "border": null,
            "align_items": null,
            "bottom": null,
            "_model_module": "@jupyter-widgets/base",
            "top": null,
            "grid_column": null,
            "overflow_y": null,
            "overflow_x": null,
            "grid_auto_flow": null,
            "grid_area": null,
            "grid_template_columns": null,
            "flex": null,
            "_model_name": "LayoutModel",
            "justify_items": null,
            "grid_row": null,
            "max_height": null,
            "align_content": null,
            "visibility": null,
            "align_self": null,
            "height": null,
            "min_height": null,
            "padding": null,
            "grid_auto_rows": null,
            "grid_gap": null,
            "max_width": null,
            "order": null,
            "_view_module_version": "1.2.0",
            "grid_template_areas": null,
            "object_position": null,
            "object_fit": null,
            "grid_auto_columns": null,
            "margin": null,
            "display": null,
            "left": null
          }
        },
        "4c1c068308b748ecb69ad7e40a9596c9": {
          "model_module": "@jupyter-widgets/controls",
          "model_name": "DescriptionStyleModel",
          "state": {
            "_view_name": "StyleView",
            "_model_name": "DescriptionStyleModel",
            "description_width": "",
            "_view_module": "@jupyter-widgets/base",
            "_model_module_version": "1.5.0",
            "_view_count": null,
            "_view_module_version": "1.2.0",
            "_model_module": "@jupyter-widgets/controls"
          }
        },
        "60301d7526774039a95f6a46ce2606d7": {
          "model_module": "@jupyter-widgets/base",
          "model_name": "LayoutModel",
          "state": {
            "_view_name": "LayoutView",
            "grid_template_rows": null,
            "right": null,
            "justify_content": null,
            "_view_module": "@jupyter-widgets/base",
            "overflow": null,
            "_model_module_version": "1.2.0",
            "_view_count": null,
            "flex_flow": null,
            "width": null,
            "min_width": null,
            "border": null,
            "align_items": null,
            "bottom": null,
            "_model_module": "@jupyter-widgets/base",
            "top": null,
            "grid_column": null,
            "overflow_y": null,
            "overflow_x": null,
            "grid_auto_flow": null,
            "grid_area": null,
            "grid_template_columns": null,
            "flex": null,
            "_model_name": "LayoutModel",
            "justify_items": null,
            "grid_row": null,
            "max_height": null,
            "align_content": null,
            "visibility": null,
            "align_self": null,
            "height": null,
            "min_height": null,
            "padding": null,
            "grid_auto_rows": null,
            "grid_gap": null,
            "max_width": null,
            "order": null,
            "_view_module_version": "1.2.0",
            "grid_template_areas": null,
            "object_position": null,
            "object_fit": null,
            "grid_auto_columns": null,
            "margin": null,
            "display": null,
            "left": null
          }
        },
        "bc6b19b8c7d744469a03d86efe2f449b": {
          "model_module": "@jupyter-widgets/controls",
          "model_name": "HBoxModel",
          "state": {
            "_view_name": "HBoxView",
            "_dom_classes": [],
            "_model_name": "HBoxModel",
            "_view_module": "@jupyter-widgets/controls",
            "_model_module_version": "1.5.0",
            "_view_count": null,
            "_view_module_version": "1.5.0",
            "box_style": "",
            "layout": "IPY_MODEL_e86b3db41d0d4e20ba83b674cbdbd8a6",
            "_model_module": "@jupyter-widgets/controls",
            "children": [
              "IPY_MODEL_b661a6842a06412da813846891b0414c",
              "IPY_MODEL_55760fa4bb2f40159f993252df271a82"
            ]
          }
        },
        "e86b3db41d0d4e20ba83b674cbdbd8a6": {
          "model_module": "@jupyter-widgets/base",
          "model_name": "LayoutModel",
          "state": {
            "_view_name": "LayoutView",
            "grid_template_rows": null,
            "right": null,
            "justify_content": null,
            "_view_module": "@jupyter-widgets/base",
            "overflow": null,
            "_model_module_version": "1.2.0",
            "_view_count": null,
            "flex_flow": null,
            "width": null,
            "min_width": null,
            "border": null,
            "align_items": null,
            "bottom": null,
            "_model_module": "@jupyter-widgets/base",
            "top": null,
            "grid_column": null,
            "overflow_y": null,
            "overflow_x": null,
            "grid_auto_flow": null,
            "grid_area": null,
            "grid_template_columns": null,
            "flex": null,
            "_model_name": "LayoutModel",
            "justify_items": null,
            "grid_row": null,
            "max_height": null,
            "align_content": null,
            "visibility": null,
            "align_self": null,
            "height": null,
            "min_height": null,
            "padding": null,
            "grid_auto_rows": null,
            "grid_gap": null,
            "max_width": null,
            "order": null,
            "_view_module_version": "1.2.0",
            "grid_template_areas": null,
            "object_position": null,
            "object_fit": null,
            "grid_auto_columns": null,
            "margin": null,
            "display": null,
            "left": null
          }
        },
        "b661a6842a06412da813846891b0414c": {
          "model_module": "@jupyter-widgets/controls",
          "model_name": "FloatProgressModel",
          "state": {
            "_view_name": "ProgressView",
            "style": "IPY_MODEL_52c49f42e97140288c2537d3e5dae617",
            "_dom_classes": [],
            "description": "  0%",
            "_model_name": "FloatProgressModel",
            "bar_style": "info",
            "max": 1,
            "_view_module": "@jupyter-widgets/controls",
            "_model_module_version": "1.5.0",
            "value": 0,
            "_view_count": null,
            "_view_module_version": "1.5.0",
            "orientation": "horizontal",
            "min": 0,
            "description_tooltip": null,
            "_model_module": "@jupyter-widgets/controls",
            "layout": "IPY_MODEL_ce82a35cf4ff4dc4b44980e974faf846"
          }
        },
        "55760fa4bb2f40159f993252df271a82": {
          "model_module": "@jupyter-widgets/controls",
          "model_name": "HTMLModel",
          "state": {
            "_view_name": "HTMLView",
            "style": "IPY_MODEL_939e11b3a8644fcf9bc16dba8e4cee14",
            "_dom_classes": [],
            "description": "",
            "_model_name": "HTMLModel",
            "placeholder": "​",
            "_view_module": "@jupyter-widgets/controls",
            "_model_module_version": "1.5.0",
            "value": " 0/4542 [00:00&lt;?, ?it/s]",
            "_view_count": null,
            "_view_module_version": "1.5.0",
            "description_tooltip": null,
            "_model_module": "@jupyter-widgets/controls",
            "layout": "IPY_MODEL_f307e3ca684a4a59a04e23969585a584"
          }
        },
        "52c49f42e97140288c2537d3e5dae617": {
          "model_module": "@jupyter-widgets/controls",
          "model_name": "ProgressStyleModel",
          "state": {
            "_view_name": "StyleView",
            "_model_name": "ProgressStyleModel",
            "description_width": "initial",
            "_view_module": "@jupyter-widgets/base",
            "_model_module_version": "1.5.0",
            "_view_count": null,
            "_view_module_version": "1.2.0",
            "bar_color": null,
            "_model_module": "@jupyter-widgets/controls"
          }
        },
        "ce82a35cf4ff4dc4b44980e974faf846": {
          "model_module": "@jupyter-widgets/base",
          "model_name": "LayoutModel",
          "state": {
            "_view_name": "LayoutView",
            "grid_template_rows": null,
            "right": null,
            "justify_content": null,
            "_view_module": "@jupyter-widgets/base",
            "overflow": null,
            "_model_module_version": "1.2.0",
            "_view_count": null,
            "flex_flow": null,
            "width": null,
            "min_width": null,
            "border": null,
            "align_items": null,
            "bottom": null,
            "_model_module": "@jupyter-widgets/base",
            "top": null,
            "grid_column": null,
            "overflow_y": null,
            "overflow_x": null,
            "grid_auto_flow": null,
            "grid_area": null,
            "grid_template_columns": null,
            "flex": null,
            "_model_name": "LayoutModel",
            "justify_items": null,
            "grid_row": null,
            "max_height": null,
            "align_content": null,
            "visibility": null,
            "align_self": null,
            "height": null,
            "min_height": null,
            "padding": null,
            "grid_auto_rows": null,
            "grid_gap": null,
            "max_width": null,
            "order": null,
            "_view_module_version": "1.2.0",
            "grid_template_areas": null,
            "object_position": null,
            "object_fit": null,
            "grid_auto_columns": null,
            "margin": null,
            "display": null,
            "left": null
          }
        },
        "939e11b3a8644fcf9bc16dba8e4cee14": {
          "model_module": "@jupyter-widgets/controls",
          "model_name": "DescriptionStyleModel",
          "state": {
            "_view_name": "StyleView",
            "_model_name": "DescriptionStyleModel",
            "description_width": "",
            "_view_module": "@jupyter-widgets/base",
            "_model_module_version": "1.5.0",
            "_view_count": null,
            "_view_module_version": "1.2.0",
            "_model_module": "@jupyter-widgets/controls"
          }
        },
        "f307e3ca684a4a59a04e23969585a584": {
          "model_module": "@jupyter-widgets/base",
          "model_name": "LayoutModel",
          "state": {
            "_view_name": "LayoutView",
            "grid_template_rows": null,
            "right": null,
            "justify_content": null,
            "_view_module": "@jupyter-widgets/base",
            "overflow": null,
            "_model_module_version": "1.2.0",
            "_view_count": null,
            "flex_flow": null,
            "width": null,
            "min_width": null,
            "border": null,
            "align_items": null,
            "bottom": null,
            "_model_module": "@jupyter-widgets/base",
            "top": null,
            "grid_column": null,
            "overflow_y": null,
            "overflow_x": null,
            "grid_auto_flow": null,
            "grid_area": null,
            "grid_template_columns": null,
            "flex": null,
            "_model_name": "LayoutModel",
            "justify_items": null,
            "grid_row": null,
            "max_height": null,
            "align_content": null,
            "visibility": null,
            "align_self": null,
            "height": null,
            "min_height": null,
            "padding": null,
            "grid_auto_rows": null,
            "grid_gap": null,
            "max_width": null,
            "order": null,
            "_view_module_version": "1.2.0",
            "grid_template_areas": null,
            "object_position": null,
            "object_fit": null,
            "grid_auto_columns": null,
            "margin": null,
            "display": null,
            "left": null
          }
        }
      }
    }
  },
  "cells": [
    {
      "cell_type": "code",
      "metadata": {
        "colab": {
          "base_uri": "https://localhost:8080/"
        },
        "id": "F__6rkGJry0b",
        "outputId": "e9b08532-5b79-4e7d-f297-34d3a7665b6e"
      },
      "source": [
        "# Mount drive\n",
        "import os\n",
        "from google.colab import drive\n",
        "drive.mount('/gdrive')"
      ],
      "execution_count": null,
      "outputs": [
        {
          "output_type": "stream",
          "text": [
            "Mounted at /gdrive\n"
          ],
          "name": "stdout"
        }
      ]
    },
    {
      "cell_type": "code",
      "metadata": {
        "colab": {
          "base_uri": "https://localhost:8080/"
        },
        "id": "rNawt6Qer9kY",
        "outputId": "47c5d07b-75a1-4ce3-cf3c-db1dbc3e1f75"
      },
      "source": [
        "!ls '/gdrive/My Drive/CS454 AI-Based SE/Code'\n",
        "root = '/gdrive/My Drive/CS454 AI-Based SE/Code'"
      ],
      "execution_count": null,
      "outputs": [
        {
          "output_type": "stream",
          "text": [
            " alexnet_pytorch_vision.ipynb\t       DeepSearchTestEdited.ipynb\n",
            "'Batch Test GA.ipynb'\t\t      'Genetic Test.ipynb'\n",
            "'Chi_test (1).ipynb'\t\t       MNIST_for_test.ipynb\n",
            " Chi_test.ipynb\t\t\t       PSO_unfinished.ipynb\n",
            " ckpt.pt\t\t\t       result0.35.png\n",
            " ckpts\t\t\t\t       result0.3.png\n",
            "'Copy of Batch Test GA.ipynb'\t       result.png\n",
            "'Copy of DeepSearchTestEdited.ipynb'   results\n",
            "'Copy of Genetic Test.ipynb'\t       results2\n",
            "'Deep Search - Final.ipynb'\t       results3\n",
            " deepsearch_result2.txt\t\t       results_mnist\n",
            " deepsearch_result.gdoc\t\t       sample_image\n",
            " deepsearch_result.txt\t\t      '(version2) alexnet_pytorch_vision.ipynb'\n"
          ],
          "name": "stdout"
        }
      ]
    },
    {
      "cell_type": "code",
      "metadata": {
        "id": "M6ZGf6RdHqbY"
      },
      "source": [
        "from PIL import Image\n",
        "from tqdm import tqdm\n",
        "from pathlib import Path\n",
        "import time\n",
        "import matplotlib.pyplot as plt\n",
        "import random\n",
        "\n",
        "import numpy as np\n",
        "import torch\n",
        "import torch.nn as nn\n",
        "import torch.nn.functional as F\n",
        "import torch.optim as optim\n",
        "from torchvision.datasets import MNIST, ImageFolder\n",
        "from torch.utils.data import Dataset, DataLoader\n",
        "import torch.utils.data\n",
        "from torchvision import transforms\n",
        "from google.colab.patches import cv2_imshow"
      ],
      "execution_count": null,
      "outputs": []
    },
    {
      "cell_type": "code",
      "metadata": {
        "colab": {
          "base_uri": "https://localhost:8080/"
        },
        "id": "aW2C6s2BsYOu",
        "outputId": "416998d4-d300-429f-a22d-6dbcf6ea1c54"
      },
      "source": [
        "# Load the trained model using MNIST\n",
        "model = torch.hub.load('pytorch/vision:v0.6.0', 'alexnet')\n",
        "# Updating the classifiers\n",
        "model.features[0] = nn.Conv2d(1, 64, (4, 4), stride=(2,2), padding=(2, 2))\n",
        "model.classifier[4] = nn.Linear(4096,1024)\n",
        "\n",
        "# Updating the third and the last classifier that is the output layer of the network. Make sure to have 10 output nodes if we are going to get 10 class labels through our model.\n",
        "model.classifier[6] = nn.Linear(1024,10)\n",
        "model.load_state_dict(torch.load(root+'/results_mnist/best.pt', map_location=torch.device('cpu')))\n",
        "# else:\n",
        "#   model.load_state_dict(torch.load(root+'/results_mnist/best.pt'))\n",
        "model.eval()"
      ],
      "execution_count": null,
      "outputs": [
        {
          "output_type": "stream",
          "text": [
            "Downloading: \"https://github.com/pytorch/vision/archive/v0.6.0.zip\" to /root/.cache/torch/hub/v0.6.0.zip\n"
          ],
          "name": "stderr"
        },
        {
          "output_type": "execute_result",
          "data": {
            "text/plain": [
              "AlexNet(\n",
              "  (features): Sequential(\n",
              "    (0): Conv2d(1, 64, kernel_size=(4, 4), stride=(2, 2), padding=(2, 2))\n",
              "    (1): ReLU(inplace=True)\n",
              "    (2): MaxPool2d(kernel_size=3, stride=2, padding=0, dilation=1, ceil_mode=False)\n",
              "    (3): Conv2d(64, 192, kernel_size=(5, 5), stride=(1, 1), padding=(2, 2))\n",
              "    (4): ReLU(inplace=True)\n",
              "    (5): MaxPool2d(kernel_size=3, stride=2, padding=0, dilation=1, ceil_mode=False)\n",
              "    (6): Conv2d(192, 384, kernel_size=(3, 3), stride=(1, 1), padding=(1, 1))\n",
              "    (7): ReLU(inplace=True)\n",
              "    (8): Conv2d(384, 256, kernel_size=(3, 3), stride=(1, 1), padding=(1, 1))\n",
              "    (9): ReLU(inplace=True)\n",
              "    (10): Conv2d(256, 256, kernel_size=(3, 3), stride=(1, 1), padding=(1, 1))\n",
              "    (11): ReLU(inplace=True)\n",
              "    (12): MaxPool2d(kernel_size=3, stride=2, padding=0, dilation=1, ceil_mode=False)\n",
              "  )\n",
              "  (avgpool): AdaptiveAvgPool2d(output_size=(6, 6))\n",
              "  (classifier): Sequential(\n",
              "    (0): Dropout(p=0.5, inplace=False)\n",
              "    (1): Linear(in_features=9216, out_features=4096, bias=True)\n",
              "    (2): ReLU(inplace=True)\n",
              "    (3): Dropout(p=0.5, inplace=False)\n",
              "    (4): Linear(in_features=4096, out_features=1024, bias=True)\n",
              "    (5): ReLU(inplace=True)\n",
              "    (6): Linear(in_features=1024, out_features=10, bias=True)\n",
              "  )\n",
              ")"
            ]
          },
          "metadata": {
            "tags": []
          },
          "execution_count": 4
        }
      ]
    },
    {
      "cell_type": "markdown",
      "metadata": {
        "id": "NrPQDwlrUAGW"
      },
      "source": [
        "# Setup (MNIST)"
      ]
    },
    {
      "cell_type": "code",
      "metadata": {
        "id": "uPFMkYD8UHmc"
      },
      "source": [
        "# Set hyperparameters\r\n",
        "from easydict import EasyDict as edict\r\n",
        "\r\n",
        "torch.manual_seed(470)\r\n",
        "torch.cuda.manual_seed(470)\r\n",
        "\r\n",
        "args = edict()\r\n",
        "\r\n",
        "# basic options \r\n",
        "# args.name = 'main'                   # experiment name.\r\n",
        "args.ckpt_dir = 'ckpts'              # checkpoint directory name.\r\n",
        "args.ckpt_iter = 200               # how frequently checkpoints are saved.\r\n",
        "args.ckpt_reload = 'best'            # which checkpoint to re-load.\r\n",
        "args.gpu = True                      # whether or not to use gpu. \r\n",
        "\r\n",
        "# data options\r\n",
        "args.dataroot = 'dataset/mnist'    # where MNIST images exist.\r\n",
        "args.batch_size = 100                # number of mini-batch size."
      ],
      "execution_count": null,
      "outputs": []
    },
    {
      "cell_type": "code",
      "metadata": {
        "id": "YVEh4STBUTJJ"
      },
      "source": [
        "result_dir = Path(root) / 'results_mnist'\r\n",
        "result_dir.mkdir(parents=True, exist_ok=True)\r\n",
        "\r\n",
        "device = 'cuda' if torch.cuda.is_available() and args.gpu else 'cpu' # move the input and model to GPU for speed if available\r\n",
        "model = model.to(device)"
      ],
      "execution_count": null,
      "outputs": []
    },
    {
      "cell_type": "code",
      "metadata": {
        "id": "KqMowfZZUVta",
        "colab": {
          "base_uri": "https://localhost:8080/",
          "height": 382,
          "referenced_widgets": [
            "89b5e95473c14abe86d57eecd3d58f70",
            "c9008cd65fc64d2797662d1b685988ff",
            "2ba03996e5344cf183f7e9736573037d",
            "32fc824867e34f5286321ae0e6f63353",
            "cc7032216430497aac6a9d87142f9ad0",
            "5fffbe115bc24995a64f2e6eb4e939ba",
            "a27c14a0e1d54c4aa349010e0b6750d6",
            "16f0fe323eeb4945913c62efdfc78b37",
            "4a9fa96afac447b4b2615acf523c0ccd",
            "b88b73528e8743b383adcbfbf356d0c2",
            "ab4a131a55554d4c83e80a010c96b528",
            "dd44fc98a1fb49f19489960400186dec",
            "67db52e08f994ed4829612c16d4fac49",
            "510d06c288c94248940c216a228b7c85",
            "3b63d15e80284733b3d6a75eaef793af",
            "3f59c32a344d4f398d287cdab1c3eb1a",
            "ff9ab6cff0df43daa81fc4fd51919bd8",
            "613d5e844f2a4cf1911384295b950287",
            "a5e36c441aaa494a830740175c742ae2",
            "3f3068b3312440aab4bae9a3cd24c3cb",
            "bde64d4e793643b1a748da7a29694b32",
            "bf3625d1d871464daf206da3b1fe44b0",
            "4c1c068308b748ecb69ad7e40a9596c9",
            "60301d7526774039a95f6a46ce2606d7",
            "bc6b19b8c7d744469a03d86efe2f449b",
            "e86b3db41d0d4e20ba83b674cbdbd8a6",
            "b661a6842a06412da813846891b0414c",
            "55760fa4bb2f40159f993252df271a82",
            "52c49f42e97140288c2537d3e5dae617",
            "ce82a35cf4ff4dc4b44980e974faf846",
            "939e11b3a8644fcf9bc16dba8e4cee14",
            "f307e3ca684a4a59a04e23969585a584"
          ]
        },
        "outputId": "69d5bac2-978f-441e-dd7d-5f13389d5a8e"
      },
      "source": [
        "import torchvision\r\n",
        "train_transform = transforms.Compose([\r\n",
        "      torchvision.transforms.ToTensor(),\r\n",
        "      torchvision.transforms.Normalize(\r\n",
        "        (0.1307,), (0.3081,))\r\n",
        "    ])\r\n",
        "\r\n",
        "test_transform = transforms.Compose([\r\n",
        "      torchvision.transforms.ToTensor(),\r\n",
        "      torchvision.transforms.Normalize(\r\n",
        "        (0.1307,), (0.3081,))\r\n",
        "    ])\r\n",
        "\r\n",
        "train_dataset = MNIST(args.dataroot, download=True, train=True, transform=train_transform)\r\n",
        "test_dataset = MNIST(args.dataroot, download=True, train=False, transform=test_transform)\r\n",
        "\r\n",
        "# split_train = torch.utils.data.random_split(train_dataset, [100, len(train_dataset)-100])[0]\r\n",
        "\r\n",
        "train_dataloader = DataLoader(train_dataset, batch_size=args.batch_size, shuffle=True, drop_last=True)\r\n",
        "test_dataloader = DataLoader(test_dataset, batch_size=args.batch_size, shuffle=False, drop_last=False)"
      ],
      "execution_count": null,
      "outputs": [
        {
          "output_type": "stream",
          "text": [
            "Downloading http://yann.lecun.com/exdb/mnist/train-images-idx3-ubyte.gz to dataset/mnist/MNIST/raw/train-images-idx3-ubyte.gz\n"
          ],
          "name": "stdout"
        },
        {
          "output_type": "display_data",
          "data": {
            "application/vnd.jupyter.widget-view+json": {
              "model_id": "89b5e95473c14abe86d57eecd3d58f70",
              "version_minor": 0,
              "version_major": 2
            },
            "text/plain": [
              "HBox(children=(FloatProgress(value=1.0, bar_style='info', max=1.0), HTML(value='')))"
            ]
          },
          "metadata": {
            "tags": []
          }
        },
        {
          "output_type": "stream",
          "text": [
            "Extracting dataset/mnist/MNIST/raw/train-images-idx3-ubyte.gz to dataset/mnist/MNIST/raw\n",
            "Downloading http://yann.lecun.com/exdb/mnist/train-labels-idx1-ubyte.gz to dataset/mnist/MNIST/raw/train-labels-idx1-ubyte.gz\n",
            "\n"
          ],
          "name": "stdout"
        },
        {
          "output_type": "display_data",
          "data": {
            "application/vnd.jupyter.widget-view+json": {
              "model_id": "4a9fa96afac447b4b2615acf523c0ccd",
              "version_minor": 0,
              "version_major": 2
            },
            "text/plain": [
              "HBox(children=(FloatProgress(value=1.0, bar_style='info', max=1.0), HTML(value='')))"
            ]
          },
          "metadata": {
            "tags": []
          }
        },
        {
          "output_type": "stream",
          "text": [
            "Extracting dataset/mnist/MNIST/raw/train-labels-idx1-ubyte.gz to dataset/mnist/MNIST/raw\n",
            "Downloading http://yann.lecun.com/exdb/mnist/t10k-images-idx3-ubyte.gz to dataset/mnist/MNIST/raw/t10k-images-idx3-ubyte.gz\n"
          ],
          "name": "stdout"
        },
        {
          "output_type": "display_data",
          "data": {
            "application/vnd.jupyter.widget-view+json": {
              "model_id": "ff9ab6cff0df43daa81fc4fd51919bd8",
              "version_minor": 0,
              "version_major": 2
            },
            "text/plain": [
              "HBox(children=(FloatProgress(value=1.0, bar_style='info', max=1.0), HTML(value='')))"
            ]
          },
          "metadata": {
            "tags": []
          }
        },
        {
          "output_type": "stream",
          "text": [
            "Extracting dataset/mnist/MNIST/raw/t10k-images-idx3-ubyte.gz to dataset/mnist/MNIST/raw\n",
            "Downloading http://yann.lecun.com/exdb/mnist/t10k-labels-idx1-ubyte.gz to dataset/mnist/MNIST/raw/t10k-labels-idx1-ubyte.gz\n"
          ],
          "name": "stdout"
        },
        {
          "output_type": "display_data",
          "data": {
            "application/vnd.jupyter.widget-view+json": {
              "model_id": "bc6b19b8c7d744469a03d86efe2f449b",
              "version_minor": 0,
              "version_major": 2
            },
            "text/plain": [
              "HBox(children=(FloatProgress(value=1.0, bar_style='info', max=1.0), HTML(value='')))"
            ]
          },
          "metadata": {
            "tags": []
          }
        },
        {
          "output_type": "stream",
          "text": [
            "Extracting dataset/mnist/MNIST/raw/t10k-labels-idx1-ubyte.gz to dataset/mnist/MNIST/raw\n",
            "Processing...\n",
            "Done!\n"
          ],
          "name": "stdout"
        },
        {
          "output_type": "stream",
          "text": [
            "/usr/local/lib/python3.6/dist-packages/torchvision/datasets/mnist.py:480: UserWarning: The given NumPy array is not writeable, and PyTorch does not support non-writeable tensors. This means you can write to the underlying (supposedly non-writeable) NumPy array using the tensor. You may want to copy the array to protect its data or make it writeable before converting it to a tensor. This type of warning will be suppressed for the rest of this program. (Triggered internally at  /pytorch/torch/csrc/utils/tensor_numpy.cpp:141.)\n",
            "  return torch.from_numpy(parsed.astype(m[2], copy=False)).view(*s)\n"
          ],
          "name": "stderr"
        }
      ]
    },
    {
      "cell_type": "code",
      "metadata": {
        "colab": {
          "base_uri": "https://localhost:8080/",
          "height": 145
        },
        "id": "wsQsK6SArhhH",
        "outputId": "c88ecdb6-4cdf-4eb1-82e4-89bc3d9c43ed"
      },
      "source": [
        "def imshow(img):\r\n",
        "    img = img / 2 + 0.5     # unnormalize\r\n",
        "    npimg = img.numpy()\r\n",
        "    plt.imshow(np.transpose(npimg, (1, 2, 0)))\r\n",
        "    plt.show()\r\n",
        "\r\n",
        "# get some random training images\r\n",
        "dataiter = iter(test_dataloader)\r\n",
        "images, labels = dataiter.next()\r\n",
        "\r\n",
        "print(len(images[:50]))\r\n",
        "print(labels[:8])\r\n",
        "\r\n",
        "# show images\r\n",
        "imshow(torchvision.utils.make_grid(images[:8]))\r\n",
        "# print labels"
      ],
      "execution_count": null,
      "outputs": [
        {
          "output_type": "stream",
          "text": [
            "Clipping input data to the valid range for imshow with RGB data ([0..1] for floats or [0..255] for integers).\n"
          ],
          "name": "stderr"
        },
        {
          "output_type": "stream",
          "text": [
            "50\n",
            "tensor([7, 2, 1, 0, 4, 1, 4, 9])\n"
          ],
          "name": "stdout"
        },
        {
          "output_type": "display_data",
          "data": {
            "image/png": "[encoded data removed]",
            "text/plain": [
              "<Figure size 432x288 with 1 Axes>"
            ]
          },
          "metadata": {
            "tags": [],
            "needs_background": "light"
          }
        }
      ]
    },
    {
      "cell_type": "code",
      "metadata": {
        "colab": {
          "base_uri": "https://localhost:8080/",
          "height": 282
        },
        "id": "h-_Lo-VG1j5B",
        "outputId": "1937a651-2143-45e8-b6ea-b357530976ef"
      },
      "source": [
        "normimg = images[0] / 2 + 0.5\r\n",
        "normimg = normimg.numpy()\r\n",
        "plt.imshow(normimg.squeeze())"
      ],
      "execution_count": null,
      "outputs": [
        {
          "output_type": "execute_result",
          "data": {
            "text/plain": [
              "<matplotlib.image.AxesImage at 0x7f266c519be0>"
            ]
          },
          "metadata": {
            "tags": []
          },
          "execution_count": 16
        },
        {
          "output_type": "display_data",
          "data": {
            "image/png": "[encoded data removed]",
            "text/plain": [
              "<Figure size 432x288 with 1 Axes>"
            ]
          },
          "metadata": {
            "tags": [],
            "needs_background": "light"
          }
        }
      ]
    },
    {
      "cell_type": "markdown",
      "metadata": {
        "id": "eN3WT4acsChM"
      },
      "source": [
        "# Legacy"
      ]
    },
    {
      "cell_type": "code",
      "metadata": {
        "id": "Rxx9NakcbFjd"
      },
      "source": [
        "import pandas as pd\r\n",
        "final_test = pd.read_csv(root+\"/sample_image/test.csv\", dtype=np.float32)\r\n",
        "final_test = final_test.values/255\r\n",
        "test_tn = torch.from_numpy(final_test)"
      ],
      "execution_count": null,
      "outputs": []
    },
    {
      "cell_type": "code",
      "metadata": {
        "id": "P31GwO1yV2Ap"
      },
      "source": [
        "import random\r\n",
        "\r\n",
        "dataset_list = []\r\n",
        "\r\n",
        "for i in range(args.batch_size):\r\n",
        "  sample_test = test_tn[random.randint(0, len(test_tn))].view(28, 28)\r\n",
        "  sample_test = sample_test.to(device)\r\n",
        "  model = model.double()\r\n",
        "  output = model(sample_test.unsqueeze(0).unsqueeze(1).double())\r\n",
        "  # true_class = output.argmax(1)\r\n",
        "  dataset_list.append(sample_test)\r\n",
        "  # print(true_class)\r\n",
        "  # sample_test = sample_test.cpu()\r\n",
        "  # plt.imshow(sample_test)\r\n",
        "  # sample_test = sample_test.to(device)"
      ],
      "execution_count": null,
      "outputs": []
    },
    {
      "cell_type": "markdown",
      "metadata": {
        "id": "YLEkbv0WLr3B"
      },
      "source": [
        "# POBA-GA\n",
        "Algorithm: POBA-GA\n",
        "\n",
        "Functions:\n",
        "\n",
        "\n",
        "*   calc_perturb: Calculate the \"loss\" of the perturbation in order for the picture to remain rimilar\n",
        "*   fitness_function: Calculate the fitness of an adversarial example\n",
        "*   selection: select two parents from a list of population\n",
        "\n"
      ]
    },
    {
      "cell_type": "code",
      "metadata": {
        "id": "E93ZSdmCLy5A"
      },
      "source": [
        "def calc_perturb(x):\n",
        "  pm1 = 10\n",
        "  pm2 = 5.8\n",
        "  size = x.size()\n",
        "  m_a = size[0] # Height\n",
        "  m_b = size[1] # Width\n",
        "  total = 0\n",
        "  for i in range(m_a):\n",
        "    for j in range(m_b):\n",
        "      total = total + 1/(1+pow(np.e, -abs(x[i][j])*pm1 + pm2)) - 1/(1+pow(np.e, pm2))\n",
        "  return total\n",
        "\n",
        "def fitness_function(x, model, true_label, max_perturb):\n",
        "  alpha = 1 # Change this later\n",
        "  # All the labels are a number, indicating the category index\n",
        "  logits = model(x.unsqueeze(0).unsqueeze(0).double()) # Get the current prediction\n",
        "  logits = logits.cpu()\n",
        "  ordered_idx = np.argsort(logits[0].detach().numpy())\n",
        "  label1 = ordered_idx[-1]\n",
        "  label2 = ordered_idx[-2]\n",
        "  logits = logits.to(device)\n",
        "  if label1 != true_label:\n",
        "    att_perform = logits[0][label1] - logits[0][true_label]\n",
        "  else:\n",
        "    att_perform = logits[0][label2] - logits[0][true_label]\n",
        "\n",
        "  # print(\"att_perform \", att_perform)\n",
        "\n",
        "  if label1 != true_label:\n",
        "    return att_perform - (alpha/max_perturb) * calc_perturb(x)\n",
        "  else:\n",
        "    return att_perform\n",
        "\n",
        "def fr_roulette(idx, adv_examples, model, true_label, total_fitness, max_perturb):\n",
        "  def f_roulette(x):\n",
        "    return fitness_function(x, model, true_label, max_perturb)/total_fitness\n",
        "  total_roulette = 0\n",
        "  for i in range(len(adv_examples)):\n",
        "    if idx > i:\n",
        "      break\n",
        "    total_roulette = total_roulette + f_roulette(adv_examples[i])\n",
        "  return total_roulette\n",
        "\n",
        "def selection(adv_examples, perturbations, model, true_label, total_f, max_perturb):\n",
        "  k = np.random.rand()\n",
        "  i = 0\n",
        "  while k < fr_roulette(i, adv_examples, model, true_label, total_f, max_perturb):\n",
        "    i = i + 1\n",
        "  return perturbations[i]\n",
        "\n",
        "def crossover(cross_chance, parent1, parent2):\n",
        "  if np.random.rand() < cross_chance:\n",
        "    B_matrix = torch.randint(2, size=parent1.size())\n",
        "    B_matrix = B_matrix.to(device)\n",
        "    child1 = parent1 * B_matrix + parent2 * (1-B_matrix)\n",
        "    child2 = parent2 * B_matrix + parent1 * (1-B_matrix)\n",
        "    return child1, child2\n",
        "  else:\n",
        "    return parent1, parent2\n",
        "\n",
        "def mutation(mutate_chance, adv_ex):\n",
        "  C_matrix = torch.ones(adv_ex.size())\n",
        "  C_matrix = C_matrix.to(device)\n",
        "  # Randomly change some elements to (0, 2)\n",
        "  for i in range(random.randint(1, 5)): # Currently the number of element changed is random\n",
        "    i_loc = random.randint(0, adv_ex.size()[0]-1)\n",
        "    j_loc = random.randint(0, adv_ex.size()[1]-1)\n",
        "    # Even the channel that is changed is random\n",
        "    # print(C_matrix.size())\n",
        "    # print(C_matrix[0].size())\n",
        "    C_matrix[i_loc][j_loc] = random.uniform(0, 2.0)\n",
        "    # print(\"Hello\")\n",
        "  if np.random.rand() < mutate_chance:\n",
        "    return adv_ex*C_matrix\n",
        "  else:\n",
        "    return adv_ex\n",
        "\n",
        "def get_prediction(image, class_name):\n",
        "  predict = model(images.double().unsqueeze(0))\n",
        "  # print(class_name[predict.argmax(1)])\n",
        "  return predict"
      ],
      "execution_count": null,
      "outputs": []
    },
    {
      "cell_type": "markdown",
      "metadata": {
        "id": "EIyte2XSODv2"
      },
      "source": [
        "### Main Algorithm (Single Image)"
      ]
    },
    {
      "cell_type": "code",
      "metadata": {
        "id": "DGKK07yjOFIz"
      },
      "source": [
        "def POBA_GA(input_img, t_model, cross_p, mutate_p, alpha, gen, p_size, thresh=0):\n",
        "  img_size = input_img.size()\n",
        "  t_model = t_model.double()\n",
        "  init_pred = t_model(input_img.double().unsqueeze(0).unsqueeze(0)) #Get the current prediction\n",
        "  true_label = init_pred.argmax(1)\n",
        "  perturbation = []\n",
        "  curr_best = input_img\n",
        "  for i in range(p_size):\n",
        "    perturb = torch.rand(img_size)*0.3\n",
        "    perturb = perturb.to(device)\n",
        "    perturbation.append(perturb) # TODO! Normalize value\n",
        "  t = 0\n",
        "  while model(curr_best.double().unsqueeze(0).unsqueeze(0)).argmax(1) == true_label:\n",
        "    print(\"Generation {}/{}\".format(t, gen))\n",
        "    t = t + 1\n",
        "    # Create the set of adversarial examples by adding pertubation to input image\n",
        "    adv_examples = [torch.clip(input_img + perturb, 0, 1) for perturb in perturbation] # TODO! May need to clip the value in the img\n",
        "\n",
        "    # Get the fitness for all adversarial examples\n",
        "    calc_perturb_list = []\n",
        "    for i in range(p_size):\n",
        "      calc_perturb_list.append(calc_perturb(adv_examples[i]))\n",
        "    max_perturb = max(calc_perturb_list)\n",
        "\n",
        "    adv_fitness = []  \n",
        "    for i in range(p_size):\n",
        "      adv_fitness.append(fitness_function(adv_examples[i], t_model, true_label, max_perturb))\n",
        "    \n",
        "    # Get roulette probability\n",
        "    roulette = []\n",
        "    for i in range(p_size):\n",
        "      roulette.append(fr_roulette(i, adv_examples, t_model, true_label, sum(adv_fitness), max_perturb))\n",
        "\n",
        "    # # If the minimum fitness is reached, break the loop\n",
        "    # if max(adv_fitness) > thresh:\n",
        "    #   break;\n",
        "    new_perturb = []\n",
        "    for n in range(p_size//2):\n",
        "      parent1 = selection(adv_examples, perturbation, t_model, true_label, sum(adv_fitness), max_perturb)\n",
        "      parent2 = selection(adv_examples, perturbation, t_model, true_label, sum(adv_fitness), max_perturb)\n",
        "      child1, child2 = crossover(cross_p, parent1, parent2)\n",
        "      child1 = mutation(mutate_p, child1)\n",
        "      child2 = mutation(mutate_p, child2)\n",
        "      new_perturb.append(child1)\n",
        "      new_perturb.append(child2)\n",
        "    perturbation = new_perturb\n",
        "    curr_best = adv_examples[adv_fitness.index(max(adv_fitness))]\n",
        "  return curr_best"
      ],
      "execution_count": null,
      "outputs": []
    },
    {
      "cell_type": "markdown",
      "metadata": {
        "id": "IXy0pS_FTENC"
      },
      "source": [
        "### Main Algorithm (Batch)"
      ]
    },
    {
      "cell_type": "code",
      "metadata": {
        "id": "5Rj92dT-TH3i"
      },
      "source": [
        "import time\r\n",
        "def POBA_GA(dataset, t_model, cross_p, mutate_p, alpha, gen, p_size, thresh=0, resume=False):\r\n",
        "  t0 = time.time()\r\n",
        "  t_model = t_model.double()\r\n",
        "\r\n",
        "  if resume:\r\n",
        "    checkpoint = torch.load(ckpt_path)\r\n",
        "    num_success = checkpoint['num_success']\r\n",
        "    num_total = checkpoint['num_total']\r\n",
        "    num_queries = checkpoint['num_queries']\r\n",
        "    t_added = checkpoint['t_added']\r\n",
        "    j = checkpoint['j']\r\n",
        "    successlist = checkpoint['successlist']\r\n",
        "    faillist = checkpoint['faillist']\r\n",
        "    print(f'Resume training from data {j}')\r\n",
        "  else:\r\n",
        "    num_success = 0\r\n",
        "    num_total = 0\r\n",
        "    num_queries = [0]*len(dataset)\r\n",
        "    t_added = 0\r\n",
        "    j = 0\r\n",
        "    successlist = []\r\n",
        "    faillist = []\r\n",
        "\r\n",
        "  while j < len(dataset):\r\n",
        "    t0_j = time.time()\r\n",
        "    num_total += 1\r\n",
        "    input_img = dataset[j][0]\r\n",
        "    input_img = input_img.to(device)\r\n",
        "    img_size = input_img.size()\r\n",
        "    init_pred = t_model(input_img.double().unsqueeze(0).unsqueeze(0)) #Get the current prediction\r\n",
        "    true_label = init_pred.argmax(1)\r\n",
        "    perturbation = []\r\n",
        "    curr_best = input_img\r\n",
        "    for i in range(p_size):\r\n",
        "      perturb = torch.rand(img_size)*0.5\r\n",
        "      perturb = perturb.to(device)\r\n",
        "      perturbation.append(perturb) # TODO! Normalize value\r\n",
        "    t = 0\r\n",
        "    while t<gen:\r\n",
        "      print(\"Generation {}/{}\".format(t, gen-1))\r\n",
        "      t = t + 1\r\n",
        "      num_queries[j] += 1\r\n",
        "      # Create the set of adversarial examples by adding pertubation to input image\r\n",
        "      adv_examples = [torch.clip(input_img + perturb, 0, 1) for perturb in perturbation] # TODO! May need to clip the value in the img\r\n",
        "      #print(\"len adv_examples \", len(adv_examples))\r\n",
        "\r\n",
        "      # Get the fitness for all adversarial examples\r\n",
        "      calc_perturb_list = []\r\n",
        "      for i in range(p_size):\r\n",
        "        #print(i)\r\n",
        "        calc_perturb_list.append(calc_perturb(adv_examples[i]))\r\n",
        "      max_perturb = max(calc_perturb_list)\r\n",
        "\r\n",
        "      adv_fitness = []  \r\n",
        "      for i in range(p_size):\r\n",
        "        adv_fitness.append(fitness_function(adv_examples[i], t_model, true_label, max_perturb))\r\n",
        "      \r\n",
        "      # Get roulette probability\r\n",
        "      roulette = []\r\n",
        "      for i in range(p_size):\r\n",
        "        roulette.append(fr_roulette(i, adv_examples, t_model, true_label, sum(adv_fitness), max_perturb))\r\n",
        "\r\n",
        "      # If the minimum fitness is reached, break the loop\r\n",
        "      # if max(adv_fitness) > thresh:\r\n",
        "      #   break;\r\n",
        "      new_perturb = []\r\n",
        "      for n in range(p_size//2):\r\n",
        "        parent1 = selection(adv_examples, perturbation, t_model, true_label, sum(adv_fitness), max_perturb)\r\n",
        "        parent2 = selection(adv_examples, perturbation, t_model, true_label, sum(adv_fitness), max_perturb)\r\n",
        "        child1, child2 = crossover(cross_p, parent1, parent2)\r\n",
        "        child1 = mutation(mutate_p, child1)\r\n",
        "        child2 = mutation(mutate_p, child2)\r\n",
        "        new_perturb.append(child1)\r\n",
        "        new_perturb.append(child2)\r\n",
        "      perturbation = new_perturb\r\n",
        "      #print(\"new perturb size \", len(perturbation))\r\n",
        "      curr_best = adv_examples[adv_fitness.index(max(adv_fitness))]\r\n",
        "\r\n",
        "      if model(curr_best.double().unsqueeze(0).unsqueeze(0)).argmax(1) != true_label:\r\n",
        "        num_success += 1\r\n",
        "        successlist.append(true_label)\r\n",
        "        print(f\"Image data {j} successfully attacked\")\r\n",
        "        break\r\n",
        "    \r\n",
        "    if t == gen:\r\n",
        "      faillist.append(true_label)\r\n",
        "      print(f\"Image data {j} not successfully attacked\")\r\n",
        "    t_j = time.time() - t0_j\r\n",
        "    t_added += t_j\r\n",
        "    j += 1\r\n",
        "\r\n",
        "    # Save checkpoints every iteration.\r\n",
        "    checkpoint = {\r\n",
        "        'num_success': num_success,\r\n",
        "        'num_total': num_total,\r\n",
        "        'num_queries': num_queries,\r\n",
        "        't_added': t_added,\r\n",
        "        'j': j,\r\n",
        "        'successlist': successlist,\r\n",
        "        'faillist': faillist\r\n",
        "    }\r\n",
        "    torch.save(checkpoint, ckpt_path)\r\n",
        "    \r\n",
        "  success_rate = num_success/num_total\r\n",
        "  t_spent = time.time() - t0 + t_added\r\n",
        "  return success_rate, num_queries, t_spent, successlist, faillist"
      ],
      "execution_count": null,
      "outputs": []
    },
    {
      "cell_type": "code",
      "metadata": {
        "colab": {
          "base_uri": "https://localhost:8080/"
        },
        "id": "J0W64yhTW-ni",
        "outputId": "dd9b66c1-b20b-432f-a088-e3c0fb496429"
      },
      "source": [
        "ckpt_path = Path(root) / 'ckpts' / 'ckpt.pt'\r\n",
        "\r\n",
        "success_rate, num_queries, t_spent, successlist, faillist = POBA_GA(images[:24], model, 1, 0.1, 0, 20, 40, resume=True)\r\n",
        "avg_queries = sum(num_queries)/len(num_queries)\r\n",
        "print(f\"POBA-GA finished running, success rate: {success_rate:.3f}, average number of queries: {avg_queries},  time taken: {t_spent:.3f} secs\")\r\n",
        "print(successlist)\r\n",
        "print(faillist)"
      ],
      "execution_count": null,
      "outputs": [
        {
          "output_type": "stream",
          "text": [
            "Resume training from data 23\n",
            "Generation 0/19\n",
            "Generation 1/19\n",
            "Generation 2/19\n",
            "Generation 3/19\n",
            "Generation 4/19\n",
            "Generation 5/19\n",
            "Generation 6/19\n",
            "Generation 7/19\n",
            "Generation 8/19\n",
            "Generation 9/19\n",
            "Generation 10/19\n",
            "Generation 11/19\n",
            "Generation 12/19\n",
            "Generation 13/19\n",
            "Generation 14/19\n",
            "Generation 15/19\n",
            "Generation 16/19\n",
            "Generation 17/19\n",
            "Generation 18/19\n",
            "Generation 19/19\n",
            "Image data 23 not successfully attacked\n",
            "POBA-GA finished running, success rate: 0.042, average number of queries: 9.22,  time taken: 24368.035 secs\n",
            "[tensor([6], device='cuda:0')]\n",
            "[tensor([7], device='cuda:0'), tensor([2], device='cuda:0'), tensor([1], device='cuda:0'), tensor([0], device='cuda:0'), tensor([4], device='cuda:0'), tensor([1], device='cuda:0'), tensor([4], device='cuda:0'), tensor([9], device='cuda:0'), tensor([5], device='cuda:0'), tensor([9], device='cuda:0'), tensor([0], device='cuda:0'), tensor([6], device='cuda:0'), tensor([9], device='cuda:0'), tensor([0], device='cuda:0'), tensor([1], device='cuda:0'), tensor([5], device='cuda:0'), tensor([9], device='cuda:0'), tensor([7], device='cuda:0'), tensor([3], device='cuda:0'), tensor([4], device='cuda:0'), tensor([9], device='cuda:0'), tensor([6], device='cuda:0'), tensor([5], device='cuda:0')]\n"
          ],
          "name": "stdout"
        }
      ]
    },
    {
      "cell_type": "code",
      "metadata": {
        "id": "G_hecnUUgyJI"
      },
      "source": [
        "# result_output = model(result.double().view(1, 1, 28,28))\r\n",
        "# print(result_output.argmax(1))\r\n",
        "# plt.imshow(result.view(28, 28))\r\n",
        "# image_dir = Path(root)\r\n",
        "# plt.savefig(f\"{image_dir}/result.png\")"
      ],
      "execution_count": null,
      "outputs": []
    }
  ]
}